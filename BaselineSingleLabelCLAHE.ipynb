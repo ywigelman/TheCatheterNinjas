{
 "cells": [
  {
   "cell_type": "markdown",
   "metadata": {},
   "source": [
    "# Info\n",
    "\n",
    "- building a baseline model using the cats vs. dogs architecture.\n",
    "- this baseline model includes a preprocessing steps of rescaling of all images to 80x80 size with a single channel (gray scale)\n",
    "- this baseline model is built for binary classification:\n",
    "    - output layer has a Sigmoid activation function \n",
    "    - loss function is binary_crossentropy\n",
    "    - chosen metrics is AUC with and accuracy"
   ]
  },
  {
   "cell_type": "markdown",
   "metadata": {},
   "source": [
    "# Setup\n",
    "\n",
    "## import libraries and modules"
   ]
  },
  {
   "cell_type": "code",
   "execution_count": 1,
   "metadata": {
    "ExecuteTime": {
     "end_time": "2021-01-24T16:30:25.026843Z",
     "start_time": "2021-01-24T16:30:23.499919Z"
    },
    "scrolled": true
   },
   "outputs": [],
   "source": [
    "import matplotlib.pyplot as plt\n",
    "import warnings\n",
    "import seaborn as sns\n",
    "warnings.filterwarnings(\"ignore\")\n",
    "warnings.filterwarnings(\"ignore\", category=DeprecationWarning) \n",
    "import os\n",
    "import cv2\n",
    "import numpy as np\n",
    "from pathlib import Path\n",
    "from multiprocessing import Pool\n",
    "import pandas as pd\n",
    "from tensorflow.keras.models import Sequential\n",
    "from tensorflow.keras.layers import Dense, Flatten,Conv2D, MaxPooling2D\n",
    "from tensorflow.keras.callbacks import EarlyStopping, ModelCheckpoint\n",
    "from tensorflow.keras.layers.experimental.preprocessing import Rescaling\n",
    "from tensorflow.keras.metrics import AUC\n",
    "from sklearn.metrics import confusion_matrix, classification_report\n",
    "%matplotlib inline"
   ]
  },
  {
   "cell_type": "markdown",
   "metadata": {},
   "source": [
    "## set constants"
   ]
  },
  {
   "cell_type": "code",
   "execution_count": 2,
   "metadata": {
    "ExecuteTime": {
     "end_time": "2021-01-24T16:30:25.147957Z",
     "start_time": "2021-01-24T16:30:25.028061Z"
    }
   },
   "outputs": [],
   "source": [
    "TRAIN_META = 'train.csv'\n",
    "\n",
    "TRAIN_IMG_DIR = Path('train') \n",
    "TEST_IMG_DIR = Path('test') \n",
    "TRAIN_RESIZE_DIR = Path('BaselineSingleLabelCLAHE/train_resize') \n",
    "TEST_RESIZE_DIR = Path('BaselineSingleLabelCLAHE/test_resize') \n",
    "MODEL_CHECKPOINTS = 'BaselineSingleLabelCLAHE/Checkpoint/weights.{epoch:02d}-{val_loss:.2f}.hdf5'\n",
    "\n",
    "CASE = 'StudyInstanceUID'\n",
    "NEW_SIZE = (80,80)\n",
    "IMG_SIZE = (80, 80, 1)\n",
    "\n",
    "VALIDATION_SIZE = 0.2\n",
    "RANDOM_STATE = 42\n",
    "\n",
    "RSCL = 1/255\n",
    "ACTIVATION = 'relu'\n",
    "N_FILTERS = 64\n",
    "FILTER2D_size = 1\n",
    "METRICS = [AUC(), 'accuracy']\n",
    "DENSE_DIM = 64\n",
    "OUT_DIM = 1\n",
    "OUT_ACTIVATION = 'sigmoid'\n",
    "OPTIMIZER = 'adam'\n",
    "LOSS = 'binary_crossentropy'\n",
    "EPOCHS = 100\n",
    "BATCH_SIZE = 32\n",
    "\n",
    "os.makedirs(TRAIN_RESIZE_DIR, exist_ok=True)\n",
    "os.makedirs(TEST_RESIZE_DIR, exist_ok=True)\n",
    "np.random.seed(RANDOM_STATE)"
   ]
  },
  {
   "cell_type": "markdown",
   "metadata": {},
   "source": [
    "## load meta file"
   ]
  },
  {
   "cell_type": "code",
   "execution_count": 3,
   "metadata": {
    "ExecuteTime": {
     "end_time": "2021-01-24T16:30:25.195892Z",
     "start_time": "2021-01-24T16:30:25.149449Z"
    }
   },
   "outputs": [],
   "source": [
    "df = pd.read_csv(TRAIN_META)"
   ]
  },
  {
   "cell_type": "markdown",
   "metadata": {},
   "source": [
    "## get labels"
   ]
  },
  {
   "cell_type": "code",
   "execution_count": 4,
   "metadata": {
    "ExecuteTime": {
     "end_time": "2021-01-24T16:30:25.201615Z",
     "start_time": "2021-01-24T16:30:25.197000Z"
    }
   },
   "outputs": [],
   "source": [
    "labels = df.select_dtypes(int).columns"
   ]
  },
  {
   "cell_type": "markdown",
   "metadata": {},
   "source": [
    "## functions"
   ]
  },
  {
   "cell_type": "code",
   "execution_count": 5,
   "metadata": {
    "ExecuteTime": {
     "end_time": "2021-01-24T16:30:25.209797Z",
     "start_time": "2021-01-24T16:30:25.202635Z"
    }
   },
   "outputs": [],
   "source": [
    "def show_img(img: np.array, ax=None, title: str='', cmap: str = 'gray'):\n",
    "    if not ax:\n",
    "        _, ax = plt.subplots()\n",
    "    ax.imshow(img, cmap=cmap, ax=ax)\n",
    "    ax.set_title(title)\n",
    "    \n",
    "def preprocess(img_path: Path, processed_path: Path, size: tuple=NEW_SIZE, \n",
    "               scale=cv2.IMREAD_GRAYSCALE, clip_limit=None, \n",
    "               title_grid_size=None):\n",
    "    new_img = cv2.createCLAHE(clipLimit=clip_limit, \n",
    "                              tileGridSize=title_grid_size).apply(\n",
    "        cv2.resize(cv2.imread(str(img_path), cv2.IMREAD_GRAYSCALE), NEW_SIZE))\n",
    "    cv2.imwrite(str(processed_path), new_img)\n",
    "    \n",
    "\n",
    "def validate_file(record: Path):\n",
    "    if record.is_file() & record.exists():\n",
    "        return True\n",
    "    return False\n",
    "\n",
    "\n",
    "def numipy_train(meta: pd.DataFrame, img_dir: Path, suffix: str = '.jpg', \n",
    "                 case_col: str = CASE, labels_col = labels, \n",
    "                 scale=cv2.IMREAD_GRAYSCALE, image_dir_temp_col = 'images', \n",
    "                 cpu: int=None, binary_label: str = None):\n",
    "    \n",
    "    meta[image_dir_temp_col] = img_dir / (meta[case_col] + suffix)\n",
    "    msk = meta[image_dir_temp_col].apply(validate_file)\n",
    "    meta = meta[msk]\n",
    "    if binary_label:\n",
    "        binary_label = [label for label in labels_col if binary_label in label]\n",
    "        label_values = np.any(meta[binary_label], axis=1).values\n",
    "    else:\n",
    "        label_values = meta[labels_col].values\n",
    "    images = meta[image_dir_temp_col].to_list() \n",
    "    images = [(str(image), scale) for image in images]\n",
    "    with Pool(cpu) as p: images = p.starmap(cv2.imread, images)\n",
    "    return np.array(images), label_values\n",
    "\n",
    "\n",
    "def multi_preprocess(input_dir: Path, output_dir: Path, glob: str='*.jpg',\n",
    "                      size: tuple=NEW_SIZE, scale=cv2.IMREAD_GRAYSCALE, \n",
    "                      clip_limit=None, title_grid_size=None, \n",
    "                      cpu: int=None):\n",
    "    pool_lst = []\n",
    "    os.makedirs(output_dir, exist_ok=True)\n",
    "    for input_img in input_dir.glob(glob):\n",
    "        pool_lst.append((input_img, output_dir/input_img.name, size, scale, clip_limit, title_grid_size))\n",
    "    with Pool(cpu) as p: p.starmap(preprocess, pool_lst)\n"
   ]
  },
  {
   "cell_type": "markdown",
   "metadata": {},
   "source": [
    "# Preprocess\n",
    "\n",
    "## preprocess train"
   ]
  },
  {
   "cell_type": "code",
   "execution_count": 6,
   "metadata": {
    "ExecuteTime": {
     "end_time": "2021-01-24T16:32:11.525539Z",
     "start_time": "2021-01-24T16:30:25.210730Z"
    }
   },
   "outputs": [],
   "source": [
    "multi_preprocess(TRAIN_IMG_DIR, TRAIN_RESIZE_DIR)"
   ]
  },
  {
   "cell_type": "markdown",
   "metadata": {},
   "source": [
    "## preprocess test"
   ]
  },
  {
   "cell_type": "code",
   "execution_count": 7,
   "metadata": {
    "ExecuteTime": {
     "end_time": "2021-01-24T16:32:25.003698Z",
     "start_time": "2021-01-24T16:32:11.527641Z"
    }
   },
   "outputs": [],
   "source": [
    "multi_preprocess(TEST_IMG_DIR, TEST_RESIZE_DIR)"
   ]
  },
  {
   "cell_type": "markdown",
   "metadata": {},
   "source": [
    "## convert train into numpy array"
   ]
  },
  {
   "cell_type": "code",
   "execution_count": 8,
   "metadata": {
    "ExecuteTime": {
     "end_time": "2021-01-24T16:32:25.922147Z",
     "start_time": "2021-01-24T16:32:25.005034Z"
    }
   },
   "outputs": [],
   "source": [
    "X_train, y_train = numipy_train(df, TRAIN_RESIZE_DIR, binary_label='CVC')"
   ]
  },
  {
   "cell_type": "markdown",
   "metadata": {
    "ExecuteTime": {
     "end_time": "2021-01-23T15:49:34.854458Z",
     "start_time": "2021-01-23T15:49:34.851131Z"
    }
   },
   "source": [
    "# basic CNN\n",
    "\n",
    "## make sequential model architecture"
   ]
  },
  {
   "cell_type": "code",
   "execution_count": 9,
   "metadata": {
    "ExecuteTime": {
     "end_time": "2021-01-24T16:32:25.974065Z",
     "start_time": "2021-01-24T16:32:25.923378Z"
    }
   },
   "outputs": [],
   "source": [
    "model = Sequential([Rescaling(RSCL, input_shape=IMG_SIZE, name='rescaling'),\n",
    "                    Conv2D(N_FILTERS, FILTER2D_size, activation=ACTIVATION, name='conv_1'), \n",
    "                    MaxPooling2D(name='max_pool1'),  \n",
    "                    Conv2D(N_FILTERS, FILTER2D_size, activation=ACTIVATION, name='conv_2'), \n",
    "                    MaxPooling2D(name='max_pool2'), \n",
    "                    Conv2D(N_FILTERS, FILTER2D_size, activation=ACTIVATION, name='conv_3'),\n",
    "                    MaxPooling2D(name='max_pool3'), \n",
    "                    Flatten(name='flat'), \n",
    "                    Dense(DENSE_DIM, activation=ACTIVATION, name='dense_1'), \n",
    "                    Dense(1, activation=OUT_ACTIVATION, name='out')])"
   ]
  },
  {
   "cell_type": "markdown",
   "metadata": {},
   "source": [
    "## model summary"
   ]
  },
  {
   "cell_type": "code",
   "execution_count": 10,
   "metadata": {
    "ExecuteTime": {
     "end_time": "2021-01-24T16:32:25.979539Z",
     "start_time": "2021-01-24T16:32:25.975111Z"
    }
   },
   "outputs": [
    {
     "name": "stdout",
     "output_type": "stream",
     "text": [
      "Model: \"sequential\"\n",
      "_________________________________________________________________\n",
      "Layer (type)                 Output Shape              Param #   \n",
      "=================================================================\n",
      "rescaling (Rescaling)        (None, 80, 80, 1)         0         \n",
      "_________________________________________________________________\n",
      "conv_1 (Conv2D)              (None, 80, 80, 64)        128       \n",
      "_________________________________________________________________\n",
      "max_pool1 (MaxPooling2D)     (None, 40, 40, 64)        0         \n",
      "_________________________________________________________________\n",
      "conv_2 (Conv2D)              (None, 40, 40, 64)        4160      \n",
      "_________________________________________________________________\n",
      "max_pool2 (MaxPooling2D)     (None, 20, 20, 64)        0         \n",
      "_________________________________________________________________\n",
      "conv_3 (Conv2D)              (None, 20, 20, 64)        4160      \n",
      "_________________________________________________________________\n",
      "max_pool3 (MaxPooling2D)     (None, 10, 10, 64)        0         \n",
      "_________________________________________________________________\n",
      "flat (Flatten)               (None, 6400)              0         \n",
      "_________________________________________________________________\n",
      "dense_1 (Dense)              (None, 64)                409664    \n",
      "_________________________________________________________________\n",
      "out (Dense)                  (None, 1)                 65        \n",
      "=================================================================\n",
      "Total params: 418,177\n",
      "Trainable params: 418,177\n",
      "Non-trainable params: 0\n",
      "_________________________________________________________________\n"
     ]
    }
   ],
   "source": [
    "model.summary()"
   ]
  },
  {
   "cell_type": "markdown",
   "metadata": {},
   "source": [
    "## Callbacks"
   ]
  },
  {
   "cell_type": "code",
   "execution_count": 11,
   "metadata": {
    "ExecuteTime": {
     "end_time": "2021-01-24T16:32:25.983246Z",
     "start_time": "2021-01-24T16:32:25.980450Z"
    }
   },
   "outputs": [],
   "source": [
    "checkpoint = ModelCheckpoint(MODEL_CHECKPOINTS, monitor='val_loss', verbose=1, \n",
    "save_best_only=False, save_weights_only=False, mode='auto')\n",
    "callback = EarlyStopping(monitor='val_loss', patience=5)"
   ]
  },
  {
   "cell_type": "markdown",
   "metadata": {},
   "source": [
    "## compile model"
   ]
  },
  {
   "cell_type": "code",
   "execution_count": 12,
   "metadata": {
    "ExecuteTime": {
     "end_time": "2021-01-24T16:32:25.994502Z",
     "start_time": "2021-01-24T16:32:25.984107Z"
    }
   },
   "outputs": [],
   "source": [
    "model.compile(optimizer=OPTIMIZER, loss=LOSS, metrics=METRICS)"
   ]
  },
  {
   "cell_type": "markdown",
   "metadata": {},
   "source": [
    "# train"
   ]
  },
  {
   "cell_type": "code",
   "execution_count": 13,
   "metadata": {
    "ExecuteTime": {
     "end_time": "2021-01-24T16:43:10.896034Z",
     "start_time": "2021-01-24T16:32:25.996017Z"
    },
    "scrolled": true
   },
   "outputs": [
    {
     "name": "stdout",
     "output_type": "stream",
     "text": [
      "Epoch 1/100\n",
      "753/753 [==============================] - 44s 57ms/step - loss: 0.1342 - auc: 0.4973 - accuracy: 0.9659 - val_loss: 0.1062 - val_auc: 0.6373 - val_accuracy: 0.9776\n",
      "\n",
      "Epoch 00001: saving model to BaselineSingleLabelCLAHE/Checkpoint/weights.01-0.11.hdf5\n",
      "Epoch 2/100\n",
      "753/753 [==============================] - 42s 56ms/step - loss: 0.1242 - auc: 0.5271 - accuracy: 0.9734 - val_loss: 0.1018 - val_auc: 0.7413 - val_accuracy: 0.9776\n",
      "\n",
      "Epoch 00002: saving model to BaselineSingleLabelCLAHE/Checkpoint/weights.02-0.10.hdf5\n",
      "Epoch 3/100\n",
      "753/753 [==============================] - 43s 57ms/step - loss: 0.1171 - auc: 0.6345 - accuracy: 0.9741 - val_loss: 0.0995 - val_auc: 0.7567 - val_accuracy: 0.9776\n",
      "\n",
      "Epoch 00003: saving model to BaselineSingleLabelCLAHE/Checkpoint/weights.03-0.10.hdf5\n",
      "Epoch 4/100\n",
      "753/753 [==============================] - 43s 57ms/step - loss: 0.1106 - auc: 0.6766 - accuracy: 0.9754 - val_loss: 0.0982 - val_auc: 0.7620 - val_accuracy: 0.9776\n",
      "\n",
      "Epoch 00004: saving model to BaselineSingleLabelCLAHE/Checkpoint/weights.04-0.10.hdf5\n",
      "Epoch 5/100\n",
      "753/753 [==============================] - 43s 57ms/step - loss: 0.1075 - auc: 0.6714 - accuracy: 0.9764 - val_loss: 0.0996 - val_auc: 0.7651 - val_accuracy: 0.9776\n",
      "\n",
      "Epoch 00005: saving model to BaselineSingleLabelCLAHE/Checkpoint/weights.05-0.10.hdf5\n",
      "Epoch 6/100\n",
      "753/753 [==============================] - 43s 57ms/step - loss: 0.1097 - auc: 0.7265 - accuracy: 0.9746 - val_loss: 0.1008 - val_auc: 0.7700 - val_accuracy: 0.9776\n",
      "\n",
      "Epoch 00006: saving model to BaselineSingleLabelCLAHE/Checkpoint/weights.06-0.10.hdf5\n",
      "Epoch 7/100\n",
      "753/753 [==============================] - 43s 57ms/step - loss: 0.1105 - auc: 0.7250 - accuracy: 0.9745 - val_loss: 0.1023 - val_auc: 0.7687 - val_accuracy: 0.9776\n",
      "\n",
      "Epoch 00007: saving model to BaselineSingleLabelCLAHE/Checkpoint/weights.07-0.10.hdf5\n",
      "Epoch 8/100\n",
      "753/753 [==============================] - 43s 57ms/step - loss: 0.1097 - auc: 0.7301 - accuracy: 0.9744 - val_loss: 0.0998 - val_auc: 0.7639 - val_accuracy: 0.9776\n",
      "\n",
      "Epoch 00008: saving model to BaselineSingleLabelCLAHE/Checkpoint/weights.08-0.10.hdf5\n",
      "Epoch 9/100\n",
      "753/753 [==============================] - 43s 57ms/step - loss: 0.1088 - auc: 0.7474 - accuracy: 0.9744 - val_loss: 0.0980 - val_auc: 0.7610 - val_accuracy: 0.9776\n",
      "\n",
      "Epoch 00009: saving model to BaselineSingleLabelCLAHE/Checkpoint/weights.09-0.10.hdf5\n",
      "Epoch 10/100\n",
      "753/753 [==============================] - 43s 57ms/step - loss: 0.1108 - auc: 0.7427 - accuracy: 0.9737 - val_loss: 0.0967 - val_auc: 0.7726 - val_accuracy: 0.9776\n",
      "\n",
      "Epoch 00010: saving model to BaselineSingleLabelCLAHE/Checkpoint/weights.10-0.10.hdf5\n",
      "Epoch 11/100\n",
      "753/753 [==============================] - 43s 57ms/step - loss: 0.1056 - auc: 0.7492 - accuracy: 0.9752 - val_loss: 0.0989 - val_auc: 0.7596 - val_accuracy: 0.9776\n",
      "\n",
      "Epoch 00011: saving model to BaselineSingleLabelCLAHE/Checkpoint/weights.11-0.10.hdf5\n",
      "Epoch 12/100\n",
      "753/753 [==============================] - 43s 57ms/step - loss: 0.1067 - auc: 0.7571 - accuracy: 0.9746 - val_loss: 0.0981 - val_auc: 0.7565 - val_accuracy: 0.9776\n",
      "\n",
      "Epoch 00012: saving model to BaselineSingleLabelCLAHE/Checkpoint/weights.12-0.10.hdf5\n",
      "Epoch 13/100\n",
      "753/753 [==============================] - 43s 57ms/step - loss: 0.1037 - auc: 0.7935 - accuracy: 0.9745 - val_loss: 0.0997 - val_auc: 0.7679 - val_accuracy: 0.9776\n",
      "\n",
      "Epoch 00013: saving model to BaselineSingleLabelCLAHE/Checkpoint/weights.13-0.10.hdf5\n",
      "Epoch 14/100\n",
      "753/753 [==============================] - 43s 57ms/step - loss: 0.1043 - auc: 0.7869 - accuracy: 0.9740 - val_loss: 0.0984 - val_auc: 0.7470 - val_accuracy: 0.9776\n",
      "\n",
      "Epoch 00014: saving model to BaselineSingleLabelCLAHE/Checkpoint/weights.14-0.10.hdf5\n",
      "Epoch 15/100\n",
      "753/753 [==============================] - 44s 59ms/step - loss: 0.1015 - auc: 0.8031 - accuracy: 0.9746 - val_loss: 0.1070 - val_auc: 0.7155 - val_accuracy: 0.9776\n",
      "\n",
      "Epoch 00015: saving model to BaselineSingleLabelCLAHE/Checkpoint/weights.15-0.11.hdf5\n"
     ]
    },
    {
     "data": {
      "text/plain": [
       "<tensorflow.python.keras.callbacks.History at 0x7f50f8566250>"
      ]
     },
     "execution_count": 13,
     "metadata": {},
     "output_type": "execute_result"
    }
   ],
   "source": [
    "model.fit(X_train, y_train, validation_split=VALIDATION_SIZE, batch_size=BATCH_SIZE, epochs=EPOCHS, callbacks=[checkpoint, callback])"
   ]
  },
  {
   "cell_type": "markdown",
   "metadata": {},
   "source": [
    "# evaluation"
   ]
  },
  {
   "cell_type": "code",
   "execution_count": 14,
   "metadata": {
    "ExecuteTime": {
     "end_time": "2021-01-24T16:43:24.983736Z",
     "start_time": "2021-01-24T16:43:10.897428Z"
    }
   },
   "outputs": [],
   "source": [
    "pred = np.where(model.predict(X_train)<0.5, 0, 1) "
   ]
  },
  {
   "cell_type": "code",
   "execution_count": 15,
   "metadata": {
    "ExecuteTime": {
     "end_time": "2021-01-24T16:43:40.467592Z",
     "start_time": "2021-01-24T16:43:24.985079Z"
    }
   },
   "outputs": [],
   "source": [
    "cm = confusion_matrix(y_train, np.where(model.predict(X_train)<0.5, 0, 1))"
   ]
  },
  {
   "cell_type": "code",
   "execution_count": 16,
   "metadata": {
    "ExecuteTime": {
     "end_time": "2021-01-24T16:43:40.490055Z",
     "start_time": "2021-01-24T16:43:40.468592Z"
    }
   },
   "outputs": [
    {
     "name": "stdout",
     "output_type": "stream",
     "text": [
      "              precision    recall  f1-score   support\n",
      "\n",
      "       False       0.00      0.00      0.00       750\n",
      "        True       0.98      1.00      0.99     29333\n",
      "\n",
      "    accuracy                           0.98     30083\n",
      "   macro avg       0.49      0.50      0.49     30083\n",
      "weighted avg       0.95      0.98      0.96     30083\n",
      "\n"
     ]
    }
   ],
   "source": [
    "print(classification_report(y_train, pred))"
   ]
  },
  {
   "cell_type": "code",
   "execution_count": 17,
   "metadata": {
    "ExecuteTime": {
     "end_time": "2021-01-24T16:43:40.623058Z",
     "start_time": "2021-01-24T16:43:40.490962Z"
    }
   },
   "outputs": [
    {
     "data": {
      "image/png": "[encoded data removed]",
      "text/plain": [
       "<Figure size 432x288 with 2 Axes>"
      ]
     },
     "metadata": {
      "needs_background": "light"
     },
     "output_type": "display_data"
    }
   ],
   "source": [
    "sns.heatmap(pd.DataFrame(cm, index = ['False', 'True'], columns = ['False', 'True']), annot=True)\n",
    "plt.show()"
   ]
  }
 ],
 "metadata": {
  "kernelspec": {
   "display_name": "Python [conda env:ITC] *",
   "language": "python",
   "name": "conda-env-ITC-py"
  },
  "language_info": {
   "codemirror_mode": {
    "name": "ipython",
    "version": 3
   },
   "file_extension": ".py",
   "mimetype": "text/x-python",
   "name": "python",
   "nbconvert_exporter": "python",
   "pygments_lexer": "ipython3",
   "version": "3.8.2"
  },
  "latex_envs": {
   "LaTeX_envs_menu_present": true,
   "autoclose": false,
   "autocomplete": true,
   "bibliofile": "biblio.bib",
   "cite_by": "apalike",
   "current_citInitial": 1,
   "eqLabelWithNumbers": true,
   "eqNumInitial": 1,
   "hotkeys": {
    "equation": "Ctrl-E",
    "itemize": "Ctrl-I"
   },
   "labels_anchors": false,
   "latex_user_defs": false,
   "report_style_numbering": false,
   "user_envs_cfg": false
  },
  "toc": {
   "base_numbering": 1,
   "nav_menu": {},
   "number_sections": true,
   "sideBar": true,
   "skip_h1_title": false,
   "title_cell": "Table of Contents",
   "title_sidebar": "Contents",
   "toc_cell": false,
   "toc_position": {},
   "toc_section_display": true,
   "toc_window_display": true
  }
 },
 "nbformat": 4,
 "nbformat_minor": 4
}
