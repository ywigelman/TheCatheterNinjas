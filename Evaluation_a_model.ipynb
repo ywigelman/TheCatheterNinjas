{
  "nbformat": 4,
  "nbformat_minor": 0,
  "metadata": {
    "kernelspec": {
      "name": "python3",
      "display_name": "Python 3"
    },
    "latex_envs": {
      "LaTeX_envs_menu_present": true,
      "autoclose": false,
      "autocomplete": true,
      "bibliofile": "biblio.bib",
      "cite_by": "apalike",
      "current_citInitial": 1,
      "eqLabelWithNumbers": true,
      "eqNumInitial": 1,
      "hotkeys": {
        "equation": "Ctrl-E",
        "itemize": "Ctrl-I"
      },
      "labels_anchors": false,
      "latex_user_defs": false,
      "report_style_numbering": false,
      "user_envs_cfg": false
    },
    "toc": {
      "base_numbering": 1,
      "nav_menu": {},
      "number_sections": true,
      "sideBar": true,
      "skip_h1_title": false,
      "title_cell": "Table of Contents",
      "title_sidebar": "Contents",
      "toc_cell": false,
      "toc_position": {},
      "toc_section_display": true,
      "toc_window_display": true
    },
    "colab": {
      "name": "Evaluation a model.ipynb",
      "provenance": [],
      "collapsed_sections": [],
      "toc_visible": true
    },
    "accelerator": "GPU"
  },
  "cells": [
    {
      "cell_type": "code",
      "metadata": {
        "colab": {
          "base_uri": "https://localhost:8080/"
        },
        "id": "L9iGKB2Hh39c",
        "outputId": "4575f938-0404-46c7-c07a-8023d011068e"
      },
      "source": [
        "import os\n",
        "if 'google.colab' in str(get_ipython()):\n",
        "    print('Running on CoLab')\n",
        "    colab = True\n",
        "    download = os.path.exists('./data/sample_submission.csv')\n",
        "    from google.colab import drive\n",
        "    drive.mount('/content/gdrive')\n",
        "    ! cp /content/gdrive/MyDrive/TheCatheterNinjas/kaggle.json /content/\n",
        "else:\n",
        "    colab = False\n",
        "    print('Not running on CoLab')"
      ],
      "execution_count": 2,
      "outputs": [
        {
          "output_type": "stream",
          "text": [
            "Running on CoLab\n"
          ],
          "name": "stdout"
        }
      ]
    },
    {
      "cell_type": "code",
      "metadata": {
        "id": "GT6zm-Vvh8HO",
        "colab": {
          "base_uri": "https://localhost:8080/"
        },
        "outputId": "39c0c523-339d-4041-a588-ca655360f389"
      },
      "source": [
        "if colab:\n",
        "    if not download:\n",
        "        ! pip install --upgrade --force-reinstall --no-deps kaggle\n",
        "        ! mkdir /root/.kaggle\n",
        "        ! cp kaggle.json /root/.kaggle/\n",
        "        ! chmod 600 /root/.kaggle/kaggle.json\n",
        "        ! kaggle competitions download -c ranzcr-clip-catheter-line-classification -p ./data/\n",
        "        ! unzip -qq ./data/'*.zip' -d ./data\n",
        "        ! rm ./data/'ranzcr-clip-catheter-line-classification.zip'\n",
        "        download = True"
      ],
      "execution_count": 3,
      "outputs": [
        {
          "output_type": "stream",
          "text": [
            "Collecting kaggle\n",
            "\u001b[?25l  Downloading https://files.pythonhosted.org/packages/99/33/365c0d13f07a2a54744d027fe20b60dacdfdfb33bc04746db6ad0b79340b/kaggle-1.5.10.tar.gz (59kB)\n",
            "\r\u001b[K     |█████▌                          | 10kB 27.1MB/s eta 0:00:01\r\u001b[K     |███████████                     | 20kB 17.1MB/s eta 0:00:01\r\u001b[K     |████████████████▋               | 30kB 14.7MB/s eta 0:00:01\r\u001b[K     |██████████████████████▏         | 40kB 12.6MB/s eta 0:00:01\r\u001b[K     |███████████████████████████▊    | 51kB 7.7MB/s eta 0:00:01\r\u001b[K     |████████████████████████████████| 61kB 4.6MB/s \n",
            "\u001b[?25hBuilding wheels for collected packages: kaggle\n",
            "  Building wheel for kaggle (setup.py) ... \u001b[?25l\u001b[?25hdone\n",
            "  Created wheel for kaggle: filename=kaggle-1.5.10-cp36-none-any.whl size=73269 sha256=9538d3c0f7fc981cc7df3447e93c8ee93686178b1610f1cc813865123ad1a5b1\n",
            "  Stored in directory: /root/.cache/pip/wheels/3a/d1/7e/6ce09b72b770149802c653a02783821629146983ee5a360f10\n",
            "Successfully built kaggle\n",
            "Installing collected packages: kaggle\n",
            "  Found existing installation: kaggle 1.5.10\n",
            "    Uninstalling kaggle-1.5.10:\n",
            "      Successfully uninstalled kaggle-1.5.10\n",
            "Successfully installed kaggle-1.5.10\n",
            "Downloading ranzcr-clip-catheter-line-classification.zip to ./data\n",
            "100% 11.7G/11.7G [04:42<00:00, 54.6MB/s]\n",
            "100% 11.7G/11.7G [04:42<00:00, 44.5MB/s]\n"
          ],
          "name": "stdout"
        }
      ]
    },
    {
      "cell_type": "markdown",
      "metadata": {
        "id": "F7dPc2PKhvI2"
      },
      "source": [
        "# Info\n",
        "\n",
        "- This notebook is for testing a pre-trained model. it is used on only 10% of the data with our original data split."
      ]
    },
    {
      "cell_type": "markdown",
      "metadata": {
        "id": "fqEPBSw1hvJB"
      },
      "source": [
        "# Setup\n",
        "\n",
        "## import libraries and modules"
      ]
    },
    {
      "cell_type": "code",
      "metadata": {
        "ExecuteTime": {
          "end_time": "2021-01-25T09:08:28.417616Z",
          "start_time": "2021-01-25T09:08:28.412516Z"
        },
        "scrolled": true,
        "id": "xdtfX4zMhvJC"
      },
      "source": [
        "import matplotlib.pyplot as plt\n",
        "import warnings\n",
        "import datetime\n",
        "warnings.filterwarnings(\"ignore\")\n",
        "warnings.filterwarnings(\"ignore\", category=DeprecationWarning)\n",
        "import cv2\n",
        "import os\n",
        "import numpy as np\n",
        "from pathlib import Path\n",
        "from multiprocessing import Pool\n",
        "import pandas as pd\n",
        "import tensorflow as tf\n",
        "from tensorflow.keras.models import Sequential\n",
        "from tensorflow.keras.layers import Dense, Dropout, Flatten,Conv2D, MaxPooling2D\n",
        "from tensorflow.keras.callbacks import EarlyStopping, ModelCheckpoint\n",
        "from tensorflow.keras.layers.experimental.preprocessing import Rescaling\n",
        "from tensorflow.keras.metrics import AUC, Precision, Recall\n",
        "from sklearn.model_selection import train_test_split, GroupShuffleSplit\n",
        "import pickle\n",
        "from sklearn.metrics import classification_report, roc_curve, auc\n",
        "from scipy import interp\n",
        "%matplotlib inline"
      ],
      "execution_count": 5,
      "outputs": []
    },
    {
      "cell_type": "markdown",
      "metadata": {
        "id": "QR20RJJ2hvJE"
      },
      "source": [
        "## set constants"
      ]
    },
    {
      "cell_type": "code",
      "metadata": {
        "ExecuteTime": {
          "end_time": "2021-01-25T07:41:17.063096Z",
          "start_time": "2021-01-25T07:41:17.050075Z"
        },
        "id": "GaOBN2MvhvJE"
      },
      "source": [
        "DATA = Path('data/')\n",
        "\n",
        "# input files and directories\n",
        "TRAIN_META = DATA / 'train.csv'\n",
        "TRAIN_IMG_DIR = DATA / 'train/'\n",
        "TEST_IMG_DIR = DATA / 'test/'\n",
        "\n",
        "\n",
        "# generate output directories in case not exist\n",
        "os.makedirs(TRAIN_RESIZE_DIR, exist_ok=True)\n",
        "os.makedirs(TEST_RESIZE_DIR, exist_ok=True)\n",
        "os.makedirs(SERIALIZED, exist_ok=True)\n",
        "\n",
        "CASE = 'StudyInstanceUID'\n",
        "ID = 'PatientID'\n",
        "\n",
        "# constants for preprocessing\n",
        "NEW_SIZE = (244,244)\n",
        "IMG_SIZE = NEW_SIZE + (1, )\n",
        "\n",
        "# parameters for sequential model\n",
        "RSCL = 1/255\n",
        "N_FILTERS = 64\n",
        "FILTER2D_size = 1\n",
        "ACTIVATION = 'relu'\n",
        "RATE = 0.5\n",
        "DENSE_DIM = 64\n",
        "OUT_ACTIVATION = 'sigmoid'\n",
        "\n",
        "# parameters for callbacks\n",
        "\n",
        "MONITOR = 'val_loss'\n",
        "PATIENCE = 2\n",
        "\n",
        "# parameters for compilation\n",
        "METRICS=[AUC(multi_label=True), Precision(), Recall()]\n",
        "OPTIMIZER = 'adam'\n",
        "LOSS = 'binary_crossentropy'\n",
        "\n",
        "# parameters for fitting\n",
        "EPOCHS = 100\n",
        "BATCH_SIZE = 32\n",
        "\n",
        "# general\n",
        "RANDOM_STATE = 42\n",
        "TEST_VALIDATION_SIZE = 0.2\n",
        "AVAIL_CPU = None\n",
        "\n",
        "np.random.seed(RANDOM_STATE)"
      ],
      "execution_count": 6,
      "outputs": []
    },
    {
      "cell_type": "markdown",
      "metadata": {
        "id": "VwhBrulqhvJG"
      },
      "source": [
        "## load meta file"
      ]
    },
    {
      "cell_type": "code",
      "metadata": {
        "ExecuteTime": {
          "end_time": "2021-01-24T20:54:56.766544Z",
          "start_time": "2021-01-24T20:54:56.707614Z"
        },
        "id": "Wiu0bfXehvJG"
      },
      "source": [
        "df = pd.read_csv(TRAIN_META)"
      ],
      "execution_count": 7,
      "outputs": []
    },
    {
      "cell_type": "code",
      "metadata": {
        "id": "tJuQe5jrryLi",
        "colab": {
          "base_uri": "https://localhost:8080/",
          "height": 238
        },
        "outputId": "d066b429-30a9-4ff2-a9ad-578664ba7706"
      },
      "source": [
        "df.head()"
      ],
      "execution_count": 8,
      "outputs": [
        {
          "output_type": "execute_result",
          "data": {
            "text/html": [
              "<div>\n",
              "<style scoped>\n",
              "    .dataframe tbody tr th:only-of-type {\n",
              "        vertical-align: middle;\n",
              "    }\n",
              "\n",
              "    .dataframe tbody tr th {\n",
              "        vertical-align: top;\n",
              "    }\n",
              "\n",
              "    .dataframe thead th {\n",
              "        text-align: right;\n",
              "    }\n",
              "</style>\n",
              "<table border=\"1\" class=\"dataframe\">\n",
              "  <thead>\n",
              "    <tr style=\"text-align: right;\">\n",
              "      <th></th>\n",
              "      <th>StudyInstanceUID</th>\n",
              "      <th>ETT - Abnormal</th>\n",
              "      <th>ETT - Borderline</th>\n",
              "      <th>ETT - Normal</th>\n",
              "      <th>NGT - Abnormal</th>\n",
              "      <th>NGT - Borderline</th>\n",
              "      <th>NGT - Incompletely Imaged</th>\n",
              "      <th>NGT - Normal</th>\n",
              "      <th>CVC - Abnormal</th>\n",
              "      <th>CVC - Borderline</th>\n",
              "      <th>CVC - Normal</th>\n",
              "      <th>Swan Ganz Catheter Present</th>\n",
              "      <th>PatientID</th>\n",
              "    </tr>\n",
              "  </thead>\n",
              "  <tbody>\n",
              "    <tr>\n",
              "      <th>0</th>\n",
              "      <td>1.2.826.0.1.3680043.8.498.26697628953273228189...</td>\n",
              "      <td>0</td>\n",
              "      <td>0</td>\n",
              "      <td>0</td>\n",
              "      <td>0</td>\n",
              "      <td>0</td>\n",
              "      <td>0</td>\n",
              "      <td>1</td>\n",
              "      <td>0</td>\n",
              "      <td>0</td>\n",
              "      <td>0</td>\n",
              "      <td>0</td>\n",
              "      <td>ec89415d1</td>\n",
              "    </tr>\n",
              "    <tr>\n",
              "      <th>1</th>\n",
              "      <td>1.2.826.0.1.3680043.8.498.46302891597398758759...</td>\n",
              "      <td>0</td>\n",
              "      <td>0</td>\n",
              "      <td>1</td>\n",
              "      <td>0</td>\n",
              "      <td>0</td>\n",
              "      <td>1</td>\n",
              "      <td>0</td>\n",
              "      <td>0</td>\n",
              "      <td>0</td>\n",
              "      <td>1</td>\n",
              "      <td>0</td>\n",
              "      <td>bf4c6da3c</td>\n",
              "    </tr>\n",
              "    <tr>\n",
              "      <th>2</th>\n",
              "      <td>1.2.826.0.1.3680043.8.498.23819260719748494858...</td>\n",
              "      <td>0</td>\n",
              "      <td>0</td>\n",
              "      <td>0</td>\n",
              "      <td>0</td>\n",
              "      <td>0</td>\n",
              "      <td>0</td>\n",
              "      <td>0</td>\n",
              "      <td>0</td>\n",
              "      <td>1</td>\n",
              "      <td>0</td>\n",
              "      <td>0</td>\n",
              "      <td>3fc1c97e5</td>\n",
              "    </tr>\n",
              "    <tr>\n",
              "      <th>3</th>\n",
              "      <td>1.2.826.0.1.3680043.8.498.68286643202323212801...</td>\n",
              "      <td>0</td>\n",
              "      <td>0</td>\n",
              "      <td>0</td>\n",
              "      <td>0</td>\n",
              "      <td>0</td>\n",
              "      <td>0</td>\n",
              "      <td>0</td>\n",
              "      <td>1</td>\n",
              "      <td>0</td>\n",
              "      <td>0</td>\n",
              "      <td>0</td>\n",
              "      <td>c31019814</td>\n",
              "    </tr>\n",
              "    <tr>\n",
              "      <th>4</th>\n",
              "      <td>1.2.826.0.1.3680043.8.498.10050203009225938259...</td>\n",
              "      <td>0</td>\n",
              "      <td>0</td>\n",
              "      <td>0</td>\n",
              "      <td>0</td>\n",
              "      <td>0</td>\n",
              "      <td>0</td>\n",
              "      <td>0</td>\n",
              "      <td>0</td>\n",
              "      <td>0</td>\n",
              "      <td>1</td>\n",
              "      <td>0</td>\n",
              "      <td>207685cd1</td>\n",
              "    </tr>\n",
              "  </tbody>\n",
              "</table>\n",
              "</div>"
            ],
            "text/plain": [
              "                                    StudyInstanceUID  ...  PatientID\n",
              "0  1.2.826.0.1.3680043.8.498.26697628953273228189...  ...  ec89415d1\n",
              "1  1.2.826.0.1.3680043.8.498.46302891597398758759...  ...  bf4c6da3c\n",
              "2  1.2.826.0.1.3680043.8.498.23819260719748494858...  ...  3fc1c97e5\n",
              "3  1.2.826.0.1.3680043.8.498.68286643202323212801...  ...  c31019814\n",
              "4  1.2.826.0.1.3680043.8.498.10050203009225938259...  ...  207685cd1\n",
              "\n",
              "[5 rows x 13 columns]"
            ]
          },
          "metadata": {
            "tags": []
          },
          "execution_count": 8
        }
      ]
    },
    {
      "cell_type": "markdown",
      "metadata": {
        "id": "aMb-YOUMhvJH"
      },
      "source": [
        "## get labels"
      ]
    },
    {
      "cell_type": "code",
      "metadata": {
        "ExecuteTime": {
          "end_time": "2021-01-24T20:54:57.604843Z",
          "start_time": "2021-01-24T20:54:57.593440Z"
        },
        "id": "r7bPL7-NhvJH",
        "colab": {
          "base_uri": "https://localhost:8080/"
        },
        "outputId": "f525babd-578e-47b8-cd42-c8c875bc2375"
      },
      "source": [
        "labels = df.select_dtypes(int).columns\n",
        "print(labels)"
      ],
      "execution_count": 9,
      "outputs": [
        {
          "output_type": "stream",
          "text": [
            "Index(['ETT - Abnormal', 'ETT - Borderline', 'ETT - Normal', 'NGT - Abnormal',\n",
            "       'NGT - Borderline', 'NGT - Incompletely Imaged', 'NGT - Normal',\n",
            "       'CVC - Abnormal', 'CVC - Borderline', 'CVC - Normal',\n",
            "       'Swan Ganz Catheter Present'],\n",
            "      dtype='object')\n"
          ],
          "name": "stdout"
        }
      ]
    },
    {
      "cell_type": "markdown",
      "metadata": {
        "id": "_HCma4V9hvJI"
      },
      "source": [
        "## help functions"
      ]
    },
    {
      "cell_type": "code",
      "metadata": {
        "ExecuteTime": {
          "end_time": "2021-01-24T20:56:48.551963Z",
          "start_time": "2021-01-24T20:56:48.540397Z"
        },
        "id": "hFJq2DDyhvJI"
      },
      "source": [
        "def show_img(img: np.array, axes=None, title: str='', cmap: str = 'gray'):\n",
        "    \"\"\"\n",
        "    This function gets an image as a numpy array and show it.\n",
        "    default on grayscale\n",
        "    \"\"\"\n",
        "    if not axes:\n",
        "        _, axes = plt.subplots()\n",
        "    axes.imshow(img, cmap=cmap)\n",
        "    axes.set_title(title)\n",
        "    \n",
        "def preprocess(img_path: Path, processed_path: Path, size = NEW_SIZE, \n",
        "               scale=cv2.IMREAD_GRAYSCALE):\n",
        "    \"\"\"\n",
        "    This function gets a path to an image,\n",
        "    resize it to a given size and saves it back to the drive.\n",
        "    \"\"\"\n",
        "    new_img = cv2.resize(cv2.imread(str(img_path), scale), size)\n",
        "    cv2.imwrite(str(processed_path), new_img)\n",
        "    if colab:  # added to save space on google colab drive.\n",
        "        os.remove(str(img_path))\n",
        "\n",
        "    \n",
        "\n",
        "def validate_file(record: Path):\n",
        "    \"\"\"\n",
        "    This function gets a path and checkes if there is a file for that path.\n",
        "    \"\"\"\n",
        "    if record.is_file() & record.exists():\n",
        "        return True\n",
        "    return False\n",
        "\n",
        "\n",
        "def numipy_train(meta: pd.DataFrame, img_dir: Path,\n",
        "                 suffix: str = '.jpg', case_col: str = CASE, \n",
        "                 labels_col = labels, \n",
        "                 scale=cv2.IMREAD_GRAYSCALE, \n",
        "                 image_dir_temp_col = 'images', cpu: int=None):\n",
        "    \"\"\"\n",
        "    This functino gets a Panda's dataframe with a path to the image files and \n",
        "    returns numpy array for those images and the currect lables from the train file.\n",
        "    \"\"\"\n",
        "    if colab:\n",
        "        meta[image_dir_temp_col] = (meta[case_col] + suffix).apply(lambda img_path: img_dir / img_path)\n",
        "    else:\n",
        "        meta[image_dir_temp_col] = img_dir / (meta[case_col] + suffix)\n",
        "    msk = meta[image_dir_temp_col].apply(validate_file)\n",
        "    meta = meta[msk]\n",
        "    images, label_values = meta[image_dir_temp_col].to_list(), meta[labels_col].values\n",
        "    images = [(str(image), scale) for image in images]\n",
        "    with Pool(cpu) as p: images = p.starmap(cv2.imread, images)\n",
        "    return np.array(images), label_values\n",
        "\n",
        "def numipy_test(img_dir: Path, suffix: str = '.jpg',\n",
        "                 scale=cv2.IMREAD_GRAYSCALE, cpu: int=None):\n",
        "    \"\"\"\n",
        "    This functino gets a Panda's dataframe with a path to the image files and \n",
        "    returns numpy array for those images.\n",
        "    \"\"\"\n",
        "    \n",
        "    images = list(img_dir.glob('*' + suffix))\n",
        "    images = [(str(image), scale) for image in images]\n",
        "    with Pool(cpu) as p: images = p.starmap(cv2.imread, images)\n",
        "    return np.array(images)\n",
        "    \n",
        "\n",
        "def multi_preprocess(input_dir: Path, output_dir: Path, glob: str='*.jpg',\n",
        "                      size: tuple=NEW_SIZE, scale=cv2.IMREAD_GRAYSCALE, \n",
        "                      cpu: int=None):\n",
        "    \"\"\"\n",
        "    This function gets the path to a folder with all images and does \n",
        "    preprocessing on all the .jpg files on that folder.\n",
        "    \"\"\"\n",
        "    pool_lst = []\n",
        "    os.makedirs(output_dir, exist_ok=True)\n",
        "    for input_img in input_dir.glob(glob):\n",
        "        pool_lst.append((input_img, output_dir/input_img.name, size, scale))\n",
        "    with Pool(cpu) as p: p.starmap(preprocess, pool_lst)\n"
      ],
      "execution_count": 10,
      "outputs": []
    },
    {
      "cell_type": "markdown",
      "metadata": {
        "id": "twLskqYWq7nt"
      },
      "source": [
        "## set image generators"
      ]
    },
    {
      "cell_type": "code",
      "metadata": {
        "id": "xTGSb1zdPnKZ"
      },
      "source": [
        "df[CASE] = df[CASE].apply(lambda name: name+'.jpg')"
      ],
      "execution_count": 11,
      "outputs": []
    },
    {
      "cell_type": "code",
      "metadata": {
        "id": "iidd8dWG71fQ"
      },
      "source": [
        "train_inds, test_val_inds = next(GroupShuffleSplit(test_size=TEST_VALIDATION_SIZE,\n",
        "                      n_splits=1,\n",
        "                      random_state = RANDOM_STATE).\\\n",
        "                            split(df, groups=df[ID]))\n",
        "val_inds, test_inds = next(GroupShuffleSplit(test_size=0.5,\n",
        "                      n_splits=1,\n",
        "                      random_state = RANDOM_STATE).\\\n",
        "                            split(df.loc[test_val_inds],\n",
        "                                  groups=df.loc[test_val_inds][ID]))"
      ],
      "execution_count": 13,
      "outputs": []
    },
    {
      "cell_type": "code",
      "metadata": {
        "id": "WgmfEf7C8ltq"
      },
      "source": [
        "gen_properties = {'featurewise_center':False,\n",
        "    'samplewise_center':False,\n",
        "    'featurewise_std_normalization':False,\n",
        "    'samplewise_std_normalization':False,\n",
        "    'zca_whitening':False,\n",
        "    'zca_epsilon':1e-06,\n",
        "    'rotation_range':0,\n",
        "    'width_shift_range':0.0,\n",
        "    'height_shift_range':0.0,\n",
        "    'brightness_range':None,\n",
        "    'shear_range':0.0,\n",
        "    'zoom_range':0.0,\n",
        "    'channel_shift_range':0.0,\n",
        "    'fill_mode':\"nearest\",\n",
        "    'cval':0.0,\n",
        "    'horizontal_flip':False,\n",
        "    'vertical_flip':False,\n",
        "    'rescale':RSCL,\n",
        "    'preprocessing_function':None,\n",
        "    'data_format':None,\n",
        "    'validation_split':0.0,\n",
        "    'dtype':None,}"
      ],
      "execution_count": 14,
      "outputs": []
    },
    {
      "cell_type": "code",
      "metadata": {
        "id": "V9sgweQtrETf",
        "colab": {
          "base_uri": "https://localhost:8080/"
        },
        "outputId": "394e1c52-1cf2-4abb-c928-d7400f787656"
      },
      "source": [
        "train_datagen=tf.keras.preprocessing.image.ImageDataGenerator(**gen_properties)\n",
        "val_datagen=tf.keras.preprocessing.image.ImageDataGenerator(**gen_properties)\n",
        "test_datagen=tf.keras.preprocessing.image.ImageDataGenerator(**gen_properties)\n",
        "\n",
        "print('train data:')\n",
        "train_generator=train_datagen.flow_from_dataframe(\n",
        "    dataframe=df.iloc[train_inds],\n",
        "    directory=TRAIN_IMG_DIR,\n",
        "    x_col=CASE,\n",
        "    y_col=labels,\n",
        "    batch_size=BATCH_SIZE,\n",
        "    color_mode=\"grayscale\",\n",
        "    seed=RANDOM_STATE,\n",
        "    shuffle=True,\n",
        "    class_mode=\"raw\",\n",
        "    target_size=NEW_SIZE)\n",
        "\n",
        "print('\\nval data:')\n",
        "val_generator=val_datagen.flow_from_dataframe(\n",
        "    dataframe=df.iloc[val_inds],\n",
        "    directory=TRAIN_IMG_DIR,\n",
        "    x_col=CASE,\n",
        "    y_col=labels,\n",
        "    batch_size=BATCH_SIZE,\n",
        "    color_mode=\"grayscale\",\n",
        "    seed=RANDOM_STATE,\n",
        "    shuffle=True,\n",
        "    class_mode=\"raw\",\n",
        "    target_size=NEW_SIZE)\n",
        "\n",
        "print('\\ntest data:')\n",
        "test_generator=test_datagen.flow_from_dataframe(\n",
        "    dataframe=df.iloc[test_inds],\n",
        "    directory=TRAIN_IMG_DIR,\n",
        "    x_col=CASE,\n",
        "    y_col=labels,\n",
        "    batch_size=BATCH_SIZE,\n",
        "    color_mode=\"grayscale\",\n",
        "    seed=RANDOM_STATE,\n",
        "    shuffle=True,\n",
        "    class_mode=\"raw\",\n",
        "    target_size=NEW_SIZE)"
      ],
      "execution_count": 15,
      "outputs": [
        {
          "output_type": "stream",
          "text": [
            "train data:\n",
            "Found 24833 validated image filenames.\n",
            "\n",
            "val data:\n",
            "Found 2739 validated image filenames.\n",
            "\n",
            "test data:\n",
            "Found 2511 validated image filenames.\n"
          ],
          "name": "stdout"
        }
      ]
    },
    {
      "cell_type": "markdown",
      "metadata": {
        "id": "s4HdIZcPhvJK"
      },
      "source": [
        "# Preprocess\n",
        "\n",
        "## preprocess train"
      ]
    },
    {
      "cell_type": "code",
      "metadata": {
        "id": "y5RBPxjv-Fnl"
      },
      "source": [
        "model_name = '2021-02-04'\n",
        "model = tf.keras.models.load_model(f'/content/gdrive/MyDrive/TheCatheterNinjas/saved_model/{model_name}')"
      ],
      "execution_count": 16,
      "outputs": []
    },
    {
      "cell_type": "markdown",
      "metadata": {
        "id": "lZ7W-dBOhvJR"
      },
      "source": [
        "## model summary"
      ]
    },
    {
      "cell_type": "code",
      "metadata": {
        "ExecuteTime": {
          "end_time": "2021-01-24T21:47:52.091055Z",
          "start_time": "2021-01-24T21:47:52.086728Z"
        },
        "id": "RFYvG5rkhvJS",
        "colab": {
          "base_uri": "https://localhost:8080/"
        },
        "outputId": "5c290f6c-3e69-4c46-a0ed-7d88e2510434"
      },
      "source": [
        "model.summary()"
      ],
      "execution_count": 17,
      "outputs": [
        {
          "output_type": "stream",
          "text": [
            "Model: \"BaseModel\"\n",
            "_________________________________________________________________\n",
            "Layer (type)                 Output Shape              Param #   \n",
            "=================================================================\n",
            "conv_1 (Conv2D)              (None, 244, 244, 64)      128       \n",
            "_________________________________________________________________\n",
            "max_pool1 (MaxPooling2D)     (None, 122, 122, 64)      0         \n",
            "_________________________________________________________________\n",
            "conv_2 (Conv2D)              (None, 122, 122, 64)      4160      \n",
            "_________________________________________________________________\n",
            "max_pool2 (MaxPooling2D)     (None, 61, 61, 64)        0         \n",
            "_________________________________________________________________\n",
            "conv_3 (Conv2D)              (None, 61, 61, 64)        4160      \n",
            "_________________________________________________________________\n",
            "max_pool3 (MaxPooling2D)     (None, 30, 30, 64)        0         \n",
            "_________________________________________________________________\n",
            "flat (Flatten)               (None, 57600)             0         \n",
            "_________________________________________________________________\n",
            "dropout_1 (Dropout)          (None, 57600)             0         \n",
            "_________________________________________________________________\n",
            "dense (Dense)                (None, 64)                3686464   \n",
            "_________________________________________________________________\n",
            "dropout_2 (Dropout)          (None, 64)                0         \n",
            "_________________________________________________________________\n",
            "out (Dense)                  (None, 11)                715       \n",
            "=================================================================\n",
            "Total params: 3,695,627\n",
            "Trainable params: 3,695,627\n",
            "Non-trainable params: 0\n",
            "_________________________________________________________________\n"
          ],
          "name": "stdout"
        }
      ]
    },
    {
      "cell_type": "markdown",
      "metadata": {
        "id": "KV6VSKy6hvJW"
      },
      "source": [
        "## Testing the model"
      ]
    },
    {
      "cell_type": "code",
      "metadata": {
        "id": "KZTZNwIi1sW0"
      },
      "source": [
        "true = test_generator.labels"
      ],
      "execution_count": 18,
      "outputs": []
    },
    {
      "cell_type": "code",
      "metadata": {
        "id": "M5IsMXvXp6iu"
      },
      "source": [
        "pred = model.predict(test_generator)"
      ],
      "execution_count": 19,
      "outputs": []
    },
    {
      "cell_type": "markdown",
      "metadata": {
        "id": "D0gwjMeohvJf"
      },
      "source": [
        "### plotting - each label separately"
      ]
    },
    {
      "cell_type": "code",
      "metadata": {
        "ExecuteTime": {
          "end_time": "2021-01-25T09:36:13.419600Z",
          "start_time": "2021-01-25T09:36:13.196553Z"
        },
        "id": "kCorJFf1hvJf",
        "colab": {
          "base_uri": "https://localhost:8080/",
          "height": 635
        },
        "outputId": "81898960-d9bc-4b6d-8335-231bb7012aa4"
      },
      "source": [
        "_, ax = plt.subplots(figsize=(10,10))\n",
        "ax.plot([0, 1], [0, 1], 'k--')\n",
        "fprs, tprs = [], []\n",
        "n_classes = len(labels)\n",
        "\n",
        "fpr_sum, tpr_sum = 0, 0\n",
        "for i, label in enumerate(labels):\n",
        "    label_fpr, label_tpr, thresh = roc_curve(true[:, i], pred[:, i])\n",
        "    label_auc = auc(label_fpr, label_tpr)\n",
        "    ax.plot(label_fpr, label_tpr, label='{} (area = {:.3f})'.format(label, label_auc))\n",
        "    fprs.append(label_fpr)\n",
        "    tprs.append(label_tpr)\n",
        "\n",
        "     \n",
        "# micro \n",
        "fpr_micro, tpr_micro, _ = roc_curve(true.ravel(), pred.ravel())\n",
        "auc_micro = auc(fpr_micro, tpr_micro)\n",
        "\n",
        "ax.plot(fpr_micro, tpr_micro,\n",
        "         label='micro-average (area = {0:0.2f})'.format(auc_micro), \n",
        "        color='deeppink', linestyle=':', linewidth=4)\n",
        "    \n",
        "# macro \n",
        "all_fpr = np.unique(np.concatenate(fprs))\n",
        "mean_tpr = np.zeros_like(all_fpr)\n",
        "for i in range(n_classes):\n",
        "    mean_tpr += interp(all_fpr, fprs[i], tprs[i])\n",
        "mean_tpr/=n_classes\n",
        "fpr_macro = all_fpr\n",
        "tpr_macro = mean_tpr\n",
        "auc_macro = auc(fpr_macro, tpr_macro)\n",
        "\n",
        "ax.plot(fpr_macro, tpr_macro, \n",
        "        label='macro-average (area = {0:0.2f})'.format(auc_macro),\n",
        "         color='navy', linestyle=':', linewidth=4)\n",
        "\n",
        "plt.xlabel('False positive rate')\n",
        "plt.ylabel('True positive rate')\n",
        "plt.title('ROC curve')\n",
        "plt.legend(loc=(1.01,0.69))\n",
        "plt.show()"
      ],
      "execution_count": 20,
      "outputs": [
        {
          "output_type": "display_data",
          "data": {
            "image/png": "[encoded data removed]",
            "text/plain": [
              "<Figure size 720x720 with 1 Axes>"
            ]
          },
          "metadata": {
            "tags": [],
            "needs_background": "light"
          }
        }
      ]
    },
    {
      "cell_type": "markdown",
      "metadata": {
        "ExecuteTime": {
          "end_time": "2021-01-25T07:55:53.371555Z",
          "start_time": "2021-01-25T07:55:53.369412Z"
        },
        "id": "8E9CtLolhvJg"
      },
      "source": [
        "## classification report"
      ]
    },
    {
      "cell_type": "code",
      "metadata": {
        "ExecuteTime": {
          "end_time": "2021-01-25T07:57:21.716172Z",
          "start_time": "2021-01-25T07:57:21.700852Z"
        },
        "id": "Q9EJsEjqhvJh",
        "colab": {
          "base_uri": "https://localhost:8080/",
          "height": 306
        },
        "outputId": "a2ad174a-7c14-43a1-e667-7b5cf8c6d348"
      },
      "source": [
        "print(classification_report(true, pred, target_names=labels))"
      ],
      "execution_count": 21,
      "outputs": [
        {
          "output_type": "error",
          "ename": "ValueError",
          "evalue": "ignored",
          "traceback": [
            "\u001b[0;31m---------------------------------------------------------------------------\u001b[0m",
            "\u001b[0;31mValueError\u001b[0m                                Traceback (most recent call last)",
            "\u001b[0;32m<ipython-input-21-18eaa5437f47>\u001b[0m in \u001b[0;36m<module>\u001b[0;34m()\u001b[0m\n\u001b[0;32m----> 1\u001b[0;31m \u001b[0mprint\u001b[0m\u001b[0;34m(\u001b[0m\u001b[0mclassification_report\u001b[0m\u001b[0;34m(\u001b[0m\u001b[0mtrue\u001b[0m\u001b[0;34m,\u001b[0m \u001b[0mpred\u001b[0m\u001b[0;34m,\u001b[0m \u001b[0mtarget_names\u001b[0m\u001b[0;34m=\u001b[0m\u001b[0mlabels\u001b[0m\u001b[0;34m)\u001b[0m\u001b[0;34m)\u001b[0m\u001b[0;34m\u001b[0m\u001b[0;34m\u001b[0m\u001b[0m\n\u001b[0m",
            "\u001b[0;32m/usr/local/lib/python3.6/dist-packages/sklearn/metrics/_classification.py\u001b[0m in \u001b[0;36mclassification_report\u001b[0;34m(y_true, y_pred, labels, target_names, sample_weight, digits, output_dict, zero_division)\u001b[0m\n\u001b[1;32m   1969\u001b[0m     \"\"\"\n\u001b[1;32m   1970\u001b[0m \u001b[0;34m\u001b[0m\u001b[0m\n\u001b[0;32m-> 1971\u001b[0;31m     \u001b[0my_type\u001b[0m\u001b[0;34m,\u001b[0m \u001b[0my_true\u001b[0m\u001b[0;34m,\u001b[0m \u001b[0my_pred\u001b[0m \u001b[0;34m=\u001b[0m \u001b[0m_check_targets\u001b[0m\u001b[0;34m(\u001b[0m\u001b[0my_true\u001b[0m\u001b[0;34m,\u001b[0m \u001b[0my_pred\u001b[0m\u001b[0;34m)\u001b[0m\u001b[0;34m\u001b[0m\u001b[0;34m\u001b[0m\u001b[0m\n\u001b[0m\u001b[1;32m   1972\u001b[0m \u001b[0;34m\u001b[0m\u001b[0m\n\u001b[1;32m   1973\u001b[0m     \u001b[0mlabels_given\u001b[0m \u001b[0;34m=\u001b[0m \u001b[0;32mTrue\u001b[0m\u001b[0;34m\u001b[0m\u001b[0;34m\u001b[0m\u001b[0m\n",
            "\u001b[0;32m/usr/local/lib/python3.6/dist-packages/sklearn/metrics/_classification.py\u001b[0m in \u001b[0;36m_check_targets\u001b[0;34m(y_true, y_pred)\u001b[0m\n\u001b[1;32m     88\u001b[0m     \u001b[0;32mif\u001b[0m \u001b[0mlen\u001b[0m\u001b[0;34m(\u001b[0m\u001b[0my_type\u001b[0m\u001b[0;34m)\u001b[0m \u001b[0;34m>\u001b[0m \u001b[0;36m1\u001b[0m\u001b[0;34m:\u001b[0m\u001b[0;34m\u001b[0m\u001b[0;34m\u001b[0m\u001b[0m\n\u001b[1;32m     89\u001b[0m         raise ValueError(\"Classification metrics can't handle a mix of {0} \"\n\u001b[0;32m---> 90\u001b[0;31m                          \"and {1} targets\".format(type_true, type_pred))\n\u001b[0m\u001b[1;32m     91\u001b[0m \u001b[0;34m\u001b[0m\u001b[0m\n\u001b[1;32m     92\u001b[0m     \u001b[0;31m# We can't have more than one value on y_type => The set is no more needed\u001b[0m\u001b[0;34m\u001b[0m\u001b[0;34m\u001b[0m\u001b[0;34m\u001b[0m\u001b[0m\n",
            "\u001b[0;31mValueError\u001b[0m: Classification metrics can't handle a mix of multilabel-indicator and continuous-multioutput targets"
          ]
        }
      ]
    }
  ]
}