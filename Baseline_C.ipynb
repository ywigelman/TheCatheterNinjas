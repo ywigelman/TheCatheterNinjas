{
  "nbformat": 4,
  "nbformat_minor": 0,
  "metadata": {
    "kernelspec": {
      "name": "python3",
      "display_name": "Python 3"
    },
    "latex_envs": {
      "LaTeX_envs_menu_present": true,
      "autoclose": false,
      "autocomplete": true,
      "bibliofile": "biblio.bib",
      "cite_by": "apalike",
      "current_citInitial": 1,
      "eqLabelWithNumbers": true,
      "eqNumInitial": 1,
      "hotkeys": {
        "equation": "Ctrl-E",
        "itemize": "Ctrl-I"
      },
      "labels_anchors": false,
      "latex_user_defs": false,
      "report_style_numbering": false,
      "user_envs_cfg": false
    },
    "toc": {
      "base_numbering": 1,
      "nav_menu": {},
      "number_sections": true,
      "sideBar": true,
      "skip_h1_title": false,
      "title_cell": "Table of Contents",
      "title_sidebar": "Contents",
      "toc_cell": false,
      "toc_position": {},
      "toc_section_display": true,
      "toc_window_display": true
    },
    "colab": {
      "name": "Copy of Baseline.ipynb",
      "provenance": [],
      "collapsed_sections": [],
      "toc_visible": true
    },
    "accelerator": "GPU"
  },
  "cells": [
    {
      "cell_type": "code",
      "metadata": {
        "id": "V8DEDGOYMe1p",
        "colab": {
          "base_uri": "https://localhost:8080/"
        },
        "outputId": "4dad8b90-caca-4fbe-c378-4c34a1ca9e89"
      },
      "source": [
        "# Code for Omer Drive\n",
        "\n",
        "from google.colab import drive\n",
        "drive.mount('/content/gdrive')\n",
        "! cp /content/gdrive/MyDrive/TheCatheterNinjas/kaggle.json /content/\n"
      ],
      "execution_count": 2,
      "outputs": [
        {
          "output_type": "stream",
          "text": [
            "Mounted at /content/gdrive\n"
          ],
          "name": "stdout"
        }
      ]
    },
    {
      "cell_type": "code",
      "metadata": {
        "colab": {
          "base_uri": "https://localhost:8080/"
        },
        "id": "L9iGKB2Hh39c",
        "outputId": "f98723d1-2753-4f86-e8e5-c45c4378eaab"
      },
      "source": [
        "import os\n",
        "if 'google.colab' in str(get_ipython()):\n",
        "    print('Running on CoLab')\n",
        "    colab = True\n",
        "    download = os.path.exists('./data/sample_submission.csv')\n",
        "else:\n",
        "    colab = False\n",
        "    print('Not running on CoLab')"
      ],
      "execution_count": 3,
      "outputs": [
        {
          "output_type": "stream",
          "text": [
            "Running on CoLab\n"
          ],
          "name": "stdout"
        }
      ]
    },
    {
      "cell_type": "code",
      "metadata": {
        "id": "GT6zm-Vvh8HO",
        "colab": {
          "base_uri": "https://localhost:8080/"
        },
        "outputId": "47b53184-95ef-4102-ecd0-f4bde4c64c79"
      },
      "source": [
        "if colab:\n",
        "    if not download:\n",
        "        ! pip install --upgrade --force-reinstall --no-deps kaggle\n",
        "        ! mkdir /root/.kaggle\n",
        "        ! cp kaggle.json /root/.kaggle/\n",
        "        ! chmod 600 /root/.kaggle/kaggle.json\n",
        "        ! kaggle competitions download -c ranzcr-clip-catheter-line-classification -p ./data/\n",
        "        ! unzip -qq ./data/'*.zip' -d ./data\n",
        "        ! rm ./data/'ranzcr-clip-catheter-line-classification.zip'\n",
        "        download = True"
      ],
      "execution_count": 4,
      "outputs": [
        {
          "output_type": "stream",
          "text": [
            "Collecting kaggle\n",
            "\u001b[?25l  Downloading https://files.pythonhosted.org/packages/99/33/365c0d13f07a2a54744d027fe20b60dacdfdfb33bc04746db6ad0b79340b/kaggle-1.5.10.tar.gz (59kB)\n",
            "\r\u001b[K     |█████▌                          | 10kB 16.6MB/s eta 0:00:01\r\u001b[K     |███████████                     | 20kB 16.2MB/s eta 0:00:01\r\u001b[K     |████████████████▋               | 30kB 13.6MB/s eta 0:00:01\r\u001b[K     |██████████████████████▏         | 40kB 12.8MB/s eta 0:00:01\r\u001b[K     |███████████████████████████▊    | 51kB 11.4MB/s eta 0:00:01\r\u001b[K     |████████████████████████████████| 61kB 5.2MB/s \n",
            "\u001b[?25hBuilding wheels for collected packages: kaggle\n",
            "  Building wheel for kaggle (setup.py) ... \u001b[?25l\u001b[?25hdone\n",
            "  Created wheel for kaggle: filename=kaggle-1.5.10-cp36-none-any.whl size=73269 sha256=4d0308fb41b4634db8d9b6d54fab7777d359007206148ef3dd7446e8c54edec1\n",
            "  Stored in directory: /root/.cache/pip/wheels/3a/d1/7e/6ce09b72b770149802c653a02783821629146983ee5a360f10\n",
            "Successfully built kaggle\n",
            "Installing collected packages: kaggle\n",
            "  Found existing installation: kaggle 1.5.10\n",
            "    Uninstalling kaggle-1.5.10:\n",
            "      Successfully uninstalled kaggle-1.5.10\n",
            "Successfully installed kaggle-1.5.10\n",
            "Downloading ranzcr-clip-catheter-line-classification.zip to ./data\n",
            "100% 11.7G/11.7G [08:57<00:00, 31.1MB/s]\n",
            "100% 11.7G/11.7G [08:57<00:00, 23.4MB/s]\n"
          ],
          "name": "stdout"
        }
      ]
    },
    {
      "cell_type": "markdown",
      "metadata": {
        "id": "F7dPc2PKhvI2"
      },
      "source": [
        "# Info\n",
        "\n",
        "- building a baseline model using cats vs. dogs architecture, modified by the addition of 2 dropout layers as advised by Omer.\n",
        "- this baseline model includes a preprocessing steps of rescaling of all images to 448x448 size with a single channel (gray scale)\n",
        "- this baseline model is built for multi-label classification:\n",
        "    - output layer has a Sigmoid activation function \n",
        "    - loss function is binary_crossentropy\n",
        "    - chosen metrics is AUC with multi-label parameter set to True (as compatible with the competition requirements)"
      ]
    },
    {
      "cell_type": "markdown",
      "metadata": {
        "id": "fqEPBSw1hvJB"
      },
      "source": [
        "# Setup\n",
        "\n",
        "## import libraries and modules"
      ]
    },
    {
      "cell_type": "code",
      "metadata": {
        "id": "oa909CwLsvyd",
        "colab": {
          "base_uri": "https://localhost:8080/"
        },
        "outputId": "71b62ced-6fb1-42a1-9999-e15a3d402f73"
      },
      "source": [
        "! pip install livelossplot"
      ],
      "execution_count": 5,
      "outputs": [
        {
          "output_type": "stream",
          "text": [
            "Collecting livelossplot\n",
            "  Downloading https://files.pythonhosted.org/packages/57/26/840be243088ce142d61c60273408ec09fa1de4534056a56d6e91b73f0cae/livelossplot-0.5.4-py3-none-any.whl\n",
            "Requirement already satisfied: numpy<1.20; python_version < \"3.7\" in /usr/local/lib/python3.6/dist-packages (from livelossplot) (1.19.5)\n",
            "Requirement already satisfied: matplotlib in /usr/local/lib/python3.6/dist-packages (from livelossplot) (3.2.2)\n",
            "Requirement already satisfied: bokeh in /usr/local/lib/python3.6/dist-packages (from livelossplot) (2.1.1)\n",
            "Requirement already satisfied: ipython in /usr/local/lib/python3.6/dist-packages (from livelossplot) (5.5.0)\n",
            "Requirement already satisfied: pyparsing!=2.0.4,!=2.1.2,!=2.1.6,>=2.0.1 in /usr/local/lib/python3.6/dist-packages (from matplotlib->livelossplot) (2.4.7)\n",
            "Requirement already satisfied: kiwisolver>=1.0.1 in /usr/local/lib/python3.6/dist-packages (from matplotlib->livelossplot) (1.3.1)\n",
            "Requirement already satisfied: cycler>=0.10 in /usr/local/lib/python3.6/dist-packages (from matplotlib->livelossplot) (0.10.0)\n",
            "Requirement already satisfied: python-dateutil>=2.1 in /usr/local/lib/python3.6/dist-packages (from matplotlib->livelossplot) (2.8.1)\n",
            "Requirement already satisfied: typing-extensions>=3.7.4 in /usr/local/lib/python3.6/dist-packages (from bokeh->livelossplot) (3.7.4.3)\n",
            "Requirement already satisfied: tornado>=5.1 in /usr/local/lib/python3.6/dist-packages (from bokeh->livelossplot) (5.1.1)\n",
            "Requirement already satisfied: pillow>=4.0 in /usr/local/lib/python3.6/dist-packages (from bokeh->livelossplot) (7.0.0)\n",
            "Requirement already satisfied: Jinja2>=2.7 in /usr/local/lib/python3.6/dist-packages (from bokeh->livelossplot) (2.11.3)\n",
            "Requirement already satisfied: PyYAML>=3.10 in /usr/local/lib/python3.6/dist-packages (from bokeh->livelossplot) (3.13)\n",
            "Requirement already satisfied: packaging>=16.8 in /usr/local/lib/python3.6/dist-packages (from bokeh->livelossplot) (20.9)\n",
            "Requirement already satisfied: simplegeneric>0.8 in /usr/local/lib/python3.6/dist-packages (from ipython->livelossplot) (0.8.1)\n",
            "Requirement already satisfied: pygments in /usr/local/lib/python3.6/dist-packages (from ipython->livelossplot) (2.6.1)\n",
            "Requirement already satisfied: prompt-toolkit<2.0.0,>=1.0.4 in /usr/local/lib/python3.6/dist-packages (from ipython->livelossplot) (1.0.18)\n",
            "Requirement already satisfied: pickleshare in /usr/local/lib/python3.6/dist-packages (from ipython->livelossplot) (0.7.5)\n",
            "Requirement already satisfied: setuptools>=18.5 in /usr/local/lib/python3.6/dist-packages (from ipython->livelossplot) (53.0.0)\n",
            "Requirement already satisfied: traitlets>=4.2 in /usr/local/lib/python3.6/dist-packages (from ipython->livelossplot) (4.3.3)\n",
            "Requirement already satisfied: pexpect; sys_platform != \"win32\" in /usr/local/lib/python3.6/dist-packages (from ipython->livelossplot) (4.8.0)\n",
            "Requirement already satisfied: decorator in /usr/local/lib/python3.6/dist-packages (from ipython->livelossplot) (4.4.2)\n",
            "Requirement already satisfied: six in /usr/local/lib/python3.6/dist-packages (from cycler>=0.10->matplotlib->livelossplot) (1.15.0)\n",
            "Requirement already satisfied: MarkupSafe>=0.23 in /usr/local/lib/python3.6/dist-packages (from Jinja2>=2.7->bokeh->livelossplot) (1.1.1)\n",
            "Requirement already satisfied: wcwidth in /usr/local/lib/python3.6/dist-packages (from prompt-toolkit<2.0.0,>=1.0.4->ipython->livelossplot) (0.2.5)\n",
            "Requirement already satisfied: ipython-genutils in /usr/local/lib/python3.6/dist-packages (from traitlets>=4.2->ipython->livelossplot) (0.2.0)\n",
            "Requirement already satisfied: ptyprocess>=0.5 in /usr/local/lib/python3.6/dist-packages (from pexpect; sys_platform != \"win32\"->ipython->livelossplot) (0.7.0)\n",
            "Installing collected packages: livelossplot\n",
            "Successfully installed livelossplot-0.5.4\n"
          ],
          "name": "stdout"
        }
      ]
    },
    {
      "cell_type": "code",
      "metadata": {
        "ExecuteTime": {
          "end_time": "2021-01-25T09:08:28.417616Z",
          "start_time": "2021-01-25T09:08:28.412516Z"
        },
        "scrolled": true,
        "id": "xdtfX4zMhvJC"
      },
      "source": [
        "import matplotlib.pyplot as plt\n",
        "import warnings\n",
        "import datetime\n",
        "warnings.filterwarnings(\"ignore\")\n",
        "warnings.filterwarnings(\"ignore\", category=DeprecationWarning)\n",
        "import cv2\n",
        "import os\n",
        "import numpy as np\n",
        "from pathlib import Path\n",
        "from multiprocessing import Pool\n",
        "import pandas as pd\n",
        "import tensorflow as tf\n",
        "from tensorflow.keras.models import Sequential\n",
        "from tensorflow.keras.layers import Dense, Dropout, Flatten,Conv2D, MaxPooling2D\n",
        "from tensorflow.keras.callbacks import EarlyStopping, ModelCheckpoint\n",
        "from tensorflow.keras.layers.experimental.preprocessing import Rescaling\n",
        "from tensorflow.keras.metrics import AUC, Precision, Recall\n",
        "from sklearn.model_selection import train_test_split, GroupShuffleSplit\n",
        "import pickle\n",
        "from sklearn.metrics import classification_report, roc_curve, auc\n",
        "from scipy import interp\n",
        "from livelossplot import PlotLossesKeras\n",
        "%matplotlib inline"
      ],
      "execution_count": 4,
      "outputs": []
    },
    {
      "cell_type": "markdown",
      "metadata": {
        "id": "QR20RJJ2hvJE"
      },
      "source": [
        "## set constants"
      ]
    },
    {
      "cell_type": "code",
      "metadata": {
        "ExecuteTime": {
          "end_time": "2021-01-25T07:41:17.063096Z",
          "start_time": "2021-01-25T07:41:17.050075Z"
        },
        "id": "GaOBN2MvhvJE"
      },
      "source": [
        "DATA = Path('data/')\n",
        "\n",
        "# input files and directories\n",
        "TRAIN_META = DATA / 'train.csv'\n",
        "TRAIN_IMG_DIR = DATA / 'train/'\n",
        "TEST_IMG_DIR = DATA / 'test/'\n",
        "\n",
        "# output files and directories\n",
        "BASE =  Path ('BaseLine/')\n",
        "TRAIN_RESIZE_DIR =  BASE / 'train_resize'\n",
        "TEST_RESIZE_DIR = BASE / 'test_resize'\n",
        "MODEL_CHECKPOINT = BASE / 'Checkpoint/weights.{epoch:02d}-{val_loss:.2f}.hdf5'\n",
        "SERIALIZED =  BASE / 'Serialized'\n",
        "MODEL =  SERIALIZED / 'model.json'\n",
        "MODEL_WEIGHTS =  SERIALIZED / 'weights.h5'\n",
        "MODEL_HISTORY =  SERIALIZED / 'history.pkl'\n",
        "\n",
        "# generate output directories in case not exist\n",
        "os.makedirs(TRAIN_RESIZE_DIR, exist_ok=True)\n",
        "os.makedirs(TEST_RESIZE_DIR, exist_ok=True)\n",
        "os.makedirs(SERIALIZED, exist_ok=True)\n",
        "\n",
        "CASE = 'StudyInstanceUID'\n",
        "ID = 'PatientID'\n",
        "\n",
        "# constants for preprocessing\n",
        "NEW_SIZE = (244,244)\n",
        "IMG_SIZE = NEW_SIZE + (1, )\n",
        "\n",
        "# parameters for sequential model\n",
        "RSCL = 1/255\n",
        "N_FILTERS = 64\n",
        "FILTER2D_size = 1\n",
        "ACTIVATION = 'relu'\n",
        "RATE = 0.5\n",
        "DENSE_DIM = 64\n",
        "OUT_ACTIVATION = 'sigmoid'\n",
        "\n",
        "# parameters for callbacks\n",
        "\n",
        "MONITOR = 'val_loss'\n",
        "PATIENCE = 2\n",
        "\n",
        "# parameters for compilation\n",
        "METRICS=[AUC(multi_label=True), Precision(), Recall()]\n",
        "OPTIMIZER = 'adam'\n",
        "LOSS = 'binary_crossentropy'\n",
        "\n",
        "# parameters for fitting\n",
        "EPOCHS = 100\n",
        "BATCH_SIZE = 32\n",
        "\n",
        "# general\n",
        "RANDOM_STATE = 42\n",
        "TEST_VALIDATION_SIZE = 0.2\n",
        "AVAIL_CPU = None\n",
        "\n",
        "np.random.seed(RANDOM_STATE)"
      ],
      "execution_count": 7,
      "outputs": []
    },
    {
      "cell_type": "markdown",
      "metadata": {
        "id": "VwhBrulqhvJG"
      },
      "source": [
        "## load meta file"
      ]
    },
    {
      "cell_type": "code",
      "metadata": {
        "ExecuteTime": {
          "end_time": "2021-01-24T20:54:56.766544Z",
          "start_time": "2021-01-24T20:54:56.707614Z"
        },
        "id": "Wiu0bfXehvJG"
      },
      "source": [
        "df = pd.read_csv(TRAIN_META)"
      ],
      "execution_count": 8,
      "outputs": []
    },
    {
      "cell_type": "code",
      "metadata": {
        "id": "tJuQe5jrryLi",
        "colab": {
          "base_uri": "https://localhost:8080/",
          "height": 238
        },
        "outputId": "cf6b0401-0b46-4b22-991e-06d8ffe12f6f"
      },
      "source": [
        "df.head()"
      ],
      "execution_count": 9,
      "outputs": [
        {
          "output_type": "execute_result",
          "data": {
            "text/html": [
              "<div>\n",
              "<style scoped>\n",
              "    .dataframe tbody tr th:only-of-type {\n",
              "        vertical-align: middle;\n",
              "    }\n",
              "\n",
              "    .dataframe tbody tr th {\n",
              "        vertical-align: top;\n",
              "    }\n",
              "\n",
              "    .dataframe thead th {\n",
              "        text-align: right;\n",
              "    }\n",
              "</style>\n",
              "<table border=\"1\" class=\"dataframe\">\n",
              "  <thead>\n",
              "    <tr style=\"text-align: right;\">\n",
              "      <th></th>\n",
              "      <th>StudyInstanceUID</th>\n",
              "      <th>ETT - Abnormal</th>\n",
              "      <th>ETT - Borderline</th>\n",
              "      <th>ETT - Normal</th>\n",
              "      <th>NGT - Abnormal</th>\n",
              "      <th>NGT - Borderline</th>\n",
              "      <th>NGT - Incompletely Imaged</th>\n",
              "      <th>NGT - Normal</th>\n",
              "      <th>CVC - Abnormal</th>\n",
              "      <th>CVC - Borderline</th>\n",
              "      <th>CVC - Normal</th>\n",
              "      <th>Swan Ganz Catheter Present</th>\n",
              "      <th>PatientID</th>\n",
              "    </tr>\n",
              "  </thead>\n",
              "  <tbody>\n",
              "    <tr>\n",
              "      <th>0</th>\n",
              "      <td>1.2.826.0.1.3680043.8.498.26697628953273228189...</td>\n",
              "      <td>0</td>\n",
              "      <td>0</td>\n",
              "      <td>0</td>\n",
              "      <td>0</td>\n",
              "      <td>0</td>\n",
              "      <td>0</td>\n",
              "      <td>1</td>\n",
              "      <td>0</td>\n",
              "      <td>0</td>\n",
              "      <td>0</td>\n",
              "      <td>0</td>\n",
              "      <td>ec89415d1</td>\n",
              "    </tr>\n",
              "    <tr>\n",
              "      <th>1</th>\n",
              "      <td>1.2.826.0.1.3680043.8.498.46302891597398758759...</td>\n",
              "      <td>0</td>\n",
              "      <td>0</td>\n",
              "      <td>1</td>\n",
              "      <td>0</td>\n",
              "      <td>0</td>\n",
              "      <td>1</td>\n",
              "      <td>0</td>\n",
              "      <td>0</td>\n",
              "      <td>0</td>\n",
              "      <td>1</td>\n",
              "      <td>0</td>\n",
              "      <td>bf4c6da3c</td>\n",
              "    </tr>\n",
              "    <tr>\n",
              "      <th>2</th>\n",
              "      <td>1.2.826.0.1.3680043.8.498.23819260719748494858...</td>\n",
              "      <td>0</td>\n",
              "      <td>0</td>\n",
              "      <td>0</td>\n",
              "      <td>0</td>\n",
              "      <td>0</td>\n",
              "      <td>0</td>\n",
              "      <td>0</td>\n",
              "      <td>0</td>\n",
              "      <td>1</td>\n",
              "      <td>0</td>\n",
              "      <td>0</td>\n",
              "      <td>3fc1c97e5</td>\n",
              "    </tr>\n",
              "    <tr>\n",
              "      <th>3</th>\n",
              "      <td>1.2.826.0.1.3680043.8.498.68286643202323212801...</td>\n",
              "      <td>0</td>\n",
              "      <td>0</td>\n",
              "      <td>0</td>\n",
              "      <td>0</td>\n",
              "      <td>0</td>\n",
              "      <td>0</td>\n",
              "      <td>0</td>\n",
              "      <td>1</td>\n",
              "      <td>0</td>\n",
              "      <td>0</td>\n",
              "      <td>0</td>\n",
              "      <td>c31019814</td>\n",
              "    </tr>\n",
              "    <tr>\n",
              "      <th>4</th>\n",
              "      <td>1.2.826.0.1.3680043.8.498.10050203009225938259...</td>\n",
              "      <td>0</td>\n",
              "      <td>0</td>\n",
              "      <td>0</td>\n",
              "      <td>0</td>\n",
              "      <td>0</td>\n",
              "      <td>0</td>\n",
              "      <td>0</td>\n",
              "      <td>0</td>\n",
              "      <td>0</td>\n",
              "      <td>1</td>\n",
              "      <td>0</td>\n",
              "      <td>207685cd1</td>\n",
              "    </tr>\n",
              "  </tbody>\n",
              "</table>\n",
              "</div>"
            ],
            "text/plain": [
              "                                    StudyInstanceUID  ...  PatientID\n",
              "0  1.2.826.0.1.3680043.8.498.26697628953273228189...  ...  ec89415d1\n",
              "1  1.2.826.0.1.3680043.8.498.46302891597398758759...  ...  bf4c6da3c\n",
              "2  1.2.826.0.1.3680043.8.498.23819260719748494858...  ...  3fc1c97e5\n",
              "3  1.2.826.0.1.3680043.8.498.68286643202323212801...  ...  c31019814\n",
              "4  1.2.826.0.1.3680043.8.498.10050203009225938259...  ...  207685cd1\n",
              "\n",
              "[5 rows x 13 columns]"
            ]
          },
          "metadata": {
            "tags": []
          },
          "execution_count": 9
        }
      ]
    },
    {
      "cell_type": "markdown",
      "metadata": {
        "id": "aMb-YOUMhvJH"
      },
      "source": [
        "## get labels"
      ]
    },
    {
      "cell_type": "code",
      "metadata": {
        "ExecuteTime": {
          "end_time": "2021-01-24T20:54:57.604843Z",
          "start_time": "2021-01-24T20:54:57.593440Z"
        },
        "id": "r7bPL7-NhvJH",
        "colab": {
          "base_uri": "https://localhost:8080/"
        },
        "outputId": "cadf080b-1fb0-4de0-9e44-6a04f144955f"
      },
      "source": [
        "labels = df.select_dtypes(int).columns\n",
        "print(labels)"
      ],
      "execution_count": 10,
      "outputs": [
        {
          "output_type": "stream",
          "text": [
            "Index(['ETT - Abnormal', 'ETT - Borderline', 'ETT - Normal', 'NGT - Abnormal',\n",
            "       'NGT - Borderline', 'NGT - Incompletely Imaged', 'NGT - Normal',\n",
            "       'CVC - Abnormal', 'CVC - Borderline', 'CVC - Normal',\n",
            "       'Swan Ganz Catheter Present'],\n",
            "      dtype='object')\n"
          ],
          "name": "stdout"
        }
      ]
    },
    {
      "cell_type": "markdown",
      "metadata": {
        "id": "_HCma4V9hvJI"
      },
      "source": [
        "## help functions"
      ]
    },
    {
      "cell_type": "code",
      "metadata": {
        "ExecuteTime": {
          "end_time": "2021-01-24T20:56:48.551963Z",
          "start_time": "2021-01-24T20:56:48.540397Z"
        },
        "id": "hFJq2DDyhvJI"
      },
      "source": [
        "def show_img(img: np.array, axes=None, title: str='', cmap: str = 'gray'):\n",
        "    \"\"\"\n",
        "    This function gets an image as a numpy array and show it.\n",
        "    default on grayscale\n",
        "    \"\"\"\n",
        "    if not axes:\n",
        "        _, axes = plt.subplots()\n",
        "    axes.imshow(img, cmap=cmap)\n",
        "    axes.set_title(title)\n",
        "    \n",
        "def preprocess(img_path: Path, processed_path: Path, size = NEW_SIZE, \n",
        "               scale=cv2.IMREAD_GRAYSCALE):\n",
        "    \"\"\"\n",
        "    This function gets a path to an image,\n",
        "    resize it to a given size and saves it back to the drive.\n",
        "    \"\"\"\n",
        "    new_img = cv2.resize(cv2.imread(str(img_path), scale), size)\n",
        "    cv2.imwrite(str(processed_path), new_img)\n",
        "    if colab:  # added to save space on google colab drive.\n",
        "        os.remove(str(img_path))\n",
        "\n",
        "    \n",
        "\n",
        "def validate_file(record: Path):\n",
        "    \"\"\"\n",
        "    This function gets a path and checkes if there is a file for that path.\n",
        "    \"\"\"\n",
        "    if record.is_file() & record.exists():\n",
        "        return True\n",
        "    return False\n",
        "\n",
        "\n",
        "def numipy_train(meta: pd.DataFrame, img_dir: Path,\n",
        "                 suffix: str = '.jpg', case_col: str = CASE, \n",
        "                 labels_col = labels, \n",
        "                 scale=cv2.IMREAD_GRAYSCALE, \n",
        "                 image_dir_temp_col = 'images', cpu: int=None):\n",
        "    \"\"\"\n",
        "    This functino gets a Panda's dataframe with a path to the image files and \n",
        "    returns numpy array for those images and the currect lables from the train file.\n",
        "    \"\"\"\n",
        "    if colab:\n",
        "        meta[image_dir_temp_col] = (meta[case_col] + suffix).apply(lambda img_path: img_dir / img_path)\n",
        "    else:\n",
        "        meta[image_dir_temp_col] = img_dir / (meta[case_col] + suffix)\n",
        "    msk = meta[image_dir_temp_col].apply(validate_file)\n",
        "    meta = meta[msk]\n",
        "    images, label_values = meta[image_dir_temp_col].to_list(), meta[labels_col].values\n",
        "    images = [(str(image), scale) for image in images]\n",
        "    with Pool(cpu) as p: images = p.starmap(cv2.imread, images)\n",
        "    return np.array(images), label_values\n",
        "\n",
        "def numipy_test(img_dir: Path, suffix: str = '.jpg',\n",
        "                 scale=cv2.IMREAD_GRAYSCALE, cpu: int=None):\n",
        "    \"\"\"\n",
        "    This functino gets a Panda's dataframe with a path to the image files and \n",
        "    returns numpy array for those images.\n",
        "    \"\"\"\n",
        "    \n",
        "    images = list(img_dir.glob('*' + suffix))\n",
        "    images = [(str(image), scale) for image in images]\n",
        "    with Pool(cpu) as p: images = p.starmap(cv2.imread, images)\n",
        "    return np.array(images)\n",
        "    \n",
        "\n",
        "def multi_preprocess(input_dir: Path, output_dir: Path, glob: str='*.jpg',\n",
        "                      size: tuple=NEW_SIZE, scale=cv2.IMREAD_GRAYSCALE, \n",
        "                      cpu: int=None):\n",
        "    \"\"\"\n",
        "    This function gets the path to a folder with all images and does \n",
        "    preprocessing on all the .jpg files on that folder.\n",
        "    \"\"\"\n",
        "    pool_lst = []\n",
        "    os.makedirs(output_dir, exist_ok=True)\n",
        "    for input_img in input_dir.glob(glob):\n",
        "        pool_lst.append((input_img, output_dir/input_img.name, size, scale))\n",
        "    with Pool(cpu) as p: p.starmap(preprocess, pool_lst)\n"
      ],
      "execution_count": 11,
      "outputs": []
    },
    {
      "cell_type": "markdown",
      "metadata": {
        "id": "twLskqYWq7nt"
      },
      "source": [
        "## set image generators"
      ]
    },
    {
      "cell_type": "code",
      "metadata": {
        "id": "xTGSb1zdPnKZ"
      },
      "source": [
        "df[CASE] = df[CASE].apply(lambda name: name+'.jpg')"
      ],
      "execution_count": 12,
      "outputs": []
    },
    {
      "cell_type": "code",
      "metadata": {
        "colab": {
          "base_uri": "https://localhost:8080/"
        },
        "id": "-Cja4XV18VvA",
        "outputId": "55a9d2cc-a7a8-4f7f-c3d3-557f4c7ae8a3"
      },
      "source": [
        "len(test_val_inds)"
      ],
      "execution_count": 27,
      "outputs": [
        {
          "output_type": "execute_result",
          "data": {
            "text/plain": [
              "5250"
            ]
          },
          "metadata": {
            "tags": []
          },
          "execution_count": 27
        }
      ]
    },
    {
      "cell_type": "code",
      "metadata": {
        "id": "iidd8dWG71fQ"
      },
      "source": [
        "\n",
        "\n",
        "train_inds, test_val_inds = next(GroupShuffleSplit(test_size=TEST_VALIDATION_SIZE,\n",
        "                      n_splits=1,\n",
        "                      random_state = RANDOM_STATE).\\\n",
        "                            split(df, groups=df[ID]))\n",
        "val_inds, test_inds = next(GroupShuffleSplit(test_size=0.5,\n",
        "                      n_splits=1,\n",
        "                      random_state = RANDOM_STATE).\\\n",
        "                            split(df.loc[test_val_inds],\n",
        "                                  groups=df.loc[test_val_inds][ID]))"
      ],
      "execution_count": 30,
      "outputs": []
    },
    {
      "cell_type": "code",
      "metadata": {
        "id": "WgmfEf7C8ltq"
      },
      "source": [
        "gen_properties = {'featurewise_center':False,\n",
        "    'samplewise_center':False,\n",
        "    'featurewise_std_normalization':False,\n",
        "    'samplewise_std_normalization':False,\n",
        "    'zca_whitening':False,\n",
        "    'zca_epsilon':1e-06,\n",
        "    'rotation_range':0,\n",
        "    'width_shift_range':0.0,\n",
        "    'height_shift_range':0.0,\n",
        "    'brightness_range':None,\n",
        "    'shear_range':0.0,\n",
        "    'zoom_range':0.0,\n",
        "    'channel_shift_range':0.0,\n",
        "    'fill_mode':\"nearest\",\n",
        "    'cval':0.0,\n",
        "    'horizontal_flip':False,\n",
        "    'vertical_flip':False,\n",
        "    'rescale':RSCL,\n",
        "    'preprocessing_function':None,\n",
        "    'data_format':None,\n",
        "    'validation_split':0.0,\n",
        "    'dtype':None,}"
      ],
      "execution_count": 36,
      "outputs": []
    },
    {
      "cell_type": "code",
      "metadata": {
        "id": "V9sgweQtrETf",
        "colab": {
          "base_uri": "https://localhost:8080/"
        },
        "outputId": "63703abf-0f3a-4dac-eb14-58db6e0b154d"
      },
      "source": [
        "train_datagen=tf.keras.preprocessing.image.ImageDataGenerator(**gen_properties)\n",
        "val_datagen=tf.keras.preprocessing.image.ImageDataGenerator(**gen_properties)\n",
        "test_datagen=tf.keras.preprocessing.image.ImageDataGenerator(**gen_properties)\n",
        "\n",
        "print('train data:')\n",
        "train_generator=train_datagen.flow_from_dataframe(\n",
        "    dataframe=df.iloc[train_inds],\n",
        "    directory=TRAIN_IMG_DIR,\n",
        "    x_col=CASE,\n",
        "    y_col=labels,\n",
        "    batch_size=BATCH_SIZE,\n",
        "    color_mode=\"grayscale\",\n",
        "    seed=RANDOM_STATE,\n",
        "    shuffle=True,\n",
        "    class_mode=\"raw\",\n",
        "    target_size=NEW_SIZE)\n",
        "\n",
        "print('\\nval data:')\n",
        "val_generator=val_datagen.flow_from_dataframe(\n",
        "    dataframe=df.iloc[val_inds],\n",
        "    directory=TRAIN_IMG_DIR,\n",
        "    x_col=CASE,\n",
        "    y_col=labels,\n",
        "    batch_size=BATCH_SIZE,\n",
        "    color_mode=\"grayscale\",\n",
        "    seed=RANDOM_STATE,\n",
        "    shuffle=True,\n",
        "    class_mode=\"raw\",\n",
        "    target_size=NEW_SIZE)\n",
        "\n",
        "print('\\ntest data:')\n",
        "test_generator=test_datagen.flow_from_dataframe(\n",
        "    dataframe=df.iloc[test_inds],\n",
        "    directory=TRAIN_IMG_DIR,\n",
        "    x_col=CASE,\n",
        "    y_col=labels,\n",
        "    batch_size=BATCH_SIZE,\n",
        "    color_mode=\"grayscale\",\n",
        "    seed=RANDOM_STATE,\n",
        "    shuffle=True,\n",
        "    class_mode=\"raw\",\n",
        "    target_size=NEW_SIZE)"
      ],
      "execution_count": 44,
      "outputs": [
        {
          "output_type": "stream",
          "text": [
            "train data:\n",
            "Found 24833 validated image filenames.\n",
            "\n",
            "val data:\n",
            "Found 2739 validated image filenames.\n",
            "\n",
            "test data:\n",
            "Found 2511 validated image filenames.\n"
          ],
          "name": "stdout"
        }
      ]
    },
    {
      "cell_type": "markdown",
      "metadata": {
        "id": "s4HdIZcPhvJK"
      },
      "source": [
        "# Preprocess\n",
        "\n",
        "## preprocess train"
      ]
    },
    {
      "cell_type": "markdown",
      "metadata": {
        "ExecuteTime": {
          "end_time": "2021-01-23T15:49:34.854458Z",
          "start_time": "2021-01-23T15:49:34.851131Z"
        },
        "id": "ezLp4iWLhvJO"
      },
      "source": [
        "# basic CNN\n",
        "\n",
        "## make sequential model architecture"
      ]
    },
    {
      "cell_type": "code",
      "metadata": {
        "id": "xsF7-8ZamR1W"
      },
      "source": [
        "layers = []\n",
        "#layers.append(Rescaling(RSCL, input_shape=IMG_SIZE, name='rescale')) # rescaling layer\n",
        "layers.append(Conv2D(N_FILTERS, FILTER2D_size, input_shape=IMG_SIZE, activation=ACTIVATION, name='conv_1')) # 1st conv layer\n",
        "layers.append(MaxPooling2D(name='max_pool1')) # 1st max pooling layer\n",
        "layers.append(Conv2D(N_FILTERS, FILTER2D_size, activation=ACTIVATION, name='conv_2')) # 2nd conv layer\n",
        "layers.append(MaxPooling2D(name='max_pool2')) # 2nd max pooling layer\n",
        "layers.append(Conv2D(N_FILTERS, FILTER2D_size, activation=ACTIVATION, name='conv_3')) # 3nd conv layer\n",
        "layers.append(MaxPooling2D(name='max_pool3')) # 3rd  max pooling layer\n",
        "layers.append(Flatten(name='flat')) # flatten layer\n",
        "layers.append(Dropout(RATE, name='dropout_1')) # Dropout layer\n",
        "layers.append(Dense(DENSE_DIM, activation=ACTIVATION, name='dense')) # 1st fully connected layer\n",
        "layers.append(Dropout(RATE, name='dropout_2'),) # Dropout layer\n",
        "layers.append(Dense(len(labels), activation=OUT_ACTIVATION, name='out')) # 2nd fully connected layer\n",
        "model = Sequential(layers, name='BaseModel')"
      ],
      "execution_count": 45,
      "outputs": []
    },
    {
      "cell_type": "markdown",
      "metadata": {
        "id": "lZ7W-dBOhvJR"
      },
      "source": [
        "## model summary"
      ]
    },
    {
      "cell_type": "code",
      "metadata": {
        "ExecuteTime": {
          "end_time": "2021-01-24T21:47:52.091055Z",
          "start_time": "2021-01-24T21:47:52.086728Z"
        },
        "id": "RFYvG5rkhvJS",
        "colab": {
          "base_uri": "https://localhost:8080/"
        },
        "outputId": "9caf250f-e247-476e-814f-e4134a4f24d5"
      },
      "source": [
        "model.summary()"
      ],
      "execution_count": 46,
      "outputs": [
        {
          "output_type": "stream",
          "text": [
            "Model: \"BaseModel\"\n",
            "_________________________________________________________________\n",
            "Layer (type)                 Output Shape              Param #   \n",
            "=================================================================\n",
            "conv_1 (Conv2D)              (None, 244, 244, 64)      128       \n",
            "_________________________________________________________________\n",
            "max_pool1 (MaxPooling2D)     (None, 122, 122, 64)      0         \n",
            "_________________________________________________________________\n",
            "conv_2 (Conv2D)              (None, 122, 122, 64)      4160      \n",
            "_________________________________________________________________\n",
            "max_pool2 (MaxPooling2D)     (None, 61, 61, 64)        0         \n",
            "_________________________________________________________________\n",
            "conv_3 (Conv2D)              (None, 61, 61, 64)        4160      \n",
            "_________________________________________________________________\n",
            "max_pool3 (MaxPooling2D)     (None, 30, 30, 64)        0         \n",
            "_________________________________________________________________\n",
            "flat (Flatten)               (None, 57600)             0         \n",
            "_________________________________________________________________\n",
            "dropout_1 (Dropout)          (None, 57600)             0         \n",
            "_________________________________________________________________\n",
            "dense (Dense)                (None, 64)                3686464   \n",
            "_________________________________________________________________\n",
            "dropout_2 (Dropout)          (None, 64)                0         \n",
            "_________________________________________________________________\n",
            "out (Dense)                  (None, 11)                715       \n",
            "=================================================================\n",
            "Total params: 3,695,627\n",
            "Trainable params: 3,695,627\n",
            "Non-trainable params: 0\n",
            "_________________________________________________________________\n"
          ],
          "name": "stdout"
        }
      ]
    },
    {
      "cell_type": "markdown",
      "metadata": {
        "id": "KV6VSKy6hvJW"
      },
      "source": [
        "## compile model"
      ]
    },
    {
      "cell_type": "code",
      "metadata": {
        "ExecuteTime": {
          "end_time": "2021-01-24T21:52:49.448712Z",
          "start_time": "2021-01-24T21:52:49.434390Z"
        },
        "id": "JbYPADJahvJX"
      },
      "source": [
        "model.compile(optimizer=OPTIMIZER, loss=LOSS, metrics=METRICS)"
      ],
      "execution_count": 47,
      "outputs": []
    },
    {
      "cell_type": "markdown",
      "metadata": {
        "id": "SPFyfteWhvJV"
      },
      "source": [
        "## Callbacks"
      ]
    },
    {
      "cell_type": "code",
      "metadata": {
        "ExecuteTime": {
          "end_time": "2021-01-24T21:52:47.978164Z",
          "start_time": "2021-01-24T21:52:47.970792Z"
        },
        "id": "I3bfYCxxhvJV"
      },
      "source": [
        "checkpoint = ModelCheckpoint(\n",
        "    MODEL_CHECKPOINT, monitor=MONITOR, verbose=1, save_best_only=True,\n",
        "    save_weights_only=False, mode='auto')\n",
        "ES = EarlyStopping(monitor=MONITOR, patience=PATIENCE)\n",
        "live_plot = PlotLossesKeras()"
      ],
      "execution_count": 48,
      "outputs": []
    },
    {
      "cell_type": "markdown",
      "metadata": {
        "id": "YwEvCu_hhvJX"
      },
      "source": [
        "# train"
      ]
    },
    {
      "cell_type": "code",
      "metadata": {
        "ExecuteTime": {
          "end_time": "2021-01-25T01:12:16.321487Z",
          "start_time": "2021-01-24T21:53:17.068266Z"
        },
        "scrolled": true,
        "id": "zNrMVco4hvJY",
        "colab": {
          "base_uri": "https://localhost:8080/",
          "height": 1000
        },
        "outputId": "d316f539-c00d-4137-b7b7-e7e596eb46b0"
      },
      "source": [
        "model.fit(x=train_generator,\n",
        "          validation_data=valid_generator,\n",
        "          batch_size=BATCH_SIZE,\n",
        "          epochs=EPOCHS,\n",
        "          callbacks=[checkpoint, ES, live_plot])"
      ],
      "execution_count": 49,
      "outputs": [
        {
          "output_type": "display_data",
          "data": {
            "image/png": "[encoded data removed]",
            "text/plain": [
              "<Figure size 864x864 with 4 Axes>"
            ]
          },
          "metadata": {
            "tags": [],
            "needs_background": "light"
          }
        },
        {
          "output_type": "stream",
          "text": [
            "auc\n",
            "\ttraining         \t (min:    0.493, max:    0.503, cur:    0.500)\n",
            "\tvalidation       \t (min:    0.500, max:    0.500, cur:    0.500)\n",
            "Loss\n",
            "\ttraining         \t (min:    0.301, max:    0.714, cur:    0.301)\n",
            "\tvalidation       \t (min:    0.307, max:    0.489, cur:    0.307)\n",
            "precision\n",
            "\ttraining         \t (min:    0.696, max:    0.713, cur:    0.713)\n",
            "\tvalidation       \t (min:    0.706, max:    0.706, cur:    0.706)\n",
            "recall\n",
            "\ttraining         \t (min:    0.418, max:    0.418, cur:    0.418)\n",
            "\tvalidation       \t (min:    0.410, max:    0.410, cur:    0.410)\n"
          ],
          "name": "stdout"
        },
        {
          "output_type": "execute_result",
          "data": {
            "text/plain": [
              "<tensorflow.python.keras.callbacks.History at 0x7fd1e6902198>"
            ]
          },
          "metadata": {
            "tags": []
          },
          "execution_count": 49
        }
      ]
    },
    {
      "cell_type": "markdown",
      "metadata": {
        "id": "Iw7uUn4Je2Ql"
      },
      "source": [
        "# Saving the model to file"
      ]
    },
    {
      "cell_type": "code",
      "metadata": {
        "id": "M8b8O8JTfXG7"
      },
      "source": [
        "model_name = str(datetime.date.today())"
      ],
      "execution_count": 6,
      "outputs": []
    },
    {
      "cell_type": "code",
      "metadata": {
        "id": "6BQAPa6Ye1cj",
        "colab": {
          "base_uri": "https://localhost:8080/"
        },
        "outputId": "a80c57ac-512d-4740-eea4-dcdfa7fa79f1"
      },
      "source": [
        "! rm -r '/content/gdrive/MyDrive/TheCatheterNinjas/saved_model/{model_name}'\n",
        "model.save(f'/content/gdrive/MyDrive/TheCatheterNinjas/saved_model/{model_name}')"
      ],
      "execution_count": 51,
      "outputs": [
        {
          "output_type": "stream",
          "text": [
            "rm: cannot remove '/content/gdrive/MyDrive/TheCatheterNinjas/saved_model/2021-02-04': No such file or directory\n",
            "INFO:tensorflow:Assets written to: /content/gdrive/MyDrive/TheCatheterNinjas/saved_model/2021-02-04/assets\n"
          ],
          "name": "stdout"
        }
      ]
    },
    {
      "cell_type": "markdown",
      "metadata": {
        "id": "OEFcf_Wt1UMz"
      },
      "source": [
        "# Evaluating the model"
      ]
    },
    {
      "cell_type": "code",
      "metadata": {
        "id": "n6yb5qi1_S_p"
      },
      "source": [
        "model = tf.keras.models.load_model(f'/content/gdrive/MyDrive/TheCatheterNinjas/saved_model/{model_name}')"
      ],
      "execution_count": 16,
      "outputs": []
    },
    {
      "cell_type": "code",
      "metadata": {
        "id": "KZTZNwIi1sW0"
      },
      "source": [
        "true = test_generator.labels"
      ],
      "execution_count": null,
      "outputs": []
    },
    {
      "cell_type": "code",
      "metadata": {
        "id": "M5IsMXvXp6iu"
      },
      "source": [
        "pred = model.predict(test_generator)"
      ],
      "execution_count": null,
      "outputs": []
    },
    {
      "cell_type": "markdown",
      "metadata": {
        "id": "D0gwjMeohvJf"
      },
      "source": [
        "### plotting - each label separately"
      ]
    },
    {
      "cell_type": "code",
      "metadata": {
        "ExecuteTime": {
          "end_time": "2021-01-25T09:36:13.419600Z",
          "start_time": "2021-01-25T09:36:13.196553Z"
        },
        "id": "kCorJFf1hvJf"
      },
      "source": [
        "_, ax = plt.subplots(figsize=(10,10))\n",
        "ax.plot([0, 1], [0, 1], 'k--')\n",
        "fprs, tprs = [], []\n",
        "n_classes = len(labels)\n",
        "\n",
        "fpr_sum, tpr_sum = 0, 0\n",
        "for i, label in enumerate(labels):\n",
        "    label_fpr, label_tpr, thresh = roc_curve(true[:, i], pred[:, i])\n",
        "    label_auc = auc(label_fpr, label_tpr)\n",
        "    ax.plot(label_fpr, label_tpr, label='{} (area = {:.3f})'.format(label, label_auc))\n",
        "    fprs.append(label_fpr)\n",
        "    tprs.append(label_tpr)\n",
        "\n",
        "     \n",
        "# micro \n",
        "fpr_micro, tpr_micro, _ = roc_curve(true.ravel(), pred.ravel())\n",
        "auc_micro = auc(fpr_micro, tpr_micro)\n",
        "\n",
        "ax.plot(fpr_micro, tpr_micro,\n",
        "         label='micro-average (area = {0:0.2f})'.format(auc_micro), \n",
        "        color='deeppink', linestyle=':', linewidth=4)\n",
        "    \n",
        "# macro \n",
        "all_fpr = np.unique(np.concatenate(fprs))\n",
        "mean_tpr = np.zeros_like(all_fpr)\n",
        "for i in range(n_classes):\n",
        "    mean_tpr += interp(all_fpr, fprs[i], tprs[i])\n",
        "mean_tpr/=n_classes\n",
        "fpr_macro = all_fpr\n",
        "tpr_macro = mean_tpr\n",
        "auc_macro = auc(fpr_macro, tpr_macro)\n",
        "\n",
        "ax.plot(fpr_macro, tpr_macro, \n",
        "        label='macro-average (area = {0:0.2f})'.format(auc_macro),\n",
        "         color='navy', linestyle=':', linewidth=4)\n",
        "\n",
        "plt.xlabel('False positive rate')\n",
        "plt.ylabel('True positive rate')\n",
        "plt.title('ROC curve')\n",
        "plt.legend(loc=(1.01,0.69))\n",
        "plt.show()"
      ],
      "execution_count": null,
      "outputs": []
    },
    {
      "cell_type": "markdown",
      "metadata": {
        "ExecuteTime": {
          "end_time": "2021-01-25T07:55:53.371555Z",
          "start_time": "2021-01-25T07:55:53.369412Z"
        },
        "id": "8E9CtLolhvJg"
      },
      "source": [
        "## classification report"
      ]
    },
    {
      "cell_type": "code",
      "metadata": {
        "ExecuteTime": {
          "end_time": "2021-01-25T07:57:21.716172Z",
          "start_time": "2021-01-25T07:57:21.700852Z"
        },
        "id": "Q9EJsEjqhvJh"
      },
      "source": [
        "#print(classification_report(y_test, y_predicted_label, target_names=labels))"
      ],
      "execution_count": null,
      "outputs": []
    }
  ]
}