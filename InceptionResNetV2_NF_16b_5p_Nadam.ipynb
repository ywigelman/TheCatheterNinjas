{
  "nbformat": 4,
  "nbformat_minor": 0,
  "metadata": {
    "kernelspec": {
      "name": "python3",
      "display_name": "Python 3"
    },
    "latex_envs": {
      "LaTeX_envs_menu_present": true,
      "autoclose": false,
      "autocomplete": true,
      "bibliofile": "biblio.bib",
      "cite_by": "apalike",
      "current_citInitial": 1,
      "eqLabelWithNumbers": true,
      "eqNumInitial": 1,
      "hotkeys": {
        "equation": "Ctrl-E",
        "itemize": "Ctrl-I"
      },
      "labels_anchors": false,
      "latex_user_defs": false,
      "report_style_numbering": false,
      "user_envs_cfg": false
    },
    "toc": {
      "base_numbering": 1,
      "nav_menu": {},
      "number_sections": true,
      "sideBar": true,
      "skip_h1_title": false,
      "title_cell": "Table of Contents",
      "title_sidebar": "Contents",
      "toc_cell": false,
      "toc_position": {},
      "toc_section_display": true,
      "toc_window_display": true
    },
    "colab": {
      "name": "InceptionResNetV2_NF_16b_5p_Nadam.ipynb",
      "provenance": [],
      "toc_visible": true
    },
    "accelerator": "GPU"
  },
  "cells": [
    {
      "cell_type": "code",
      "metadata": {
        "id": "ktLmX0KBXAwL",
        "colab": {
          "base_uri": "https://localhost:8080/"
        },
        "outputId": "55e0917c-f761-4ff6-cb80-7816236af606"
      },
      "source": [
        "import os\n",
        "if 'google.colab' in str(get_ipython()):\n",
        "    from google.colab import drive\n",
        "    print('Running on CoLab')\n",
        "    colab = True\n",
        "    drive.mount('/content/gdrive')\n",
        "    ! cp /content/gdrive/MyDrive/TheCatheterNinjas/kaggle.json .\n",
        "else:\n",
        "    colab = False\n",
        "    print('Not running on CoLab')"
      ],
      "execution_count": 1,
      "outputs": [
        {
          "output_type": "stream",
          "text": [
            "Running on CoLab\n",
            "Mounted at /content/gdrive\n"
          ],
          "name": "stdout"
        }
      ]
    },
    {
      "cell_type": "code",
      "metadata": {
        "id": "kVrssawBXBXt",
        "colab": {
          "base_uri": "https://localhost:8080/"
        },
        "outputId": "94c91234-a07c-47ae-b2f3-d7885cf42314"
      },
      "source": [
        "if colab:\n",
        "    if not os.path.exists('./train.csv'):\n",
        "        ! pip install --upgrade --force-reinstall --no-deps kaggle\n",
        "        ! mkdir /root/.kaggle\n",
        "        ! cp kaggle.json /root/.kaggle/\n",
        "        ! chmod 600 /root/.kaggle/kaggle.json\n",
        "        ! kaggle competitions download -c ranzcr-clip-catheter-line-classification -p ./\n",
        "        ! unzip -qq ./'*.zip' -d ./\n",
        "        ! rm ./'ranzcr-clip-catheter-line-classification.zip'\n",
        "        print('files are ready')\n",
        "    else:\n",
        "        print('files are ready')"
      ],
      "execution_count": 2,
      "outputs": [
        {
          "output_type": "stream",
          "text": [
            "Collecting kaggle\n",
            "\u001b[?25l  Downloading https://files.pythonhosted.org/packages/99/33/365c0d13f07a2a54744d027fe20b60dacdfdfb33bc04746db6ad0b79340b/kaggle-1.5.10.tar.gz (59kB)\n",
            "\r\u001b[K     |█████▌                          | 10kB 25.0MB/s eta 0:00:01\r\u001b[K     |███████████                     | 20kB 15.7MB/s eta 0:00:01\r\u001b[K     |████████████████▋               | 30kB 13.4MB/s eta 0:00:01\r\u001b[K     |██████████████████████▏         | 40kB 12.6MB/s eta 0:00:01\r\u001b[K     |███████████████████████████▊    | 51kB 8.4MB/s eta 0:00:01\r\u001b[K     |████████████████████████████████| 61kB 5.2MB/s \n",
            "\u001b[?25hBuilding wheels for collected packages: kaggle\n",
            "  Building wheel for kaggle (setup.py) ... \u001b[?25l\u001b[?25hdone\n",
            "  Created wheel for kaggle: filename=kaggle-1.5.10-cp36-none-any.whl size=73269 sha256=316571c92e819578f7ae1689c1288c979a57b6212b39147d174cd6730092bc28\n",
            "  Stored in directory: /root/.cache/pip/wheels/3a/d1/7e/6ce09b72b770149802c653a02783821629146983ee5a360f10\n",
            "Successfully built kaggle\n",
            "Installing collected packages: kaggle\n",
            "  Found existing installation: kaggle 1.5.10\n",
            "    Uninstalling kaggle-1.5.10:\n",
            "      Successfully uninstalled kaggle-1.5.10\n",
            "Successfully installed kaggle-1.5.10\n",
            "Downloading ranzcr-clip-catheter-line-classification.zip to .\n",
            "100% 11.7G/11.7G [04:42<00:00, 42.2MB/s]\n",
            "100% 11.7G/11.7G [04:42<00:00, 44.4MB/s]\n",
            "files are ready\n"
          ],
          "name": "stdout"
        }
      ]
    },
    {
      "cell_type": "markdown",
      "metadata": {
        "id": "WCHDl8qbW56h"
      },
      "source": [
        "# Setup\n",
        "\n",
        "## import libraries and modules"
      ]
    },
    {
      "cell_type": "code",
      "metadata": {
        "id": "S6hCPlBqXZ6p",
        "colab": {
          "base_uri": "https://localhost:8080/"
        },
        "outputId": "6ca91001-cb8d-488f-eda2-15b1f8e4a234"
      },
      "source": [
        "if colab:\n",
        "    ! pip install livelossplot"
      ],
      "execution_count": 3,
      "outputs": [
        {
          "output_type": "stream",
          "text": [
            "Collecting livelossplot\n",
            "  Downloading https://files.pythonhosted.org/packages/57/26/840be243088ce142d61c60273408ec09fa1de4534056a56d6e91b73f0cae/livelossplot-0.5.4-py3-none-any.whl\n",
            "Requirement already satisfied: matplotlib in /usr/local/lib/python3.6/dist-packages (from livelossplot) (3.2.2)\n",
            "Requirement already satisfied: numpy<1.20; python_version < \"3.7\" in /usr/local/lib/python3.6/dist-packages (from livelossplot) (1.19.5)\n",
            "Requirement already satisfied: bokeh in /usr/local/lib/python3.6/dist-packages (from livelossplot) (2.1.1)\n",
            "Requirement already satisfied: ipython in /usr/local/lib/python3.6/dist-packages (from livelossplot) (5.5.0)\n",
            "Requirement already satisfied: kiwisolver>=1.0.1 in /usr/local/lib/python3.6/dist-packages (from matplotlib->livelossplot) (1.3.1)\n",
            "Requirement already satisfied: pyparsing!=2.0.4,!=2.1.2,!=2.1.6,>=2.0.1 in /usr/local/lib/python3.6/dist-packages (from matplotlib->livelossplot) (2.4.7)\n",
            "Requirement already satisfied: python-dateutil>=2.1 in /usr/local/lib/python3.6/dist-packages (from matplotlib->livelossplot) (2.8.1)\n",
            "Requirement already satisfied: cycler>=0.10 in /usr/local/lib/python3.6/dist-packages (from matplotlib->livelossplot) (0.10.0)\n",
            "Requirement already satisfied: packaging>=16.8 in /usr/local/lib/python3.6/dist-packages (from bokeh->livelossplot) (20.9)\n",
            "Requirement already satisfied: tornado>=5.1 in /usr/local/lib/python3.6/dist-packages (from bokeh->livelossplot) (5.1.1)\n",
            "Requirement already satisfied: pillow>=4.0 in /usr/local/lib/python3.6/dist-packages (from bokeh->livelossplot) (7.0.0)\n",
            "Requirement already satisfied: PyYAML>=3.10 in /usr/local/lib/python3.6/dist-packages (from bokeh->livelossplot) (3.13)\n",
            "Requirement already satisfied: Jinja2>=2.7 in /usr/local/lib/python3.6/dist-packages (from bokeh->livelossplot) (2.11.3)\n",
            "Requirement already satisfied: typing-extensions>=3.7.4 in /usr/local/lib/python3.6/dist-packages (from bokeh->livelossplot) (3.7.4.3)\n",
            "Requirement already satisfied: traitlets>=4.2 in /usr/local/lib/python3.6/dist-packages (from ipython->livelossplot) (4.3.3)\n",
            "Requirement already satisfied: decorator in /usr/local/lib/python3.6/dist-packages (from ipython->livelossplot) (4.4.2)\n",
            "Requirement already satisfied: setuptools>=18.5 in /usr/local/lib/python3.6/dist-packages (from ipython->livelossplot) (53.0.0)\n",
            "Requirement already satisfied: pygments in /usr/local/lib/python3.6/dist-packages (from ipython->livelossplot) (2.6.1)\n",
            "Requirement already satisfied: prompt-toolkit<2.0.0,>=1.0.4 in /usr/local/lib/python3.6/dist-packages (from ipython->livelossplot) (1.0.18)\n",
            "Requirement already satisfied: pexpect; sys_platform != \"win32\" in /usr/local/lib/python3.6/dist-packages (from ipython->livelossplot) (4.8.0)\n",
            "Requirement already satisfied: pickleshare in /usr/local/lib/python3.6/dist-packages (from ipython->livelossplot) (0.7.5)\n",
            "Requirement already satisfied: simplegeneric>0.8 in /usr/local/lib/python3.6/dist-packages (from ipython->livelossplot) (0.8.1)\n",
            "Requirement already satisfied: six>=1.5 in /usr/local/lib/python3.6/dist-packages (from python-dateutil>=2.1->matplotlib->livelossplot) (1.15.0)\n",
            "Requirement already satisfied: MarkupSafe>=0.23 in /usr/local/lib/python3.6/dist-packages (from Jinja2>=2.7->bokeh->livelossplot) (1.1.1)\n",
            "Requirement already satisfied: ipython-genutils in /usr/local/lib/python3.6/dist-packages (from traitlets>=4.2->ipython->livelossplot) (0.2.0)\n",
            "Requirement already satisfied: wcwidth in /usr/local/lib/python3.6/dist-packages (from prompt-toolkit<2.0.0,>=1.0.4->ipython->livelossplot) (0.2.5)\n",
            "Requirement already satisfied: ptyprocess>=0.5 in /usr/local/lib/python3.6/dist-packages (from pexpect; sys_platform != \"win32\"->ipython->livelossplot) (0.7.0)\n",
            "Installing collected packages: livelossplot\n",
            "Successfully installed livelossplot-0.5.4\n"
          ],
          "name": "stdout"
        }
      ]
    },
    {
      "cell_type": "code",
      "metadata": {
        "ExecuteTime": {
          "end_time": "2021-02-14T04:24:11.503139Z",
          "start_time": "2021-02-14T04:24:09.966122Z"
        },
        "scrolled": true,
        "id": "0xeKAj1GW56s"
      },
      "source": [
        "import tensorflow as tf\n",
        "from tensorflow.keras.preprocessing.image import ImageDataGenerator\n",
        "from tensorflow.keras.applications import InceptionResNetV2\n",
        "from tensorflow.keras.metrics import AUC\n",
        "import warnings\n",
        "import numpy as np\n",
        "from pathlib import Path\n",
        "import pandas as pd\n",
        "import seaborn as sns\n",
        "import matplotlib.pyplot as plt\n",
        "from sklearn.model_selection import GroupShuffleSplit\n",
        "import cv2\n",
        "warnings.filterwarnings(\"ignore\")\n",
        "warnings.filterwarnings(\"ignore\", category=DeprecationWarning)\n",
        "%matplotlib inline\n",
        "from livelossplot import PlotLossesKeras\n",
        "import time"
      ],
      "execution_count": 4,
      "outputs": []
    },
    {
      "cell_type": "markdown",
      "metadata": {
        "id": "RV08DSZLW56u"
      },
      "source": [
        "## make sure GPU are used"
      ]
    },
    {
      "cell_type": "code",
      "metadata": {
        "ExecuteTime": {
          "end_time": "2021-02-14T04:24:11.549246Z",
          "start_time": "2021-02-14T04:24:11.504421Z"
        },
        "id": "s8sdW8-WW56u"
      },
      "source": [
        "for device in tf.config.experimental.list_physical_devices('GPU'):\n",
        "    tf.config.experimental.set_memory_growth(device, True)"
      ],
      "execution_count": 5,
      "outputs": []
    },
    {
      "cell_type": "markdown",
      "metadata": {
        "id": "ra4O7Sh2W56v"
      },
      "source": [
        "## checking GPUs"
      ]
    },
    {
      "cell_type": "code",
      "metadata": {
        "ExecuteTime": {
          "end_time": "2021-02-14T04:24:11.562824Z",
          "start_time": "2021-02-14T04:24:11.550530Z"
        },
        "id": "kGPcUvPMW56v",
        "colab": {
          "base_uri": "https://localhost:8080/"
        },
        "outputId": "da601036-aeec-44d1-d8f6-2b045f16ee74"
      },
      "source": [
        "tf.config.list_physical_devices()"
      ],
      "execution_count": 6,
      "outputs": [
        {
          "output_type": "execute_result",
          "data": {
            "text/plain": [
              "[PhysicalDevice(name='/physical_device:CPU:0', device_type='CPU'),\n",
              " PhysicalDevice(name='/physical_device:GPU:0', device_type='GPU')]"
            ]
          },
          "metadata": {
            "tags": []
          },
          "execution_count": 6
        }
      ]
    },
    {
      "cell_type": "markdown",
      "metadata": {
        "id": "x4L4qq4mW56y"
      },
      "source": [
        "## functions"
      ]
    },
    {
      "cell_type": "code",
      "metadata": {
        "ExecuteTime": {
          "end_time": "2021-02-14T04:24:11.569167Z",
          "start_time": "2021-02-14T04:24:11.563834Z"
        },
        "id": "Y2KUhM97W56y"
      },
      "source": [
        "def add_suffix(df: pd.DataFrame, col: str, suffix: str):\n",
        "    df[col] = df[col] + suffix\n",
        "    return df\n",
        "\n",
        "\n",
        "def plot_model_history(history):\n",
        "    sns.set_style('whitegrid')\n",
        "    fig, ax = plt.subplots(figsize=(15,7))\n",
        "    for metric, values in history.history.items():\n",
        "        ax.plot(np.arange(1, len(values) + 1), values, 'o-', label=metric)\n",
        "    ax.set(xlabel='Epochs', ylabel='Rate %', \n",
        "           title='Model Trainning Metrics Per Epoch', \n",
        "           xlim=(1, len(values) + 0.2))\n",
        "    sns.despine()\n",
        "    plt.legend(loc='best')\n",
        "    plt.show() \n",
        "    \n",
        "\n",
        "def canny_edge_detection(example):\n",
        "    img = cv2.cvtColor(example.astype(np.uint8), cv2.COLOR_BGR2GRAY)\n",
        "    return cv2.Canny(img, 50, 100).astype(np.float64)\n",
        "\n",
        "def canny_over_clahe(example, clipLimit=5):\n",
        "    clahe = cv2.createCLAHE(clipLimit = clipLimit)\n",
        "    img = cv2.cvtColor(example.astype(np.uint8), cv2.COLOR_BGR2GRAY)\n",
        "    high_contrast = clahe.apply(img)\n",
        "    return cv2.Canny(high_contrast, 50, 100).astype(np.float64)\n",
        "\n",
        "def enhanced_channels(example, clipLimit=5):\n",
        "    clahe = cv2.createCLAHE(clipLimit = clipLimit) \n",
        "    img = cv2.cvtColor(example.astype(np.uint8), cv2.COLOR_BGR2GRAY)\n",
        "    high_contrast = clahe.apply(img)\n",
        "    edges = cv2.Canny(high_contrast, 50, 100)\n",
        "    return np.dstack((img, high_contrast, edges)).astype(np.float64)"
      ],
      "execution_count": 7,
      "outputs": []
    },
    {
      "cell_type": "markdown",
      "metadata": {
        "ExecuteTime": {
          "end_time": "2021-01-31T20:06:10.645173Z",
          "start_time": "2021-01-31T20:06:10.637894Z"
        },
        "id": "dbyIdB9fW561"
      },
      "source": [
        "## Constants"
      ]
    },
    {
      "cell_type": "code",
      "metadata": {
        "ExecuteTime": {
          "end_time": "2021-02-14T04:24:11.582993Z",
          "start_time": "2021-02-14T04:24:11.570235Z"
        },
        "id": "pW3XRxhkW562"
      },
      "source": [
        "# data frame columns\n",
        "\n",
        "ID: str = 'PatientID'\n",
        "CASE: str = 'StudyInstanceUID'\n",
        "    \n",
        "# paths and directories\n",
        "\n",
        "TRAIN_META: str = 'train.csv'\n",
        "TRAIN_IMG_DIR: Path = Path('train')\n",
        "MODEL_OUT: str = 'InceptionResNetV2_16b_5p_nadam_enhanced_channels_high_contrast'\n",
        "PREDICTION_OUTPUT = 'predictions.csv'\n",
        "CLASS_MODE: str = 'raw'\n",
        "RSCL: float = 1./255.\n",
        "GEN_PROPERTIES: dict = {'featurewise_center':False,'samplewise_center':False,\n",
        "                        'featurewise_std_normalization':False, \n",
        "                        'samplewise_std_normalization':False,\n",
        "                        'zca_whitening':False, 'zca_epsilon':1e-06,\n",
        "                        'rotation_range':0, 'width_shift_range':0.0, \n",
        "                        'height_shift_range':0.0, 'brightness_range':None,\n",
        "                        'shear_range':0.0, 'zoom_range':0.0, \n",
        "                        'channel_shift_range':0.0, 'fill_mode':\"nearest\", \n",
        "                        'cval':0.0, 'horizontal_flip':False, \n",
        "                        'vertical_flip':False, 'rescale':RSCL, \n",
        "                        'preprocessing_function':enhanced_channels, 'data_format':None, \n",
        "                        'validation_split':0.0, 'dtype':None}\n",
        "# split and generators \n",
        "\n",
        "SUFFIX: str = '.jpg'\n",
        "N_SPLITS: int = 1\n",
        "PATIENCE: int = 5\n",
        "TARGET_SIZE: tuple = (224,224)\n",
        "\n",
        "# model parameters \n",
        "TRANSFER = InceptionResNetV2\n",
        "TRAINABLE = True\n",
        "TRANSFER_WEIGHTS = 'imagenet'\n",
        "IMG_SIZE: tuple = (224, 224, 3)\n",
        "OUT_ACTIVATION = 'sigmoid'\n",
        "ACTIVATION = 'relu'\n",
        "N_CLASS = 11\n",
        "DENSE_DIM = 128\n",
        "FLT = tf.keras.layers.Flatten(name='flat')\n",
        "DNS = tf.keras.layers.Dense(DENSE_DIM, activation=ACTIVATION, name='dense')\n",
        "OUT = tf.keras.layers.Dense(N_CLASS, activation=OUT_ACTIVATION, name='output')\n",
        "LAYERS = [FLT, DNS, OUT]    \n",
        "\n",
        "TRANSFER_PARAMETERS: dict = {'include_top': False, 'input_shape': IMG_SIZE, \n",
        "                             'weights': TRANSFER_WEIGHTS}\n",
        "\n",
        "MONITOR = 'val_loss'\n",
        "METRICS=AUC(multi_label=True)\n",
        "OPTIMIZER = 'Nadam'\n",
        "LOSS = 'binary_crossentropy'\n",
        "EPOCHS = 100\n",
        "BATCH_SIZE = 16\n",
        "\n",
        "RANDOM_STATE = 42\n",
        "VALIDATION_SIZE = 0.2\n",
        "\n",
        "np.random.seed(RANDOM_STATE)"
      ],
      "execution_count": 8,
      "outputs": []
    },
    {
      "cell_type": "markdown",
      "metadata": {
        "ExecuteTime": {
          "end_time": "2021-02-08T15:36:42.286216Z",
          "start_time": "2021-02-08T15:36:42.283941Z"
        },
        "id": "DSNOGrz-W564"
      },
      "source": [
        "# Split"
      ]
    },
    {
      "cell_type": "markdown",
      "metadata": {
        "id": "Qo1ggvQTW565"
      },
      "source": [
        "## load meta files"
      ]
    },
    {
      "cell_type": "code",
      "metadata": {
        "ExecuteTime": {
          "end_time": "2021-02-14T04:24:11.624548Z",
          "start_time": "2021-02-14T04:24:11.583970Z"
        },
        "id": "8soSyPcaW566"
      },
      "source": [
        "train_df = pd.read_csv(TRAIN_META)"
      ],
      "execution_count": 9,
      "outputs": []
    },
    {
      "cell_type": "markdown",
      "metadata": {
        "id": "quJWAxdGW567"
      },
      "source": [
        "## define labels"
      ]
    },
    {
      "cell_type": "code",
      "metadata": {
        "ExecuteTime": {
          "end_time": "2021-02-14T04:24:11.630300Z",
          "start_time": "2021-02-14T04:24:11.626241Z"
        },
        "id": "6qkqJJn4W568"
      },
      "source": [
        "labels = train_df.select_dtypes(int).columns"
      ],
      "execution_count": 10,
      "outputs": []
    },
    {
      "cell_type": "markdown",
      "metadata": {
        "id": "LhkNIp_nW569"
      },
      "source": [
        "## group split"
      ]
    },
    {
      "cell_type": "code",
      "metadata": {
        "ExecuteTime": {
          "end_time": "2021-02-14T04:24:11.656237Z",
          "start_time": "2021-02-14T04:24:11.631359Z"
        },
        "id": "U52T3pYNW569"
      },
      "source": [
        "train_inds, val_inds = next(GroupShuffleSplit(test_size=VALIDATION_SIZE, n_splits=N_SPLITS, random_state = RANDOM_STATE).split(train_df, groups=train_df[ID]))\n",
        "train_df, valid_df = train_df.loc[train_inds], train_df.loc[val_inds]"
      ],
      "execution_count": 11,
      "outputs": []
    },
    {
      "cell_type": "markdown",
      "metadata": {
        "id": "OMXAK4GMW56-"
      },
      "source": [
        "## generators"
      ]
    },
    {
      "cell_type": "code",
      "metadata": {
        "ExecuteTime": {
          "end_time": "2021-02-14T04:24:11.797909Z",
          "start_time": "2021-02-14T04:24:11.657276Z"
        },
        "id": "F-pB0gXvW56-",
        "colab": {
          "base_uri": "https://localhost:8080/"
        },
        "outputId": "b6351560-2a06-4f47-aa06-9d4220d8485f"
      },
      "source": [
        "datagen=ImageDataGenerator(**GEN_PROPERTIES)\n",
        "\n",
        "train_generator=datagen.flow_from_dataframe(dataframe=add_suffix(train_df, \n",
        "                                                                 col=CASE, \n",
        "                                                                 suffix=SUFFIX), \n",
        "                                            directory=str(TRAIN_IMG_DIR),\n",
        "                                            x_col=CASE,\n",
        "                                            y_col=labels,\n",
        "                                            batch_size=BATCH_SIZE,\n",
        "                                            seed=RANDOM_STATE,\n",
        "                                            shuffle=True,\n",
        "                                            class_mode=CLASS_MODE,\n",
        "                                            target_size=TARGET_SIZE)\n",
        "\n",
        "\n",
        "valid_generator=datagen.flow_from_dataframe(dataframe=add_suffix(valid_df, \n",
        "                                                                 col=CASE, \n",
        "                                                                 suffix=SUFFIX), \n",
        "                                            directory=str(TRAIN_IMG_DIR),\n",
        "                                            x_col=CASE,\n",
        "                                            y_col=labels,\n",
        "                                            batch_size=BATCH_SIZE,\n",
        "                                            seed=RANDOM_STATE,\n",
        "                                            shuffle=True,\n",
        "                                            class_mode=CLASS_MODE,\n",
        "                                            target_size=TARGET_SIZE)"
      ],
      "execution_count": 12,
      "outputs": [
        {
          "output_type": "stream",
          "text": [
            "Found 24833 validated image filenames.\n",
            "Found 5250 validated image filenames.\n"
          ],
          "name": "stdout"
        }
      ]
    },
    {
      "cell_type": "markdown",
      "metadata": {
        "ExecuteTime": {
          "end_time": "2021-01-23T15:49:34.854458Z",
          "start_time": "2021-01-23T15:49:34.851131Z"
        },
        "id": "TWuSlr9fW57A"
      },
      "source": [
        "# setting Model\n",
        "\n",
        "## get transfer model"
      ]
    },
    {
      "cell_type": "code",
      "metadata": {
        "ExecuteTime": {
          "end_time": "2021-02-14T04:24:18.262187Z",
          "start_time": "2021-02-14T04:24:11.798911Z"
        },
        "id": "Ql2rV3WAW57B",
        "colab": {
          "base_uri": "https://localhost:8080/"
        },
        "outputId": "03391380-5a73-4eff-ecd7-c5f8d21736ff"
      },
      "source": [
        "transfer_model = TRANSFER(**TRANSFER_PARAMETERS)"
      ],
      "execution_count": 13,
      "outputs": [
        {
          "output_type": "stream",
          "text": [
            "Downloading data from https://storage.googleapis.com/tensorflow/keras-applications/inception_resnet_v2/inception_resnet_v2_weights_tf_dim_ordering_tf_kernels_notop.h5\n",
            "219062272/219055592 [==============================] - 1s 0us/step\n"
          ],
          "name": "stdout"
        }
      ]
    },
    {
      "cell_type": "markdown",
      "metadata": {
        "id": "A78BbBakW57C"
      },
      "source": [
        "## add layers"
      ]
    },
    {
      "cell_type": "code",
      "metadata": {
        "ExecuteTime": {
          "end_time": "2021-02-14T04:24:22.178989Z",
          "start_time": "2021-02-14T04:24:18.263272Z"
        },
        "id": "axgzRCbKW57C"
      },
      "source": [
        "model = tf.keras.Sequential([transfer_model] + LAYERS)"
      ],
      "execution_count": 14,
      "outputs": []
    },
    {
      "cell_type": "markdown",
      "metadata": {
        "id": "qLJ7s_zzW57C"
      },
      "source": [
        "## freeze transfer layers"
      ]
    },
    {
      "cell_type": "code",
      "metadata": {
        "ExecuteTime": {
          "end_time": "2021-02-14T04:24:22.191885Z",
          "start_time": "2021-02-14T04:24:22.179953Z"
        },
        "id": "q8TS9ONJW57D"
      },
      "source": [
        "transfer_model.trainable=TRAINABLE"
      ],
      "execution_count": 15,
      "outputs": []
    },
    {
      "cell_type": "markdown",
      "metadata": {
        "id": "tWmXST1HW57D"
      },
      "source": [
        "## checkout summary"
      ]
    },
    {
      "cell_type": "code",
      "metadata": {
        "ExecuteTime": {
          "end_time": "2021-02-14T04:24:22.235937Z",
          "start_time": "2021-02-14T04:24:22.192964Z"
        },
        "id": "cmEk0VB8W57E",
        "colab": {
          "base_uri": "https://localhost:8080/"
        },
        "outputId": "c55f4552-cf15-46ab-da30-5cab1fecbfc2"
      },
      "source": [
        "model.summary()"
      ],
      "execution_count": 16,
      "outputs": [
        {
          "output_type": "stream",
          "text": [
            "Model: \"sequential\"\n",
            "_________________________________________________________________\n",
            "Layer (type)                 Output Shape              Param #   \n",
            "=================================================================\n",
            "inception_resnet_v2 (Functio (None, 5, 5, 1536)        54336736  \n",
            "_________________________________________________________________\n",
            "flat (Flatten)               (None, 38400)             0         \n",
            "_________________________________________________________________\n",
            "dense (Dense)                (None, 128)               4915328   \n",
            "_________________________________________________________________\n",
            "output (Dense)               (None, 11)                1419      \n",
            "=================================================================\n",
            "Total params: 59,253,483\n",
            "Trainable params: 59,192,939\n",
            "Non-trainable params: 60,544\n",
            "_________________________________________________________________\n"
          ],
          "name": "stdout"
        }
      ]
    },
    {
      "cell_type": "markdown",
      "metadata": {
        "id": "y7EmkXmoW57F"
      },
      "source": [
        "## compile model"
      ]
    },
    {
      "cell_type": "code",
      "metadata": {
        "ExecuteTime": {
          "end_time": "2021-02-14T04:24:22.263668Z",
          "start_time": "2021-02-14T04:24:22.236853Z"
        },
        "id": "DHkwp2SpW57F"
      },
      "source": [
        "model.compile(optimizer=OPTIMIZER, loss=LOSS, metrics=METRICS)"
      ],
      "execution_count": 17,
      "outputs": []
    },
    {
      "cell_type": "markdown",
      "metadata": {
        "id": "_zyr2JRNW57G"
      },
      "source": [
        "## callback"
      ]
    },
    {
      "cell_type": "code",
      "metadata": {
        "ExecuteTime": {
          "end_time": "2021-02-14T04:24:22.266557Z",
          "start_time": "2021-02-14T04:24:22.264541Z"
        },
        "id": "RzslXqtmW57G"
      },
      "source": [
        "es = tf.keras.callbacks.EarlyStopping(monitor='val_loss', patience=PATIENCE, restore_best_weights=True)\n",
        "lp = PlotLossesKeras()\n",
        "\n",
        "callback = [es, lp]"
      ],
      "execution_count": 18,
      "outputs": []
    },
    {
      "cell_type": "markdown",
      "metadata": {
        "id": "L21gq-DbW57H"
      },
      "source": [
        "# train"
      ]
    },
    {
      "cell_type": "code",
      "metadata": {
        "ExecuteTime": {
          "end_time": "2021-02-14T06:51:29.139152Z",
          "start_time": "2021-02-14T04:24:22.267406Z"
        },
        "scrolled": false,
        "id": "lKLUh_dfW57H",
        "colab": {
          "base_uri": "https://localhost:8080/",
          "height": 687
        },
        "outputId": "e5b0ff06-4daf-40e3-aa97-fb00ed0b2f82"
      },
      "source": [
        "history = model.fit(train_generator, validation_data=valid_generator, steps_per_epoch=len(train_generator), validation_steps=len(valid_generator), epochs=EPOCHS, callbacks=callback)"
      ],
      "execution_count": 19,
      "outputs": [
        {
          "output_type": "display_data",
          "data": {
            "image/png": "[encoded data removed]",
            "text/plain": [
              "<Figure size 864x576 with 2 Axes>"
            ]
          },
          "metadata": {
            "tags": [],
            "needs_background": "light"
          }
        },
        {
          "output_type": "stream",
          "text": [
            "auc\n",
            "\ttraining         \t (min:    0.750, max:    0.875, cur:    0.875)\n",
            "\tvalidation       \t (min:    0.518, max:    0.851, cur:    0.840)\n",
            "Loss\n",
            "\ttraining         \t (min:    0.188, max:    0.252, cur:    0.188)\n",
            "\tvalidation       \t (min:    0.215, max: 5337.639, cur:    0.242)\n"
          ],
          "name": "stdout"
        }
      ]
    },
    {
      "cell_type": "markdown",
      "metadata": {
        "id": "AAzYIxkJW57I"
      },
      "source": [
        "### plot model history"
      ]
    },
    {
      "cell_type": "code",
      "metadata": {
        "ExecuteTime": {
          "end_time": "2021-02-14T06:51:29.327595Z",
          "start_time": "2021-02-14T06:51:29.140555Z"
        },
        "id": "EmYkKHBZW57I",
        "colab": {
          "base_uri": "https://localhost:8080/",
          "height": 458
        },
        "outputId": "6ac6be9e-4a62-434f-c709-bfebb994aa12"
      },
      "source": [
        "plot_model_history(model.history)"
      ],
      "execution_count": 20,
      "outputs": [
        {
          "output_type": "display_data",
          "data": {
            "image/png": "[encoded data removed]",
            "text/plain": [
              "<Figure size 1080x504 with 1 Axes>"
            ]
          },
          "metadata": {
            "tags": []
          }
        }
      ]
    },
    {
      "cell_type": "markdown",
      "metadata": {
        "id": "9BE1zCDmW57J"
      },
      "source": [
        "# Save model"
      ]
    },
    {
      "cell_type": "code",
      "metadata": {
        "ExecuteTime": {
          "end_time": "2021-02-14T06:52:39.980538Z",
          "start_time": "2021-02-14T06:51:29.328475Z"
        },
        "id": "Xi9CpkMvW57J",
        "colab": {
          "base_uri": "https://localhost:8080/"
        },
        "outputId": "f66813bf-0541-4b1f-8548-740f2189b0fd"
      },
      "source": [
        "! rm -r '/content/gdrive/MyDrive/TheCatheterNinjas/saved_model/{MODEL_OUT}'\n",
        "model.save(f'/content/gdrive/MyDrive/TheCatheterNinjas/saved_model/{MODEL_OUT}')"
      ],
      "execution_count": 21,
      "outputs": [
        {
          "output_type": "stream",
          "text": [
            "rm: cannot remove '/content/gdrive/MyDrive/TheCatheterNinjas/saved_model/InceptionResNetV2_16b_5p_nadam_enhanced_channels_high_contrast': No such file or directory\n",
            "INFO:tensorflow:Assets written to: /content/gdrive/MyDrive/TheCatheterNinjas/saved_model/InceptionResNetV2_16b_5p_nadam_enhanced_channels_high_contrast/assets\n"
          ],
          "name": "stdout"
        }
      ]
    }
  ]
}