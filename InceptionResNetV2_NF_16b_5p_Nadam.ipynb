{
  "nbformat": 4,
  "nbformat_minor": 0,
  "metadata": {
    "kernelspec": {
      "name": "python3",
      "display_name": "Python 3"
    },
    "latex_envs": {
      "LaTeX_envs_menu_present": true,
      "autoclose": false,
      "autocomplete": true,
      "bibliofile": "biblio.bib",
      "cite_by": "apalike",
      "current_citInitial": 1,
      "eqLabelWithNumbers": true,
      "eqNumInitial": 1,
      "hotkeys": {
        "equation": "Ctrl-E",
        "itemize": "Ctrl-I"
      },
      "labels_anchors": false,
      "latex_user_defs": false,
      "report_style_numbering": false,
      "user_envs_cfg": false
    },
    "toc": {
      "base_numbering": 1,
      "nav_menu": {},
      "number_sections": true,
      "sideBar": true,
      "skip_h1_title": false,
      "title_cell": "Table of Contents",
      "title_sidebar": "Contents",
      "toc_cell": false,
      "toc_position": {},
      "toc_section_display": true,
      "toc_window_display": true
    },
    "colab": {
      "name": "InceptionResNetV2_NF_16b_5p_Nadam.ipynb",
      "provenance": []
    },
    "accelerator": "GPU"
  },
  "cells": [
    {
      "cell_type": "code",
      "metadata": {
        "id": "ktLmX0KBXAwL"
      },
      "source": [
        "import os\n",
        "if 'google.colab' in str(get_ipython()):\n",
        "    from google.colab import drive\n",
        "    print('Running on CoLab')\n",
        "    colab = True\n",
        "    drive.mount('/content/gdrive')\n",
        "    ! cp /content/gdrive/MyDrive/TheCatheterNinjas/kaggle.json .\n",
        "else:\n",
        "    colab = False\n",
        "    print('Not running on CoLab')"
      ],
      "execution_count": null,
      "outputs": []
    },
    {
      "cell_type": "code",
      "metadata": {
        "id": "kVrssawBXBXt"
      },
      "source": [
        "if colab:\n",
        "    if not os.path.exists('./data/train.csv'):\n",
        "        ! pip install --upgrade --force-reinstall --no-deps kaggle\n",
        "        ! mkdir /root/.kaggle\n",
        "        ! cp kaggle.json /root/.kaggle/\n",
        "        ! chmod 600 /root/.kaggle/kaggle.json\n",
        "        ! kaggle competitions download -c ranzcr-clip-catheter-line-classification -p ./\n",
        "        ! unzip -qq ./'*.zip' -d ./\n",
        "        ! rm ./'ranzcr-clip-catheter-line-classification.zip'\n",
        "        print('files are ready')\n",
        "    else:\n",
        "        print('files are ready')"
      ],
      "execution_count": null,
      "outputs": []
    },
    {
      "cell_type": "markdown",
      "metadata": {
        "id": "WCHDl8qbW56h"
      },
      "source": [
        "# Setup\n",
        "\n",
        "## import libraries and modules"
      ]
    },
    {
      "cell_type": "code",
      "metadata": {
        "id": "S6hCPlBqXZ6p"
      },
      "source": [
        "if colab:\n",
        "    ! pip install livelossplot"
      ],
      "execution_count": null,
      "outputs": []
    },
    {
      "cell_type": "code",
      "metadata": {
        "ExecuteTime": {
          "end_time": "2021-02-14T04:24:11.503139Z",
          "start_time": "2021-02-14T04:24:09.966122Z"
        },
        "scrolled": true,
        "id": "0xeKAj1GW56s"
      },
      "source": [
        "import tensorflow as tf\n",
        "from tensorflow.keras.preprocessing.image import ImageDataGenerator\n",
        "from tensorflow.keras.applications import InceptionResNetV2\n",
        "from tensorflow.keras.metrics import AUC\n",
        "import warnings\n",
        "import numpy as np\n",
        "from pathlib import Path\n",
        "import pandas as pd\n",
        "import seaborn as sns\n",
        "import matplotlib.pyplot as plt\n",
        "from sklearn.model_selection import GroupShuffleSplit\n",
        "import cv2\n",
        "warnings.filterwarnings(\"ignore\")\n",
        "warnings.filterwarnings(\"ignore\", category=DeprecationWarning)\n",
        "%matplotlib inline\n",
        "from livelossplot import PlotLossesKeras\n",
        "import time"
      ],
      "execution_count": null,
      "outputs": []
    },
    {
      "cell_type": "markdown",
      "metadata": {
        "id": "RV08DSZLW56u"
      },
      "source": [
        "## make sure GPU are used"
      ]
    },
    {
      "cell_type": "code",
      "metadata": {
        "ExecuteTime": {
          "end_time": "2021-02-14T04:24:11.549246Z",
          "start_time": "2021-02-14T04:24:11.504421Z"
        },
        "id": "s8sdW8-WW56u"
      },
      "source": [
        "for device in tf.config.experimental.list_physical_devices('GPU'):\n",
        "    tf.config.experimental.set_memory_growth(device, True)"
      ],
      "execution_count": null,
      "outputs": []
    },
    {
      "cell_type": "markdown",
      "metadata": {
        "id": "ra4O7Sh2W56v"
      },
      "source": [
        "## checking GPUs"
      ]
    },
    {
      "cell_type": "code",
      "metadata": {
        "ExecuteTime": {
          "end_time": "2021-02-14T04:24:11.562824Z",
          "start_time": "2021-02-14T04:24:11.550530Z"
        },
        "id": "kGPcUvPMW56v",
        "outputId": "9fba092a-8991-469a-d1de-957ad7f5ab78"
      },
      "source": [
        "tf.config.list_physical_devices()"
      ],
      "execution_count": null,
      "outputs": [
        {
          "output_type": "execute_result",
          "data": {
            "text/plain": [
              "[PhysicalDevice(name='/physical_device:CPU:0', device_type='CPU'),\n",
              " PhysicalDevice(name='/physical_device:XLA_CPU:0', device_type='XLA_CPU'),\n",
              " PhysicalDevice(name='/physical_device:GPU:0', device_type='GPU'),\n",
              " PhysicalDevice(name='/physical_device:XLA_GPU:0', device_type='XLA_GPU')]"
            ]
          },
          "metadata": {
            "tags": []
          },
          "execution_count": 3
        }
      ]
    },
    {
      "cell_type": "markdown",
      "metadata": {
        "id": "x4L4qq4mW56y"
      },
      "source": [
        "## functions"
      ]
    },
    {
      "cell_type": "code",
      "metadata": {
        "ExecuteTime": {
          "end_time": "2021-02-14T04:24:11.569167Z",
          "start_time": "2021-02-14T04:24:11.563834Z"
        },
        "id": "Y2KUhM97W56y"
      },
      "source": [
        "def add_suffix(df: pd.DataFrame, col: str, suffix: str):\n",
        "    df[col] = df[col] + suffix\n",
        "    return df\n",
        "\n",
        "\n",
        "def plot_model_history(history):\n",
        "    sns.set_style('whitegrid')\n",
        "    fig, ax = plt.subplots(figsize=(15,7))\n",
        "    for metric, values in history.history.items():\n",
        "        ax.plot(np.arange(1, len(values) + 1), values, 'o-', label=metric)\n",
        "    ax.set(xlabel='Epochs', ylabel='Rate %', \n",
        "           title='Model Trainning Metrics Per Epoch', \n",
        "           xlim=(1, len(values) + 0.2))\n",
        "    sns.despine()\n",
        "    plt.legend(loc='best')\n",
        "    plt.show() \n",
        "    \n",
        "\n",
        "def canny_edge_detection(example):\n",
        "    img = cv2.cvtColor(example.astype(np.uint8), cv2.COLOR_BGR2GRAY)\n",
        "    return cv2.Canny(img, 50, 100)\n",
        "\n",
        "def canny_over_clahe(example):\n",
        "    img = cv2.cvtColor(example.astype(np.uint8), cv2.COLOR_BGR2GRAY)\n",
        "    high_contrast = clahe.apply(img)\n",
        "    return cv2.Canny(high_contrast, 50, 100)\n",
        "\n",
        "def enhanced_channels(example):\n",
        "    img = cv2.cvtColor(example.astype(np.uint8), cv2.COLOR_BGR2GRAY)\n",
        "    high_contrast = clahe.apply(img)\n",
        "    edges = cv2.Canny(high_contrast, 50, 100)\n",
        "    return np.dstack((img, high_contrast, edges))"
      ],
      "execution_count": null,
      "outputs": []
    },
    {
      "cell_type": "markdown",
      "metadata": {
        "ExecuteTime": {
          "end_time": "2021-01-31T20:06:10.645173Z",
          "start_time": "2021-01-31T20:06:10.637894Z"
        },
        "id": "dbyIdB9fW561"
      },
      "source": [
        "## Constants"
      ]
    },
    {
      "cell_type": "code",
      "metadata": {
        "ExecuteTime": {
          "end_time": "2021-02-14T04:24:11.582993Z",
          "start_time": "2021-02-14T04:24:11.570235Z"
        },
        "id": "pW3XRxhkW562"
      },
      "source": [
        "# data frame columns\n",
        "\n",
        "ID: str = 'PatientID'\n",
        "CASE: str = 'StudyInstanceUID'\n",
        "    \n",
        "# paths and directories\n",
        "\n",
        "TRAIN_META: str = 'train.csv'\n",
        "TRAIN_IMG_DIR: Path = Path('train')\n",
        "MODEL_OUT: str = 'InceptionResNetV2_16b_5p_nadam'\n",
        "PREDICTION_OUTPUT = 'predictions.csv'\n",
        "CLASS_MODE: str = 'raw'\n",
        "RSCL: float = 1./255.\n",
        "GEN_PROPERTIES: dict = {'featurewise_center':False,'samplewise_center':False,\n",
        "                        'featurewise_std_normalization':False, \n",
        "                        'samplewise_std_normalization':False,\n",
        "                        'zca_whitening':False, 'zca_epsilon':1e-06,\n",
        "                        'rotation_range':0, 'width_shift_range':0.0, \n",
        "                        'height_shift_range':0.0, 'brightness_range':None,\n",
        "                        'shear_range':0.0, 'zoom_range':0.0, \n",
        "                        'channel_shift_range':0.0, 'fill_mode':\"nearest\", \n",
        "                        'cval':0.0, 'horizontal_flip':False, \n",
        "                        'vertical_flip':False, 'rescale':RSCL, \n",
        "                        'preprocessing_function':None, 'data_format':None, \n",
        "                        'validation_split':0.0, 'dtype':None}\n",
        "# split and generators \n",
        "\n",
        "SUFFIX: str = '.jpg'\n",
        "N_SPLITS: int = 1\n",
        "PATIENCE: int = 5\n",
        "TARGET_SIZE: tuple = (224,224)\n",
        "\n",
        "# model parameters \n",
        "TRANSFER = InceptionResNetV2\n",
        "TRAINABLE = True\n",
        "TRANSFER_WEIGHTS = 'imagenet'\n",
        "IMG_SIZE: tuple = (224, 224, 3)\n",
        "OUT_ACTIVATION = 'sigmoid'\n",
        "ACTIVATION = 'relu'\n",
        "N_CLASS = 11\n",
        "DENSE_DIM = 128\n",
        "FLT = tf.keras.layers.Flatten(name='flat')\n",
        "DNS = tf.keras.layers.Dense(DENSE_DIM, activation=ACTIVATION, name='dense')\n",
        "OUT = tf.keras.layers.Dense(N_CLASS, activation=OUT_ACTIVATION, name='output')\n",
        "LAYERS = [FLT, DNS, OUT]    \n",
        "\n",
        "TRANSFER_PARAMETERS: dict = {'include_top': False, 'input_shape': IMG_SIZE, \n",
        "                             'weights': TRANSFER_WEIGHTS}\n",
        "\n",
        "MONITOR = 'val_loss'\n",
        "METRICS=AUC(multi_label=True)\n",
        "OPTIMIZER = 'Nadam'\n",
        "LOSS = 'binary_crossentropy'\n",
        "EPOCHS = 100\n",
        "BATCH_SIZE = 16\n",
        "\n",
        "RANDOM_STATE = 42\n",
        "VALIDATION_SIZE = 0.2\n",
        "\n",
        "np.random.seed(RANDOM_STATE)"
      ],
      "execution_count": null,
      "outputs": []
    },
    {
      "cell_type": "markdown",
      "metadata": {
        "ExecuteTime": {
          "end_time": "2021-02-08T15:36:42.286216Z",
          "start_time": "2021-02-08T15:36:42.283941Z"
        },
        "id": "DSNOGrz-W564"
      },
      "source": [
        "# Split"
      ]
    },
    {
      "cell_type": "markdown",
      "metadata": {
        "id": "Qo1ggvQTW565"
      },
      "source": [
        "## load meta files"
      ]
    },
    {
      "cell_type": "code",
      "metadata": {
        "ExecuteTime": {
          "end_time": "2021-02-14T04:24:11.624548Z",
          "start_time": "2021-02-14T04:24:11.583970Z"
        },
        "id": "8soSyPcaW566"
      },
      "source": [
        "train_df = pd.read_csv(TRAIN_META)"
      ],
      "execution_count": null,
      "outputs": []
    },
    {
      "cell_type": "markdown",
      "metadata": {
        "id": "quJWAxdGW567"
      },
      "source": [
        "## define labels"
      ]
    },
    {
      "cell_type": "code",
      "metadata": {
        "ExecuteTime": {
          "end_time": "2021-02-14T04:24:11.630300Z",
          "start_time": "2021-02-14T04:24:11.626241Z"
        },
        "id": "6qkqJJn4W568"
      },
      "source": [
        "labels = train_df.select_dtypes(int).columns"
      ],
      "execution_count": null,
      "outputs": []
    },
    {
      "cell_type": "markdown",
      "metadata": {
        "id": "LhkNIp_nW569"
      },
      "source": [
        "## group split"
      ]
    },
    {
      "cell_type": "code",
      "metadata": {
        "ExecuteTime": {
          "end_time": "2021-02-14T04:24:11.656237Z",
          "start_time": "2021-02-14T04:24:11.631359Z"
        },
        "id": "U52T3pYNW569"
      },
      "source": [
        "train_inds, val_inds = next(GroupShuffleSplit(test_size=VALIDATION_SIZE, n_splits=N_SPLITS, random_state = RANDOM_STATE).split(train_df, groups=train_df[ID]))\n",
        "train_df, valid_df = train_df.loc[train_inds], train_df.loc[val_inds]"
      ],
      "execution_count": null,
      "outputs": []
    },
    {
      "cell_type": "markdown",
      "metadata": {
        "id": "OMXAK4GMW56-"
      },
      "source": [
        "## generators"
      ]
    },
    {
      "cell_type": "code",
      "metadata": {
        "ExecuteTime": {
          "end_time": "2021-02-14T04:24:11.797909Z",
          "start_time": "2021-02-14T04:24:11.657276Z"
        },
        "id": "F-pB0gXvW56-",
        "outputId": "220f497b-02d8-4e64-a2df-3446ef6bd8af"
      },
      "source": [
        "datagen=ImageDataGenerator(**GEN_PROPERTIES)\n",
        "\n",
        "train_generator=datagen.flow_from_dataframe(dataframe=add_suffix(train_df, \n",
        "                                                                 col=CASE, \n",
        "                                                                 suffix=SUFFIX), \n",
        "                                            directory=str(TRAIN_IMG_DIR),\n",
        "                                            x_col=CASE,\n",
        "                                            y_col=labels,\n",
        "                                            batch_size=BATCH_SIZE,\n",
        "                                            seed=RANDOM_STATE,\n",
        "                                            shuffle=True,\n",
        "                                            class_mode=CLASS_MODE,\n",
        "                                            target_size=TARGET_SIZE)\n",
        "\n",
        "\n",
        "valid_generator=datagen.flow_from_dataframe(dataframe=add_suffix(valid_df, \n",
        "                                                                 col=CASE, \n",
        "                                                                 suffix=SUFFIX), \n",
        "                                            directory=str(TRAIN_IMG_DIR),\n",
        "                                            x_col=CASE,\n",
        "                                            y_col=labels,\n",
        "                                            batch_size=BATCH_SIZE,\n",
        "                                            seed=RANDOM_STATE,\n",
        "                                            shuffle=True,\n",
        "                                            class_mode=CLASS_MODE,\n",
        "                                            target_size=TARGET_SIZE)"
      ],
      "execution_count": null,
      "outputs": [
        {
          "output_type": "stream",
          "text": [
            "Found 24833 validated image filenames.\n",
            "Found 5250 validated image filenames.\n"
          ],
          "name": "stdout"
        }
      ]
    },
    {
      "cell_type": "markdown",
      "metadata": {
        "ExecuteTime": {
          "end_time": "2021-01-23T15:49:34.854458Z",
          "start_time": "2021-01-23T15:49:34.851131Z"
        },
        "id": "TWuSlr9fW57A"
      },
      "source": [
        "# setting Model\n",
        "\n",
        "## get transfer model"
      ]
    },
    {
      "cell_type": "code",
      "metadata": {
        "ExecuteTime": {
          "end_time": "2021-02-14T04:24:18.262187Z",
          "start_time": "2021-02-14T04:24:11.798911Z"
        },
        "id": "Ql2rV3WAW57B"
      },
      "source": [
        "transfer_model = TRANSFER(**TRANSFER_PARAMETERS)"
      ],
      "execution_count": null,
      "outputs": []
    },
    {
      "cell_type": "markdown",
      "metadata": {
        "id": "A78BbBakW57C"
      },
      "source": [
        "## add layers"
      ]
    },
    {
      "cell_type": "code",
      "metadata": {
        "ExecuteTime": {
          "end_time": "2021-02-14T04:24:22.178989Z",
          "start_time": "2021-02-14T04:24:18.263272Z"
        },
        "id": "axgzRCbKW57C"
      },
      "source": [
        "model = tf.keras.Sequential([transfer_model] + LAYERS)"
      ],
      "execution_count": null,
      "outputs": []
    },
    {
      "cell_type": "markdown",
      "metadata": {
        "id": "qLJ7s_zzW57C"
      },
      "source": [
        "## freeze transfer layers"
      ]
    },
    {
      "cell_type": "code",
      "metadata": {
        "ExecuteTime": {
          "end_time": "2021-02-14T04:24:22.191885Z",
          "start_time": "2021-02-14T04:24:22.179953Z"
        },
        "id": "q8TS9ONJW57D"
      },
      "source": [
        "transfer_model.trainable=TRAINABLE"
      ],
      "execution_count": null,
      "outputs": []
    },
    {
      "cell_type": "markdown",
      "metadata": {
        "id": "tWmXST1HW57D"
      },
      "source": [
        "## checkout summary"
      ]
    },
    {
      "cell_type": "code",
      "metadata": {
        "ExecuteTime": {
          "end_time": "2021-02-14T04:24:22.235937Z",
          "start_time": "2021-02-14T04:24:22.192964Z"
        },
        "id": "cmEk0VB8W57E",
        "outputId": "1f3e58b7-b237-4cf7-fd8f-09fc8e7d9f30"
      },
      "source": [
        "model.summary()"
      ],
      "execution_count": null,
      "outputs": [
        {
          "output_type": "stream",
          "text": [
            "Model: \"sequential\"\n",
            "_________________________________________________________________\n",
            "Layer (type)                 Output Shape              Param #   \n",
            "=================================================================\n",
            "inception_resnet_v2 (Model)  (None, 5, 5, 1536)        54336736  \n",
            "_________________________________________________________________\n",
            "flat (Flatten)               (None, 38400)             0         \n",
            "_________________________________________________________________\n",
            "dense (Dense)                (None, 128)               4915328   \n",
            "_________________________________________________________________\n",
            "output (Dense)               (None, 11)                1419      \n",
            "=================================================================\n",
            "Total params: 59,253,483\n",
            "Trainable params: 59,192,939\n",
            "Non-trainable params: 60,544\n",
            "_________________________________________________________________\n"
          ],
          "name": "stdout"
        }
      ]
    },
    {
      "cell_type": "markdown",
      "metadata": {
        "id": "y7EmkXmoW57F"
      },
      "source": [
        "## compile model"
      ]
    },
    {
      "cell_type": "code",
      "metadata": {
        "ExecuteTime": {
          "end_time": "2021-02-14T04:24:22.263668Z",
          "start_time": "2021-02-14T04:24:22.236853Z"
        },
        "id": "DHkwp2SpW57F"
      },
      "source": [
        "model.compile(optimizer=OPTIMIZER, loss=LOSS, metrics=METRICS)"
      ],
      "execution_count": null,
      "outputs": []
    },
    {
      "cell_type": "markdown",
      "metadata": {
        "id": "_zyr2JRNW57G"
      },
      "source": [
        "## callback"
      ]
    },
    {
      "cell_type": "code",
      "metadata": {
        "ExecuteTime": {
          "end_time": "2021-02-14T04:24:22.266557Z",
          "start_time": "2021-02-14T04:24:22.264541Z"
        },
        "id": "RzslXqtmW57G"
      },
      "source": [
        "es = tf.keras.callbacks.EarlyStopping(monitor='val_loss', patience=PATIENCE, restore_best_weights=True)\n",
        "lp = PlotLossesKeras()\n",
        "\n",
        "callback = [es, lp]"
      ],
      "execution_count": null,
      "outputs": []
    },
    {
      "cell_type": "markdown",
      "metadata": {
        "id": "L21gq-DbW57H"
      },
      "source": [
        "# train"
      ]
    },
    {
      "cell_type": "code",
      "metadata": {
        "ExecuteTime": {
          "end_time": "2021-02-14T06:51:29.139152Z",
          "start_time": "2021-02-14T04:24:22.267406Z"
        },
        "scrolled": false,
        "id": "lKLUh_dfW57H",
        "outputId": "853c5900-05bb-4a1c-9e8b-0d8ba0d6980c"
      },
      "source": [
        "history = model.fit(train_generator, validation_data=valid_generator, steps_per_epoch=len(train_generator), validation_steps=len(valid_generator), epochs=EPOCHS, callbacks=callback)"
      ],
      "execution_count": null,
      "outputs": [
        {
          "output_type": "stream",
          "text": [
            "Epoch 1/100\n",
            "WARNING:tensorflow:From /home/yoav/anaconda3/envs/ITC/lib/python3.8/site-packages/tensorflow/python/ops/resource_variable_ops.py:1813: calling BaseResourceVariable.__init__ (from tensorflow.python.ops.resource_variable_ops) with constraint is deprecated and will be removed in a future version.\n",
            "Instructions for updating:\n",
            "If using Keras pass *_constraint arguments to layers.\n",
            "1553/1553 [==============================] - 639s 411ms/step - loss: 0.2483 - auc: 0.7528 - val_loss: 0.4216 - val_auc: 0.7347\n",
            "Epoch 2/100\n",
            "1553/1553 [==============================] - 637s 410ms/step - loss: 0.2186 - auc: 0.8042 - val_loss: 1.5530 - val_auc: 0.6176\n",
            "Epoch 3/100\n",
            "1553/1553 [==============================] - 622s 401ms/step - loss: 0.2166 - auc: 0.8119 - val_loss: 48.4988 - val_auc: 0.5713\n",
            "Epoch 4/100\n",
            "1553/1553 [==============================] - 619s 399ms/step - loss: 0.2051 - auc: 0.8407 - val_loss: 33.0044 - val_auc: 0.4928\n",
            "Epoch 5/100\n",
            "1553/1553 [==============================] - 616s 397ms/step - loss: 0.2045 - auc: 0.8420 - val_loss: 0.3309 - val_auc: 0.7312\n",
            "Epoch 6/100\n",
            "1553/1553 [==============================] - 620s 399ms/step - loss: 0.2015 - auc: 0.8485 - val_loss: 0.1969 - val_auc: 0.8486\n",
            "Epoch 7/100\n",
            "1553/1553 [==============================] - 619s 398ms/step - loss: 0.1887 - auc: 0.8679 - val_loss: 28.1160 - val_auc: 0.5739\n",
            "Epoch 8/100\n",
            "1553/1553 [==============================] - 615s 396ms/step - loss: 0.1836 - auc: 0.8770 - val_loss: 0.2180 - val_auc: 0.8590\n",
            "Epoch 9/100\n",
            "1553/1553 [==============================] - 652s 420ms/step - loss: 0.1791 - auc: 0.8859 - val_loss: 0.1888 - val_auc: 0.8648\n",
            "Epoch 10/100\n",
            "1553/1553 [==============================] - 620s 399ms/step - loss: 0.1750 - auc: 0.8934 - val_loss: 1.9717 - val_auc: 0.5992\n",
            "Epoch 11/100\n",
            "1553/1553 [==============================] - 631s 406ms/step - loss: 0.1666 - auc: 0.9049 - val_loss: 0.2001 - val_auc: 0.8642\n",
            "Epoch 12/100\n",
            "1553/1553 [==============================] - 622s 400ms/step - loss: 0.1537 - auc: 0.9208 - val_loss: 0.1983 - val_auc: 0.8568\n",
            "Epoch 13/100\n",
            "1553/1553 [==============================] - 624s 402ms/step - loss: 0.1472 - auc: 0.9255 - val_loss: 0.2399 - val_auc: 0.8375\n",
            "Epoch 14/100\n",
            "1553/1553 [==============================] - 648s 417ms/step - loss: 0.1432 - auc: 0.9342 - val_loss: 47.4064 - val_auc: 0.7813\n"
          ],
          "name": "stdout"
        }
      ]
    },
    {
      "cell_type": "markdown",
      "metadata": {
        "id": "AAzYIxkJW57I"
      },
      "source": [
        "### plot model history"
      ]
    },
    {
      "cell_type": "code",
      "metadata": {
        "ExecuteTime": {
          "end_time": "2021-02-14T06:51:29.327595Z",
          "start_time": "2021-02-14T06:51:29.140555Z"
        },
        "id": "EmYkKHBZW57I",
        "outputId": "37bfe188-0e24-41b1-f7ac-030fbaca9eb8"
      },
      "source": [
        "plot_model_history(model.history)"
      ],
      "execution_count": null,
      "outputs": [
        {
          "output_type": "display_data",
          "data": {
            "image/png": "[encoded data removed]",
            "text/plain": [
              "<Figure size 1080x504 with 1 Axes>"
            ]
          },
          "metadata": {
            "tags": []
          }
        }
      ]
    },
    {
      "cell_type": "markdown",
      "metadata": {
        "id": "9BE1zCDmW57J"
      },
      "source": [
        "# Save model"
      ]
    },
    {
      "cell_type": "code",
      "metadata": {
        "ExecuteTime": {
          "end_time": "2021-02-14T06:52:39.980538Z",
          "start_time": "2021-02-14T06:51:29.328475Z"
        },
        "id": "Xi9CpkMvW57J",
        "outputId": "729fab94-2177-4bb0-ccfa-cbb326ea1497"
      },
      "source": [
        "model.save(MODEL_OUT)"
      ],
      "execution_count": null,
      "outputs": [
        {
          "output_type": "stream",
          "text": [
            "INFO:tensorflow:Assets written to: InceptionResNetV2_16b_5p_ftrl/assets\n"
          ],
          "name": "stdout"
        }
      ]
    }
  ]
}