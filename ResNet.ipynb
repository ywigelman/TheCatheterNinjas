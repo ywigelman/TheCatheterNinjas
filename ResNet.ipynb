{
 "cells": [
  {
   "cell_type": "markdown",
   "metadata": {},
   "source": [
    "# Setup\n",
    "\n",
    "## import libraries and modules"
   ]
  },
  {
   "cell_type": "code",
   "execution_count": 1,
   "metadata": {
    "ExecuteTime": {
     "end_time": "2021-01-23T12:18:33.333173Z",
     "start_time": "2021-01-23T12:18:32.014309Z"
    }
   },
   "outputs": [],
   "source": [
    "import pandas as pd\n",
    "import matplotlib.pyplot as plt\n",
    "from itertools import permutations\n",
    "from pandas_profiling import ProfileReport\n",
    "import sweetviz as sv\n",
    "from matplotlib_venn import venn3\n",
    "import warnings\n",
    "import numpy as np\n",
    "from pathlib import Path\n",
    "import cv2\n",
    "from collections import Counter\n",
    "import seaborn as sns\n",
    "warnings.filterwarnings(\"ignore\")\n",
    "%matplotlib inline"
   ]
  },
  {
   "cell_type": "markdown",
   "metadata": {},
   "source": [
    "## set constants"
   ]
  },
  {
   "cell_type": "code",
   "execution_count": 2,
   "metadata": {
    "ExecuteTime": {
     "end_time": "2021-01-23T12:18:37.928615Z",
     "start_time": "2021-01-23T12:18:37.920879Z"
    }
   },
   "outputs": [],
   "source": [
    "TRAIN = 'train.csv'\n",
    "RANDOM_STATE = 42 \n",
    "CASE = 'StudyInstanceUID'\n",
    "TRAIN_IMG_REL_DIR = 'train'\n",
    "CATHETERS = ['CVC', 'ETT' , 'NGT', 'Swan Ganz Catheter Present']\n",
    "\n",
    "np.random.seed(RANDOM_STATE)"
   ]
  },
  {
   "cell_type": "markdown",
   "metadata": {},
   "source": [
    "## functions"
   ]
  },
  {
   "cell_type": "code",
   "execution_count": 3,
   "metadata": {
    "ExecuteTime": {
     "end_time": "2021-01-23T12:19:10.225531Z",
     "start_time": "2021-01-23T12:19:10.208074Z"
    }
   },
   "outputs": [],
   "source": [
    "def make_sets3(data: pd.DataFrame, *cols):\n",
    "    group_a, group_b, group_c = cols\n",
    "    group_a_ser, group_b_ser, group_c_ser =  data[group_a], data[group_b], data[group_c]\n",
    "    a, b, c = (group_a_ser==1), (group_b_ser==1), (group_c_ser==1)\n",
    "    a_only, b_only, c_only = (a & ~b & ~c), (~a & b & ~c), (~a & ~b & c)\n",
    "    ab_only, ac_only, bc_only = (a & b & ~c), (a & ~b & c), (~a & b & c)\n",
    "    abc = a & b & c\n",
    "    return tuple(np.sum(group) for group in (a_only, b_only, ab_only, c_only, ac_only, bc_only, abc))\n",
    "\n",
    "def get_img(cond, ax, data: pd.DataFrame, title: str=''):\n",
    "    img_path = str(Path(TRAIN_IMG_REL_DIR) / np.random.choice(data[cond][CASE].values)) + '.jpg'\n",
    "    img = cv2.imread(str(img_path), cv2.COLOR_BGR2GRAY)\n",
    "    ax.imshow(img, cmap='gray')\n",
    "    ax.set_title(title)"
   ]
  },
  {
   "cell_type": "code",
   "execution_count": null,
   "metadata": {},
   "outputs": [],
   "source": []
  },
  {
   "cell_type": "code",
   "execution_count": null,
   "metadata": {},
   "outputs": [],
   "source": []
  },
  {
   "cell_type": "code",
   "execution_count": null,
   "metadata": {},
   "outputs": [],
   "source": []
  },
  {
   "cell_type": "code",
   "execution_count": null,
   "metadata": {},
   "outputs": [],
   "source": []
  },
  {
   "cell_type": "code",
   "execution_count": null,
   "metadata": {},
   "outputs": [],
   "source": []
  },
  {
   "cell_type": "code",
   "execution_count": null,
   "metadata": {},
   "outputs": [],
   "source": []
  },
  {
   "cell_type": "code",
   "execution_count": null,
   "metadata": {},
   "outputs": [],
   "source": []
  }
 ],
 "metadata": {
  "kernelspec": {
   "display_name": "Python [conda env:ITC] *",
   "language": "python",
   "name": "conda-env-ITC-py"
  },
  "language_info": {
   "codemirror_mode": {
    "name": "ipython",
    "version": 3
   },
   "file_extension": ".py",
   "mimetype": "text/x-python",
   "name": "python",
   "nbconvert_exporter": "python",
   "pygments_lexer": "ipython3",
   "version": "3.8.2"
  },
  "latex_envs": {
   "LaTeX_envs_menu_present": true,
   "autoclose": false,
   "autocomplete": true,
   "bibliofile": "biblio.bib",
   "cite_by": "apalike",
   "current_citInitial": 1,
   "eqLabelWithNumbers": true,
   "eqNumInitial": 1,
   "hotkeys": {
    "equation": "Ctrl-E",
    "itemize": "Ctrl-I"
   },
   "labels_anchors": false,
   "latex_user_defs": false,
   "report_style_numbering": false,
   "user_envs_cfg": false
  },
  "toc": {
   "base_numbering": 1,
   "nav_menu": {},
   "number_sections": true,
   "sideBar": true,
   "skip_h1_title": false,
   "title_cell": "Table of Contents",
   "title_sidebar": "Contents",
   "toc_cell": false,
   "toc_position": {},
   "toc_section_display": true,
   "toc_window_display": false
  }
 },
 "nbformat": 4,
 "nbformat_minor": 4
}
