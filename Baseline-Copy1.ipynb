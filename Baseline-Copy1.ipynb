{
 "cells": [
  {
   "cell_type": "markdown",
   "metadata": {},
   "source": [
    "# Info\n",
    "\n",
    "- building a baseline model using the cats vs. dogs architecture.\n",
    "- this baseline model includes a preprocessing steps of rescaling of all images to 448x448 size with a single channel (gray scale) and CLAHE with default parameters\n",
    "- this baseline model is built for multi-label classification:\n",
    "    - output layer has a Sigmoid activation function \n",
    "    - loss function is binary_crossentropy\n",
    "    - chosen metrics is AUC with multi-label parameter set to True (as compatible with the competition requirements)"
   ]
  },
  {
   "cell_type": "markdown",
   "metadata": {},
   "source": [
    "# Setup\n",
    "\n",
    "## import libraries and modules"
   ]
  },
  {
   "cell_type": "code",
   "execution_count": 20,
   "metadata": {
    "ExecuteTime": {
     "end_time": "2021-01-24T16:26:23.925737Z",
     "start_time": "2021-01-24T16:26:23.917347Z"
    },
    "scrolled": true
   },
   "outputs": [],
   "source": [
    "import pandas as pd\n",
    "import matplotlib.pyplot as plt\n",
    "from itertools import permutations\n",
    "import warnings\n",
    "import numpy as np\n",
    "from pathlib import Path\n",
    "import cv2\n",
    "from collections import Counter\n",
    "import seaborn as sns\n",
    "warnings.filterwarnings(\"ignore\")\n",
    "warnings.filterwarnings(\"ignore\", category=DeprecationWarning) \n",
    "\n",
    "import warnings\n",
    "import os\n",
    "import cv2\n",
    "import numpy as np\n",
    "from random import shuffle\n",
    "from pathlib import Path\n",
    "from typing import Union\n",
    "from multiprocessing import Pool\n",
    "import pandas as pd\n",
    "import tensorflow \n",
    "from tensorflow.keras.models import Sequential\n",
    "from tensorflow.keras.layers import Dense, Activation, Dropout, Flatten,Conv2D, MaxPooling2D\n",
    "from tensorflow.keras.layers import BatchNormalization\n",
    "from tensorflow.keras.callbacks import EarlyStopping, ModelCheckpoint\n",
    "from tensorflow.keras.preprocessing.image import ImageDataGenerator \n",
    "from tensorflow.keras.layers.experimental.preprocessing import Rescaling\n",
    "from tensorflow.keras.metrics import AUC\n",
    "from sklearn.model_selection import train_test_split\n",
    "\n",
    "\n",
    "%matplotlib inline"
   ]
  },
  {
   "cell_type": "markdown",
   "metadata": {},
   "source": [
    "## set constants"
   ]
  },
  {
   "cell_type": "code",
   "execution_count": 21,
   "metadata": {
    "ExecuteTime": {
     "end_time": "2021-01-24T16:26:26.043185Z",
     "start_time": "2021-01-24T16:26:26.027454Z"
    }
   },
   "outputs": [],
   "source": [
    "TRAIN_META = 'train.csv'\n",
    "\n",
    "TRAIN_IMG_DIR = Path('train') \n",
    "TRAIN_RESIZE_DIR = Path('train_resize') \n",
    "\n",
    "TEST_IMG_DIR = Path('test') \n",
    "TEST_RESIZE_DIR = Path('test_resize') \n",
    "\n",
    "\n",
    "CASE = 'StudyInstanceUID'\n",
    "NEW_SIZE = (448,448)\n",
    "IMG_SIZE = (448, 448, 1)\n",
    "RANDOM_STATE = 42\n",
    "VALIDATION_SIZE = 0.2\n",
    "\n",
    "EXPECTED_X_SHAPE = (23262, 80, 80, 3)\n",
    "TEST_VALIDATION_SIZE = 0.1\n",
    "RANDOM_STATE = 42\n",
    "CATS_LABEL = 0\n",
    "DOGS_LABEL = 1\n",
    "IMG_RESIZE = (80, 80)\n",
    "RSCL = 1/255\n",
    "ACTIVATION = 'relu'\n",
    "N_FILTERS = 64\n",
    "FILTER2D_size = 1\n",
    "METRICS = 'auc'\n",
    "DENSE_DIM = 64\n",
    "OUT_DIM = 1\n",
    "OUT_ACTIVATION = 'sigmoid'\n",
    "OPTIMIZER = 'adam'\n",
    "LOSS = 'binary_crossentropy'\n",
    "EPOCHS = 10\n",
    "BATCH_SIZE = 32\n",
    "AVAIL_CPU = None\n",
    "\n",
    "np.random.seed(RANDOM_STATE)"
   ]
  },
  {
   "cell_type": "markdown",
   "metadata": {},
   "source": [
    "## load meta file"
   ]
  },
  {
   "cell_type": "code",
   "execution_count": 4,
   "metadata": {
    "ExecuteTime": {
     "end_time": "2021-01-24T07:33:01.663752Z",
     "start_time": "2021-01-24T07:33:01.626410Z"
    }
   },
   "outputs": [],
   "source": [
    "df = pd.read_csv(TRAIN_META)"
   ]
  },
  {
   "cell_type": "markdown",
   "metadata": {},
   "source": [
    "## get labels"
   ]
  },
  {
   "cell_type": "code",
   "execution_count": 5,
   "metadata": {
    "ExecuteTime": {
     "end_time": "2021-01-24T07:33:04.373936Z",
     "start_time": "2021-01-24T07:33:04.362464Z"
    }
   },
   "outputs": [],
   "source": [
    "labels = df.select_dtypes(int).columns"
   ]
  },
  {
   "cell_type": "markdown",
   "metadata": {},
   "source": [
    "## functions"
   ]
  },
  {
   "cell_type": "code",
   "execution_count": 6,
   "metadata": {
    "ExecuteTime": {
     "end_time": "2021-01-24T07:33:12.888942Z",
     "start_time": "2021-01-24T07:33:12.883024Z"
    }
   },
   "outputs": [],
   "source": [
    "def show_img(img: np.array, ax=None, title: str='', cmap: str = 'gray'):\n",
    "    _, ax = plt.subplots() \n",
    "    ax.imshow(img, cmap=cmap)\n",
    "    ax.set_title(title)\n",
    "    \n",
    "def preprocess(img_path: Path, processed_path: Path):\n",
    "    new_img = cv2.resize(cv2.imread(str(img_path), cv2.IMREAD_GRAYSCALE), NEW_SIZE)\n",
    "    cv2.imwrite(str(processed_path), new_img)\n",
    "    \n",
    "\n",
    "def validate_file(record: Path):\n",
    "    if record.is_file() & record.exists():\n",
    "        return True\n",
    "    return False\n",
    "\n",
    "\n",
    "def numipy_train(meta: pd.DataFrame, img_dir: Path,\n",
    "                 suffix: str = '.jpg', case_col: str = CASE, \n",
    "                 labels_col = labels, \n",
    "                 scale=cv2.IMREAD_GRAYSCALE, \n",
    "                 image_dir_temp_col = 'images', cpu: int=None):\n",
    "    \n",
    "    meta[image_dir_temp_col] = img_dir / (meta[case_col] + suffix)\n",
    "    msk = meta[image_dir_temp_col].apply(validate_file)\n",
    "    meta = meta[msk]\n",
    "    images, label_values = meta[image_dir_temp_col].to_list(), meta[labels_col].values\n",
    "    images = [(str(image), scale) for image in images]\n",
    "    with Pool(cpu) as p: images = p.starmap(cv2.imread, images)\n",
    "    return np.array(images), label_values\n",
    "\n",
    "def numipy_test(img_dir: Path, labels: list, \n",
    "                 suffix: str = '.jpg', case_col: str = CASE, \n",
    "                 labels_col = labels, \n",
    "                 scale=cv2.IMREAD_GRAYSCALE, \n",
    "                 image_dir_temp_col = 'images', cpu: int=None)\n",
    "    \n",
    "    images = list(img_dir.glob('*' + suffix))\n",
    "    images = [(str(image), scale) for image in images]\n",
    "    with Pool(cpu) as p: images = p.starmap(cv2.imread, images)\n",
    "    \n",
    "\n",
    "def multi_preproccess(input_dir: Path, output_dir: Path, glob: str='*.jpg', \n",
    "                      size: tuple=NEW_SIZE, scale=cv2.IMREAD_GRAYSCALE, \n",
    "                      clip_limit=None, title_grid_size=None, \n",
    "                      cpu: int=None):\n",
    "    pool_lst = []\n",
    "    os.makedirs(output_dir, exist_ok=True)\n",
    "    for input_img in input_dir.glob(glob):\n",
    "        pool_lst.append((input_img, output_dir/input_img.name, size, scale, clip_limit, title_grid_size))\n",
    "    with Pool(cpu) as p: p.starmap(preprocess, pool_lst)\n"
   ]
  },
  {
   "cell_type": "markdown",
   "metadata": {},
   "source": [
    "# Preprocess\n",
    "\n",
    "## preprocess train"
   ]
  },
  {
   "cell_type": "code",
   "execution_count": 7,
   "metadata": {
    "ExecuteTime": {
     "end_time": "2021-01-24T07:35:57.029354Z",
     "start_time": "2021-01-24T07:33:21.144995Z"
    }
   },
   "outputs": [],
   "source": [
    "multi_preproccess(TRAIN_IMG_DIR, TRAIN_RESIZE_DIR)"
   ]
  },
  {
   "cell_type": "markdown",
   "metadata": {},
   "source": [
    "## preprocess test"
   ]
  },
  {
   "cell_type": "code",
   "execution_count": 8,
   "metadata": {
    "ExecuteTime": {
     "end_time": "2021-01-24T07:36:16.152720Z",
     "start_time": "2021-01-24T07:35:57.030569Z"
    }
   },
   "outputs": [],
   "source": [
    "multi_preproccess(TEST_IMG_DIR, TEST_RESIZE_DIR)"
   ]
  },
  {
   "cell_type": "markdown",
   "metadata": {},
   "source": [
    "## convert train into numpy array"
   ]
  },
  {
   "cell_type": "code",
   "execution_count": 9,
   "metadata": {
    "ExecuteTime": {
     "end_time": "2021-01-24T07:36:29.727157Z",
     "start_time": "2021-01-24T07:36:16.154055Z"
    }
   },
   "outputs": [],
   "source": [
    "X, y = numipy_train(df, TRAIN_RESIZE_DIR)"
   ]
  },
  {
   "cell_type": "code",
   "execution_count": null,
   "metadata": {},
   "outputs": [],
   "source": []
  },
  {
   "cell_type": "markdown",
   "metadata": {
    "ExecuteTime": {
     "end_time": "2021-01-23T15:49:34.854458Z",
     "start_time": "2021-01-23T15:49:34.851131Z"
    }
   },
   "source": [
    "# basic CNN\n",
    "\n",
    "## make sequential model architecture"
   ]
  },
  {
   "cell_type": "code",
   "execution_count": 10,
   "metadata": {
    "ExecuteTime": {
     "end_time": "2021-01-24T07:36:29.895546Z",
     "start_time": "2021-01-24T07:36:29.728462Z"
    }
   },
   "outputs": [],
   "source": [
    "model = Sequential([Rescaling(RSCL, input_shape=IMG_SIZE, name='rescaling'),\n",
    "                    Conv2D(N_FILTERS, FILTER2D_size, activation=ACTIVATION, name='conv_1'), \n",
    "                    MaxPooling2D(name='max_pool1'),  \n",
    "                    Conv2D(N_FILTERS, FILTER2D_size, activation=ACTIVATION, name='conv_2'), \n",
    "                    MaxPooling2D(name='max_pool2'), \n",
    "                    Conv2D(N_FILTERS, FILTER2D_size, activation=ACTIVATION, name='conv_3'),\n",
    "                    MaxPooling2D(name='max_pool3'), \n",
    "                    Flatten(name='flat'), \n",
    "                    Dense(DENSE_DIM, activation=ACTIVATION, name='dense_1'), \n",
    "                    Dense(len(labels), activation=OUT_ACTIVATION, name='out')])"
   ]
  },
  {
   "cell_type": "markdown",
   "metadata": {},
   "source": [
    "## model summary"
   ]
  },
  {
   "cell_type": "code",
   "execution_count": 11,
   "metadata": {
    "ExecuteTime": {
     "end_time": "2021-01-24T07:36:29.902733Z",
     "start_time": "2021-01-24T07:36:29.896587Z"
    }
   },
   "outputs": [
    {
     "name": "stdout",
     "output_type": "stream",
     "text": [
      "Model: \"sequential\"\n",
      "_________________________________________________________________\n",
      "Layer (type)                 Output Shape              Param #   \n",
      "=================================================================\n",
      "rescaling (Rescaling)        (None, 448, 448, 1)       0         \n",
      "_________________________________________________________________\n",
      "conv_1 (Conv2D)              (None, 448, 448, 64)      128       \n",
      "_________________________________________________________________\n",
      "max_pool1 (MaxPooling2D)     (None, 224, 224, 64)      0         \n",
      "_________________________________________________________________\n",
      "conv_2 (Conv2D)              (None, 224, 224, 64)      4160      \n",
      "_________________________________________________________________\n",
      "max_pool2 (MaxPooling2D)     (None, 112, 112, 64)      0         \n",
      "_________________________________________________________________\n",
      "conv_3 (Conv2D)              (None, 112, 112, 64)      4160      \n",
      "_________________________________________________________________\n",
      "max_pool3 (MaxPooling2D)     (None, 56, 56, 64)        0         \n",
      "_________________________________________________________________\n",
      "flat (Flatten)               (None, 200704)            0         \n",
      "_________________________________________________________________\n",
      "dense_1 (Dense)              (None, 64)                12845120  \n",
      "_________________________________________________________________\n",
      "out (Dense)                  (None, 11)                715       \n",
      "=================================================================\n",
      "Total params: 12,854,283\n",
      "Trainable params: 12,854,283\n",
      "Non-trainable params: 0\n",
      "_________________________________________________________________\n"
     ]
    }
   ],
   "source": [
    "model.summary()"
   ]
  },
  {
   "cell_type": "markdown",
   "metadata": {},
   "source": [
    "## Callbacks"
   ]
  },
  {
   "cell_type": "code",
   "execution_count": 12,
   "metadata": {
    "ExecuteTime": {
     "end_time": "2021-01-24T07:36:29.908451Z",
     "start_time": "2021-01-24T07:36:29.904157Z"
    }
   },
   "outputs": [],
   "source": [
    "checkpoint = ModelCheckpoint(\"Checkpoint/weights.{epoch:02d}-{val_loss:.2f}.hdf5\", monitor='val_loss', verbose=1, \n",
    "save_best_only=False, save_weights_only=False, mode='auto')\n",
    "callback = EarlyStopping(monitor='val_loss', patience=2)"
   ]
  },
  {
   "cell_type": "markdown",
   "metadata": {},
   "source": [
    "## compile model"
   ]
  },
  {
   "cell_type": "code",
   "execution_count": 13,
   "metadata": {
    "ExecuteTime": {
     "end_time": "2021-01-24T07:36:29.923274Z",
     "start_time": "2021-01-24T07:36:29.909466Z"
    }
   },
   "outputs": [],
   "source": [
    "model.compile(optimizer=OPTIMIZER, loss=LOSS, metrics=AUC(multi_label=True))"
   ]
  },
  {
   "cell_type": "markdown",
   "metadata": {},
   "source": [
    "# train"
   ]
  },
  {
   "cell_type": "code",
   "execution_count": 19,
   "metadata": {
    "ExecuteTime": {
     "end_time": "2021-01-24T12:24:24.993468Z",
     "start_time": "2021-01-24T07:37:48.063650Z"
    }
   },
   "outputs": [
    {
     "name": "stdout",
     "output_type": "stream",
     "text": [
      "Epoch 1/10\n",
      "847/847 [==============================] - 1707s 2s/step - loss: 0.3058 - auc: 0.6217 - val_loss: 0.2640 - val_auc: 0.7291\n",
      "Epoch 2/10\n",
      "847/847 [==============================] - 1730s 2s/step - loss: 0.2577 - auc: 0.7220 - val_loss: 0.2583 - val_auc: 0.7366\n",
      "Epoch 3/10\n",
      "847/847 [==============================] - 1698s 2s/step - loss: 0.2505 - auc: 0.7583 - val_loss: 0.2633 - val_auc: 0.7329\n",
      "Epoch 4/10\n",
      "847/847 [==============================] - 1745s 2s/step - loss: 0.2428 - auc: 0.7832 - val_loss: 0.2564 - val_auc: 0.7377\n",
      "Epoch 5/10\n",
      "847/847 [==============================] - 1684s 2s/step - loss: 0.2331 - auc: 0.8129 - val_loss: 0.2649 - val_auc: 0.7229\n",
      "Epoch 6/10\n",
      "847/847 [==============================] - 1735s 2s/step - loss: 0.2207 - auc: 0.8480 - val_loss: 0.2829 - val_auc: 0.7228\n",
      "Epoch 7/10\n",
      "847/847 [==============================] - 1680s 2s/step - loss: 0.2023 - auc: 0.8826 - val_loss: 0.2767 - val_auc: 0.7188\n",
      "Epoch 8/10\n",
      "847/847 [==============================] - 1658s 2s/step - loss: 0.1803 - auc: 0.9127 - val_loss: 0.2923 - val_auc: 0.6926\n",
      "Epoch 9/10\n",
      "847/847 [==============================] - 1797s 2s/step - loss: 0.1559 - auc: 0.9399 - val_loss: 0.3120 - val_auc: 0.6770\n",
      "Epoch 10/10\n",
      "847/847 [==============================] - 1760s 2s/step - loss: 0.1344 - auc: 0.9512 - val_loss: 0.3630 - val_auc: 0.6543\n"
     ]
    },
    {
     "data": {
      "text/plain": [
       "<tensorflow.python.keras.callbacks.History at 0x7ff9c6f3e6d0>"
      ]
     },
     "execution_count": 19,
     "metadata": {},
     "output_type": "execute_result"
    }
   ],
   "source": [
    "model.fit(X_train, y_train, validation_split=TEST_VALIDATION_SIZE, batch_size=BATCH_SIZE, epochs=EPOCHS, callbacks=[checkpoint, callback])"
   ]
  },
  {
   "cell_type": "code",
   "execution_count": null,
   "metadata": {},
   "outputs": [],
   "source": []
  },
  {
   "cell_type": "code",
   "execution_count": 40,
   "metadata": {
    "ExecuteTime": {
     "end_time": "2021-01-23T22:41:59.627361Z",
     "start_time": "2021-01-23T22:41:43.009160Z"
    }
   },
   "outputs": [
    {
     "data": {
      "text/plain": [
       "array([0.997, 0.969, 0.867, 0.992, 0.975, 0.921, 0.895, 0.883, 0.745,\n",
       "       0.749, 0.978])"
      ]
     },
     "execution_count": 40,
     "metadata": {},
     "output_type": "execute_result"
    }
   ],
   "source": [
    "np.mean(np.where(model.predict(X_train[:1000]) > 0.5, 1, 0) == y_train[:1000], axis=0)"
   ]
  },
  {
   "cell_type": "code",
   "execution_count": 15,
   "metadata": {
    "ExecuteTime": {
     "end_time": "2021-01-24T07:37:34.737202Z",
     "start_time": "2021-01-24T07:37:34.671019Z"
    }
   },
   "outputs": [
    {
     "name": "stdout",
     "output_type": "stream",
     "text": [
      "Please install GPU version of TF\n"
     ]
    }
   ],
   "source": [
    "import tensorflow as tf \n",
    "\n",
    "if tf.test.gpu_device_name():\n",
    "    print('Default GPU Device:{}'.format(tf.test.gpu_device_name()))\n",
    "else:\n",
    "    print(\"Please install GPU version of TF\")"
   ]
  },
  {
   "cell_type": "code",
   "execution_count": 16,
   "metadata": {
    "ExecuteTime": {
     "end_time": "2021-01-24T07:37:36.098874Z",
     "start_time": "2021-01-24T07:37:36.094661Z"
    }
   },
   "outputs": [
    {
     "data": {
      "text/plain": [
       "''"
      ]
     },
     "execution_count": 16,
     "metadata": {},
     "output_type": "execute_result"
    }
   ],
   "source": [
    "tf.test.gpu_device_name()"
   ]
  },
  {
   "cell_type": "code",
   "execution_count": 17,
   "metadata": {
    "ExecuteTime": {
     "end_time": "2021-01-24T07:37:36.889287Z",
     "start_time": "2021-01-24T07:37:36.886850Z"
    }
   },
   "outputs": [
    {
     "data": {
      "text/plain": [
       "[PhysicalDevice(name='/physical_device:CPU:0', device_type='CPU')]"
      ]
     },
     "execution_count": 17,
     "metadata": {},
     "output_type": "execute_result"
    }
   ],
   "source": [
    "tf.config.list_physical_devices()"
   ]
  },
  {
   "cell_type": "code",
   "execution_count": 18,
   "metadata": {
    "ExecuteTime": {
     "end_time": "2021-01-24T07:37:39.402426Z",
     "start_time": "2021-01-24T07:37:39.399179Z"
    }
   },
   "outputs": [
    {
     "data": {
      "text/plain": [
       "[PhysicalDevice(name='/physical_device:CPU:0', device_type='CPU')]"
      ]
     },
     "execution_count": 18,
     "metadata": {},
     "output_type": "execute_result"
    }
   ],
   "source": [
    "import tensorflow as tf\n",
    "tf.config.list_physical_devices()\n"
   ]
  },
  {
   "cell_type": "code",
   "execution_count": null,
   "metadata": {},
   "outputs": [],
   "source": []
  },
  {
   "cell_type": "code",
   "execution_count": null,
   "metadata": {},
   "outputs": [],
   "source": [
    "import os\n",
    "os.environ[\"CUDA_DEVICE_ORDER\"] = \"PCI_BUS_ID\"   # see issue #152\n",
    "os.environ[\"CUDA_VISIBLE_DEVICES\"] = \"\"\n"
   ]
  }
 ],
 "metadata": {
  "kernelspec": {
   "display_name": "Python [conda env:ITC] *",
   "language": "python",
   "name": "conda-env-ITC-py"
  },
  "language_info": {
   "codemirror_mode": {
    "name": "ipython",
    "version": 3
   },
   "file_extension": ".py",
   "mimetype": "text/x-python",
   "name": "python",
   "nbconvert_exporter": "python",
   "pygments_lexer": "ipython3",
   "version": "3.8.2"
  },
  "latex_envs": {
   "LaTeX_envs_menu_present": true,
   "autoclose": false,
   "autocomplete": true,
   "bibliofile": "biblio.bib",
   "cite_by": "apalike",
   "current_citInitial": 1,
   "eqLabelWithNumbers": true,
   "eqNumInitial": 1,
   "hotkeys": {
    "equation": "Ctrl-E",
    "itemize": "Ctrl-I"
   },
   "labels_anchors": false,
   "latex_user_defs": false,
   "report_style_numbering": false,
   "user_envs_cfg": false
  },
  "toc": {
   "base_numbering": 1,
   "nav_menu": {},
   "number_sections": true,
   "sideBar": true,
   "skip_h1_title": false,
   "title_cell": "Table of Contents",
   "title_sidebar": "Contents",
   "toc_cell": false,
   "toc_position": {},
   "toc_section_display": true,
   "toc_window_display": true
  }
 },
 "nbformat": 4,
 "nbformat_minor": 4
}
