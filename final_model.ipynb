{
 "cells": [
  {
   "cell_type": "code",
   "execution_count": 1,
   "metadata": {
    "colab": {
     "base_uri": "https://localhost:8080/"
    },
    "id": "-VyCgHVdBN8M",
    "outputId": "b4b93e26-6c7c-4330-a80b-685f468f43dc"
   },
   "outputs": [
    {
     "name": "stdout",
     "output_type": "stream",
     "text": [
      "Running on CoLab\n",
      "Mounted at /content/gdrive\n"
     ]
    }
   ],
   "source": [
    "import os\n",
    "if 'google.colab' in str(get_ipython()):\n",
    "    from google.colab import drive\n",
    "    print('Running on CoLab')\n",
    "    colab = True\n",
    "    drive.mount('/content/gdrive')\n",
    "    ! cp /content/gdrive/MyDrive/TheCatheterNinjas/kaggle.json .\n",
    "else:\n",
    "    colab = False\n",
    "    print('Not running on CoLab')"
   ]
  },
  {
   "cell_type": "code",
   "execution_count": 2,
   "metadata": {
    "colab": {
     "base_uri": "https://localhost:8080/"
    },
    "id": "0DZdMBo9CJv-",
    "outputId": "b83b596e-915b-4a08-e9e8-6bee2082f0cc"
   },
   "outputs": [
    {
     "name": "stdout",
     "output_type": "stream",
     "text": [
      "Collecting kaggle\n",
      "\u001b[?25l  Downloading https://files.pythonhosted.org/packages/99/33/365c0d13f07a2a54744d027fe20b60dacdfdfb33bc04746db6ad0b79340b/kaggle-1.5.10.tar.gz (59kB)\n",
      "\r",
      "\u001b[K     |█████▌                          | 10kB 23.9MB/s eta 0:00:01\r",
      "\u001b[K     |███████████                     | 20kB 15.3MB/s eta 0:00:01\r",
      "\u001b[K     |████████████████▋               | 30kB 13.2MB/s eta 0:00:01\r",
      "\u001b[K     |██████████████████████▏         | 40kB 12.2MB/s eta 0:00:01\r",
      "\u001b[K     |███████████████████████████▊    | 51kB 9.0MB/s eta 0:00:01\r",
      "\u001b[K     |████████████████████████████████| 61kB 5.4MB/s \n",
      "\u001b[?25hBuilding wheels for collected packages: kaggle\n",
      "  Building wheel for kaggle (setup.py) ... \u001b[?25l\u001b[?25hdone\n",
      "  Created wheel for kaggle: filename=kaggle-1.5.10-cp36-none-any.whl size=73269 sha256=4c1102a715c20d558288385fcaff15daeab6a2c4635579ff8f3c2885e8b18bbe\n",
      "  Stored in directory: /root/.cache/pip/wheels/3a/d1/7e/6ce09b72b770149802c653a02783821629146983ee5a360f10\n",
      "Successfully built kaggle\n",
      "Installing collected packages: kaggle\n",
      "  Found existing installation: kaggle 1.5.10\n",
      "    Uninstalling kaggle-1.5.10:\n",
      "      Successfully uninstalled kaggle-1.5.10\n",
      "Successfully installed kaggle-1.5.10\n",
      "Downloading ranzcr-clip-catheter-line-classification.zip to .\n",
      "100% 11.7G/11.7G [04:43<00:00, 35.7MB/s]\n",
      "100% 11.7G/11.7G [04:43<00:00, 44.4MB/s]\n",
      "files are ready\n"
     ]
    }
   ],
   "source": [
    "if colab:\n",
    "    if not os.path.exists('./data/train.csv'):\n",
    "        ! pip install --upgrade --force-reinstall --no-deps kaggle\n",
    "        ! mkdir /root/.kaggle\n",
    "        ! cp kaggle.json /root/.kaggle/\n",
    "        ! chmod 600 /root/.kaggle/kaggle.json\n",
    "        ! kaggle competitions download -c ranzcr-clip-catheter-line-classification -p ./\n",
    "        ! unzip -qq ./'*.zip' -d ./\n",
    "        ! rm ./'ranzcr-clip-catheter-line-classification.zip'\n",
    "        print('files are ready')\n",
    "    else:\n",
    "        print('files are ready')"
   ]
  },
  {
   "cell_type": "markdown",
   "metadata": {
    "id": "lcQmjIMyBMy1"
   },
   "source": [
    "# Setup\n",
    "\n",
    "## import libraries and modules"
   ]
  },
  {
   "cell_type": "code",
   "execution_count": 3,
   "metadata": {
    "ExecuteTime": {
     "end_time": "2021-02-18T00:52:56.780725Z",
     "start_time": "2021-02-18T00:52:55.199216Z"
    },
    "id": "F3JieYbnBMy6",
    "scrolled": true
   },
   "outputs": [],
   "source": [
    "import tensorflow as tf\n",
    "from tensorflow.keras.preprocessing.image import ImageDataGenerator\n",
    "from tensorflow.keras.applications import InceptionResNetV2\n",
    "from tensorflow.keras.metrics import AUC\n",
    "import warnings\n",
    "import numpy as np\n",
    "from pathlib import Path\n",
    "import pandas as pd\n",
    "import seaborn as sns\n",
    "import matplotlib.pyplot as plt\n",
    "from sklearn.model_selection import GroupShuffleSplit\n",
    "from tensorflow.keras.optimizers import Nadam\n",
    "from subprocess import run\n",
    "import cv2\n",
    "warnings.filterwarnings(\"ignore\")\n",
    "warnings.filterwarnings(\"ignore\", category=DeprecationWarning)\n",
    "%matplotlib inline"
   ]
  },
  {
   "cell_type": "markdown",
   "metadata": {
    "id": "q2cUh-XuBMy8"
   },
   "source": [
    "## make sure GPU are used"
   ]
  },
  {
   "cell_type": "code",
   "execution_count": 4,
   "metadata": {
    "ExecuteTime": {
     "end_time": "2021-02-18T00:52:56.816389Z",
     "start_time": "2021-02-18T00:52:56.781882Z"
    },
    "id": "eIwnRxCNBMy9"
   },
   "outputs": [],
   "source": [
    "for device in tf.config.experimental.list_physical_devices('GPU'):\n",
    "    tf.config.experimental.set_memory_growth(device, True)"
   ]
  },
  {
   "cell_type": "markdown",
   "metadata": {
    "id": "jrOTKmaQBMy9"
   },
   "source": [
    "## checking GPUs"
   ]
  },
  {
   "cell_type": "code",
   "execution_count": 5,
   "metadata": {
    "ExecuteTime": {
     "end_time": "2021-02-18T00:52:56.830506Z",
     "start_time": "2021-02-18T00:52:56.817519Z"
    },
    "colab": {
     "base_uri": "https://localhost:8080/"
    },
    "id": "3y6sh7Z9BMy9",
    "outputId": "1d60a34c-90bc-4847-c1b6-4ab9ad87b74c"
   },
   "outputs": [
    {
     "data": {
      "text/plain": [
       "[PhysicalDevice(name='/physical_device:CPU:0', device_type='CPU'),\n",
       " PhysicalDevice(name='/physical_device:GPU:0', device_type='GPU')]"
      ]
     },
     "execution_count": 5,
     "metadata": {
      "tags": []
     },
     "output_type": "execute_result"
    }
   ],
   "source": [
    "tf.config.list_physical_devices()"
   ]
  },
  {
   "cell_type": "markdown",
   "metadata": {
    "id": "EGqdXzHVBMy-"
   },
   "source": [
    "## functions"
   ]
  },
  {
   "cell_type": "code",
   "execution_count": 6,
   "metadata": {
    "ExecuteTime": {
     "end_time": "2021-02-18T00:52:56.838320Z",
     "start_time": "2021-02-18T00:52:56.831481Z"
    },
    "id": "cRteoRV0BMy_"
   },
   "outputs": [],
   "source": [
    "def add_suffix(df: pd.DataFrame, col: str, suffix: str):\n",
    "    df[col] = df[col] + suffix\n",
    "    return df\n",
    "\n",
    "\n",
    "def plot_model_history(history):\n",
    "    sns.set_style('whitegrid')\n",
    "    fig, ax = plt.subplots(figsize=(15,7))\n",
    "    for metric, values in history.history.items():\n",
    "        ax.plot(np.arange(1, len(values) + 1), values, 'o-', label=metric)\n",
    "    ax.set(xlabel='Epochs', ylabel='Rate %', \n",
    "           title='Model Trainning Metrics Per Epoch', \n",
    "           xlim=(1, len(values) + 0.2))\n",
    "    sns.despine()\n",
    "    plt.legend(loc='best')\n",
    "    plt.show() \n",
    "    \n",
    "\n",
    "def canny_edge_detection(example):\n",
    "    img = cv2.cvtColor(example.astype(np.uint8), cv2.COLOR_BGR2GRAY)\n",
    "    return cv2.Canny(img, 50, 100)\n",
    "\n",
    "def canny_over_clahe(example):\n",
    "    img = cv2.cvtColor(example.astype(np.uint8), cv2.COLOR_BGR2GRAY)\n",
    "    high_contrast = clahe.apply(img)\n",
    "    return cv2.Canny(high_contrast, 50, 100)\n",
    "\n",
    "def enhanced_channels(example):\n",
    "    img = cv2.cvtColor(example.astype(np.uint8), cv2.COLOR_BGR2GRAY)\n",
    "    high_contrast = clahe.apply(img)\n",
    "    edges = cv2.Canny(high_contrast, 50, 100)\n",
    "    return np.dstack((img, high_contrast, edges))"
   ]
  },
  {
   "cell_type": "markdown",
   "metadata": {
    "ExecuteTime": {
     "end_time": "2021-01-31T20:06:10.645173Z",
     "start_time": "2021-01-31T20:06:10.637894Z"
    },
    "id": "WhWBASlABMzA"
   },
   "source": [
    "## Constants"
   ]
  },
  {
   "cell_type": "code",
   "execution_count": 7,
   "metadata": {
    "ExecuteTime": {
     "end_time": "2021-02-18T00:52:56.852964Z",
     "start_time": "2021-02-18T00:52:56.839419Z"
    },
    "id": "x8GFTXCIBMzA"
   },
   "outputs": [],
   "source": [
    "LR = 0.0005\n",
    "\n",
    "# data frame columns\n",
    "\n",
    "ID: str = 'PatientID'\n",
    "CASE: str = 'StudyInstanceUID'\n",
    "    \n",
    "# paths and directories\n",
    "\n",
    "TRAIN_META: str = 'train.csv'\n",
    "TRAIN_IMG_DIR: Path = Path('train')\n",
    "MODEL_OUT: str = 'InceptionRN2_12b_5p_nadam_lr0005_499_rot_005'\n",
    "PREDICTION_OUTPUT = 'predictions.csv'\n",
    "CLASS_MODE: str = 'raw'\n",
    "RSCL: float = 1./255.\n",
    "GEN_PROPERTIES: dict = {'featurewise_center':False,'samplewise_center':False,\n",
    "                        'featurewise_std_normalization':False, \n",
    "                        'samplewise_std_normalization':False,\n",
    "                        'zca_whitening':False, 'zca_epsilon':1e-06,\n",
    "                        'rotation_range':0.1, 'width_shift_range':0.0, \n",
    "                        'height_shift_range':0.0, 'brightness_range':None,\n",
    "                        'shear_range':0.0, 'zoom_range':0.0, \n",
    "                        'channel_shift_range':0.0, 'fill_mode':\"constant\", \n",
    "                        'cval':0.0, 'horizontal_flip':False, \n",
    "                        'vertical_flip':False, 'rescale':RSCL, \n",
    "                        'preprocessing_function':None, 'data_format':None, \n",
    "                        'validation_split':0.0, 'dtype':None}\n",
    "# split and generators \n",
    "\n",
    "SUFFIX: str = '.jpg'\n",
    "N_SPLITS: int = 1\n",
    "PATIENCE: int = 3\n",
    "TARGET_SIZE: tuple = (480,480)\n",
    "\n",
    "# model parameters \n",
    "TRANSFER = InceptionResNetV2\n",
    "TRAINABLE = True\n",
    "TRANSFER_WEIGHTS = 'imagenet'\n",
    "IMG_SIZE: tuple = (480, 480, 3)\n",
    "OUT_ACTIVATION = 'sigmoid'\n",
    "ACTIVATION = 'relu'\n",
    "N_CLASS = 11\n",
    "DENSE_DIM = 128\n",
    "FLT = tf.keras.layers.Flatten(name='flat')\n",
    "DNS = tf.keras.layers.Dense(DENSE_DIM, activation=ACTIVATION, name='dense')\n",
    "OUT = tf.keras.layers.Dense(N_CLASS, activation=OUT_ACTIVATION, name='output')\n",
    "LAYERS = [FLT, DNS, OUT]    \n",
    "\n",
    "TRANSFER_PARAMETERS: dict = {'include_top': False, 'input_shape': IMG_SIZE, \n",
    "                             'weights': TRANSFER_WEIGHTS}\n",
    "\n",
    "MONITOR = 'val_loss'\n",
    "METRICS=AUC(multi_label=True)\n",
    "OPTIMIZER = Nadam(learning_rate=LR)\n",
    "LOSS = 'binary_crossentropy'\n",
    "EPOCHS = 100\n",
    "BATCH_SIZE = 12\n",
    "\n",
    "RANDOM_STATE = 42\n",
    "VALIDATION_SIZE = 0.2\n",
    "\n",
    "np.random.seed(RANDOM_STATE)"
   ]
  },
  {
   "cell_type": "markdown",
   "metadata": {
    "ExecuteTime": {
     "end_time": "2021-02-08T15:36:42.286216Z",
     "start_time": "2021-02-08T15:36:42.283941Z"
    },
    "id": "b3PFoR4bBMzA"
   },
   "source": [
    "# Split"
   ]
  },
  {
   "cell_type": "markdown",
   "metadata": {
    "id": "NB5NzIReBMzB"
   },
   "source": [
    "## load meta files"
   ]
  },
  {
   "cell_type": "code",
   "execution_count": 8,
   "metadata": {
    "ExecuteTime": {
     "end_time": "2021-02-18T00:52:56.895593Z",
     "start_time": "2021-02-18T00:52:56.853944Z"
    },
    "id": "PEDzxUQ1BMzB"
   },
   "outputs": [],
   "source": [
    "train_df = pd.read_csv(TRAIN_META)"
   ]
  },
  {
   "cell_type": "markdown",
   "metadata": {
    "id": "XLHtko8UBMzC"
   },
   "source": [
    "## define labels"
   ]
  },
  {
   "cell_type": "code",
   "execution_count": 9,
   "metadata": {
    "ExecuteTime": {
     "end_time": "2021-02-18T00:52:56.900819Z",
     "start_time": "2021-02-18T00:52:56.897335Z"
    },
    "id": "eRVvKz4wBMzD"
   },
   "outputs": [],
   "source": [
    "labels = train_df.select_dtypes(int).columns"
   ]
  },
  {
   "cell_type": "markdown",
   "metadata": {
    "id": "rzvM_hGFBMzD"
   },
   "source": [
    "## group split"
   ]
  },
  {
   "cell_type": "code",
   "execution_count": 10,
   "metadata": {
    "ExecuteTime": {
     "end_time": "2021-02-18T00:52:56.927013Z",
     "start_time": "2021-02-18T00:52:56.901986Z"
    },
    "id": "a0_pStXhBMzD"
   },
   "outputs": [],
   "source": [
    "train_inds, val_inds = next(GroupShuffleSplit(test_size=VALIDATION_SIZE, n_splits=N_SPLITS, random_state = RANDOM_STATE).split(train_df, groups=train_df[ID]))\n",
    "train_df, valid_df = train_df.loc[train_inds], train_df.loc[val_inds]"
   ]
  },
  {
   "cell_type": "markdown",
   "metadata": {
    "id": "prXzy-HbBMzE"
   },
   "source": [
    "## generators"
   ]
  },
  {
   "cell_type": "code",
   "execution_count": 11,
   "metadata": {
    "ExecuteTime": {
     "end_time": "2021-02-18T00:52:57.060692Z",
     "start_time": "2021-02-18T00:52:56.927939Z"
    },
    "colab": {
     "base_uri": "https://localhost:8080/"
    },
    "id": "cCjgIutZBMzE",
    "outputId": "0d88301e-bcec-486e-f04b-ad3e79418358"
   },
   "outputs": [
    {
     "name": "stdout",
     "output_type": "stream",
     "text": [
      "Found 24833 validated image filenames.\n",
      "Found 5250 validated image filenames.\n"
     ]
    }
   ],
   "source": [
    "datagen=ImageDataGenerator(**GEN_PROPERTIES)\n",
    "\n",
    "train_generator=datagen.flow_from_dataframe(dataframe=add_suffix(train_df, \n",
    "                                                                 col=CASE, \n",
    "                                                                 suffix=SUFFIX), \n",
    "                                            directory=str(TRAIN_IMG_DIR),\n",
    "                                            x_col=CASE,\n",
    "                                            y_col=labels,\n",
    "                                            batch_size=BATCH_SIZE,\n",
    "                                            seed=RANDOM_STATE,\n",
    "                                            shuffle=True,\n",
    "                                            class_mode=CLASS_MODE,\n",
    "                                            target_size=TARGET_SIZE)\n",
    "\n",
    "\n",
    "valid_generator=datagen.flow_from_dataframe(dataframe=add_suffix(valid_df, \n",
    "                                                                 col=CASE, \n",
    "                                                                 suffix=SUFFIX), \n",
    "                                            directory=str(TRAIN_IMG_DIR),\n",
    "                                            x_col=CASE,\n",
    "                                            y_col=labels,\n",
    "                                            batch_size=BATCH_SIZE,\n",
    "                                            seed=RANDOM_STATE,\n",
    "                                            shuffle=True,\n",
    "                                            class_mode=CLASS_MODE,\n",
    "                                            target_size=TARGET_SIZE)"
   ]
  },
  {
   "cell_type": "markdown",
   "metadata": {
    "ExecuteTime": {
     "end_time": "2021-01-23T15:49:34.854458Z",
     "start_time": "2021-01-23T15:49:34.851131Z"
    },
    "id": "IjBeMFVWBMzF"
   },
   "source": [
    "# setting Model\n",
    "\n",
    "## get transfer model"
   ]
  },
  {
   "cell_type": "code",
   "execution_count": 12,
   "metadata": {
    "ExecuteTime": {
     "end_time": "2021-02-18T00:53:03.689489Z",
     "start_time": "2021-02-18T00:52:57.061708Z"
    },
    "colab": {
     "base_uri": "https://localhost:8080/"
    },
    "id": "KxvL6joMBMzF",
    "outputId": "d83f3126-1448-4d0a-80cc-f93ba6fd6afb"
   },
   "outputs": [
    {
     "name": "stdout",
     "output_type": "stream",
     "text": [
      "Downloading data from https://storage.googleapis.com/tensorflow/keras-applications/inception_resnet_v2/inception_resnet_v2_weights_tf_dim_ordering_tf_kernels_notop.h5\n",
      "219062272/219055592 [==============================] - 1s 0us/step\n"
     ]
    }
   ],
   "source": [
    "transfer_model = TRANSFER(**TRANSFER_PARAMETERS)"
   ]
  },
  {
   "cell_type": "markdown",
   "metadata": {
    "id": "1YjIodFHBMzF"
   },
   "source": [
    "## add layers"
   ]
  },
  {
   "cell_type": "code",
   "execution_count": 13,
   "metadata": {
    "ExecuteTime": {
     "end_time": "2021-02-18T00:53:07.504911Z",
     "start_time": "2021-02-18T00:53:03.690352Z"
    },
    "id": "HR4AiTcfBMzF"
   },
   "outputs": [],
   "source": [
    "model = tf.keras.Sequential([transfer_model] + LAYERS)"
   ]
  },
  {
   "cell_type": "markdown",
   "metadata": {
    "id": "7Lgi7iGMBMzF"
   },
   "source": [
    "## freeze transfer layers"
   ]
  },
  {
   "cell_type": "code",
   "execution_count": 14,
   "metadata": {
    "ExecuteTime": {
     "end_time": "2021-02-18T00:53:07.517150Z",
     "start_time": "2021-02-18T00:53:07.505777Z"
    },
    "id": "5yhHXPbgBMzF"
   },
   "outputs": [],
   "source": [
    "transfer_model.trainable=TRAINABLE"
   ]
  },
  {
   "cell_type": "markdown",
   "metadata": {
    "id": "5DQBWyeWBMzG"
   },
   "source": [
    "## checkout summary"
   ]
  },
  {
   "cell_type": "code",
   "execution_count": 15,
   "metadata": {
    "ExecuteTime": {
     "end_time": "2021-02-18T00:53:07.568152Z",
     "start_time": "2021-02-18T00:53:07.518076Z"
    },
    "colab": {
     "base_uri": "https://localhost:8080/"
    },
    "id": "86JEfpdoBMzG",
    "outputId": "2289049b-e3ec-4861-ffdb-c09a1957b605"
   },
   "outputs": [
    {
     "name": "stdout",
     "output_type": "stream",
     "text": [
      "Model: \"sequential\"\n",
      "_________________________________________________________________\n",
      "Layer (type)                 Output Shape              Param #   \n",
      "=================================================================\n",
      "inception_resnet_v2 (Functio (None, 13, 13, 1536)      54336736  \n",
      "_________________________________________________________________\n",
      "flat (Flatten)               (None, 259584)            0         \n",
      "_________________________________________________________________\n",
      "dense (Dense)                (None, 128)               33226880  \n",
      "_________________________________________________________________\n",
      "output (Dense)               (None, 11)                1419      \n",
      "=================================================================\n",
      "Total params: 87,565,035\n",
      "Trainable params: 87,504,491\n",
      "Non-trainable params: 60,544\n",
      "_________________________________________________________________\n"
     ]
    }
   ],
   "source": [
    "model.summary()"
   ]
  },
  {
   "cell_type": "markdown",
   "metadata": {
    "id": "gXR6rzOZBMzH"
   },
   "source": [
    "## compile model"
   ]
  },
  {
   "cell_type": "code",
   "execution_count": 16,
   "metadata": {
    "ExecuteTime": {
     "end_time": "2021-02-18T00:53:07.590875Z",
     "start_time": "2021-02-18T00:53:07.569114Z"
    },
    "id": "b2VIR_5YBMzH"
   },
   "outputs": [],
   "source": [
    "model.compile(optimizer=OPTIMIZER, loss=LOSS, metrics=METRICS)"
   ]
  },
  {
   "cell_type": "markdown",
   "metadata": {
    "id": "aDMXRxq-BMzH"
   },
   "source": [
    "## callback"
   ]
  },
  {
   "cell_type": "code",
   "execution_count": 17,
   "metadata": {
    "ExecuteTime": {
     "end_time": "2021-02-18T00:53:07.593487Z",
     "start_time": "2021-02-18T00:53:07.591779Z"
    },
    "id": "Be0HYWe_BMzI"
   },
   "outputs": [],
   "source": [
    "callback = tf.keras.callbacks.EarlyStopping(monitor='val_loss', patience=PATIENCE, restore_best_weights=True)"
   ]
  },
  {
   "cell_type": "markdown",
   "metadata": {
    "id": "ygRekDS0BMzI"
   },
   "source": [
    "# train"
   ]
  },
  {
   "cell_type": "code",
   "execution_count": 18,
   "metadata": {
    "ExecuteTime": {
     "end_time": "2021-02-18T05:48:10.977984Z",
     "start_time": "2021-02-18T00:53:07.594242Z"
    },
    "colab": {
     "base_uri": "https://localhost:8080/"
    },
    "id": "Zag_j5MeBMzI",
    "outputId": "5a4d7501-6d10-4974-fdd5-e8c442258bf1",
    "scrolled": false
   },
   "outputs": [
    {
     "name": "stdout",
     "output_type": "stream",
     "text": [
      "Epoch 1/100\n",
      "2070/2070 [==============================] - 3009s 1s/step - loss: 0.3221 - auc: 0.7383 - val_loss: 0.1905 - val_auc: 0.8405\n",
      "Epoch 2/100\n",
      "2070/2070 [==============================] - 3019s 1s/step - loss: 0.1790 - auc: 0.8827 - val_loss: 0.3415 - val_auc: 0.7043\n",
      "Epoch 3/100\n",
      "2070/2070 [==============================] - 3150s 2s/step - loss: 0.1597 - auc: 0.9091 - val_loss: 0.3327 - val_auc: 0.8104\n",
      "Epoch 4/100\n",
      "2070/2070 [==============================] - 3163s 2s/step - loss: 0.1492 - auc: 0.9166 - val_loss: 0.1645 - val_auc: 0.9032\n",
      "Epoch 5/100\n",
      "2070/2070 [==============================] - 3140s 2s/step - loss: 0.1412 - auc: 0.9305 - val_loss: 0.1498 - val_auc: 0.9166\n",
      "Epoch 6/100\n",
      "2070/2070 [==============================] - 3162s 2s/step - loss: 0.1231 - auc: 0.9443 - val_loss: 0.1515 - val_auc: 0.9158\n",
      "Epoch 7/100\n",
      "2070/2070 [==============================] - 3074s 1s/step - loss: 0.1027 - auc: 0.9628 - val_loss: 0.1654 - val_auc: 0.9071\n",
      "Epoch 8/100\n",
      "2070/2070 [==============================] - 3114s 2s/step - loss: 0.0830 - auc: 0.9686 - val_loss: 0.1726 - val_auc: 0.8859\n"
     ]
    }
   ],
   "source": [
    "history = model.fit(train_generator, validation_data=valid_generator, steps_per_epoch=len(train_generator), validation_steps=len(valid_generator), epochs=EPOCHS, callbacks=callback)"
   ]
  },
  {
   "cell_type": "markdown",
   "metadata": {
    "id": "D1AYCHjlBMzI"
   },
   "source": [
    "### plot model history"
   ]
  },
  {
   "cell_type": "code",
   "execution_count": 19,
   "metadata": {
    "ExecuteTime": {
     "end_time": "2021-02-18T05:48:11.181970Z",
     "start_time": "2021-02-18T05:48:10.979168Z"
    },
    "colab": {
     "base_uri": "https://localhost:8080/",
     "height": 458
    },
    "id": "St2Fd8h9BMzI",
    "outputId": "61bd22e7-c9b9-4e30-9686-87e3b13b5afd"
   },
   "outputs": [
    {
     "data": {
      "image/png": "[encoded data removed]",
      "text/plain": [
       "<Figure size 1080x504 with 1 Axes>"
      ]
     },
     "metadata": {
      "tags": []
     },
     "output_type": "display_data"
    }
   ],
   "source": [
    "plot_model_history(model.history)"
   ]
  },
  {
   "cell_type": "markdown",
   "metadata": {
    "id": "WpUPaIffBMzJ"
   },
   "source": [
    "# Save model"
   ]
  },
  {
   "cell_type": "code",
   "execution_count": 22,
   "metadata": {
    "ExecuteTime": {
     "end_time": "2021-02-18T05:49:23.033522Z",
     "start_time": "2021-02-18T05:48:11.182886Z"
    },
    "colab": {
     "base_uri": "https://localhost:8080/"
    },
    "id": "zCzV4RHjBMzJ",
    "outputId": "3c22f512-55ad-41b1-fa07-8a2ea2e21bc2"
   },
   "outputs": [
    {
     "name": "stdout",
     "output_type": "stream",
     "text": [
      "INFO:tensorflow:Assets written to: /content/gdrive/MyDrive/TheCatheterNinjas/saved_model2/InceptionResNetV2_NF_12b_3p_Nadam_0005lr_480/assets\n"
     ]
    }
   ],
   "source": [
    "model.save(f'/content/gdrive/MyDrive/TheCatheterNinjas/saved_model2/{\"InceptionResNetV2_NF_12b_3p_Nadam_0005lr_480\"}')\n"
   ]
  },
  {
   "cell_type": "code",
   "execution_count": null,
   "metadata": {
    "id": "kSZqaWeiNqWj"
   },
   "outputs": [],
   "source": []
  },
  {
   "cell_type": "markdown",
   "metadata": {
    "id": "If5O034ABMzJ"
   },
   "source": [
    "# Zip model and delete"
   ]
  },
  {
   "cell_type": "code",
   "execution_count": null,
   "metadata": {
    "ExecuteTime": {
     "end_time": "2021-02-18T05:49:53.848454Z",
     "start_time": "2021-02-18T05:49:23.045860Z"
    },
    "id": "y-UxtWNMBMzJ",
    "outputId": "c14dc7d5-bfad-4432-c614-33de0249190c"
   },
   "outputs": [
    {
     "data": {
      "text/plain": [
       "CompletedProcess(args=['rm', '-r', 'InceptionResNetV2_16b_5p_nadam_lr0005_400'], returncode=0)"
      ]
     },
     "execution_count": 19,
     "metadata": {
      "tags": []
     },
     "output_type": "execute_result"
    }
   ],
   "source": [
    "zipped = '.'.join([MODEL_OUT, 'zip'])\n",
    "run(['zip', '-r', zipped, MODEL_OUT])\n",
    "run(['rm', '-r', MODEL_OUT])"
   ]
  }
 ],
 "metadata": {
  "accelerator": "GPU",
  "colab": {
   "name": "InceptionResNetV2_NF_12b_3p_Nadam_0005lr_480.ipynb",
   "provenance": []
  },
  "kernelspec": {
   "display_name": "Python 3",
   "language": "python",
   "name": "python3"
  },
  "language_info": {
   "codemirror_mode": {
    "name": "ipython",
    "version": 3
   },
   "file_extension": ".py",
   "mimetype": "text/x-python",
   "name": "python",
   "nbconvert_exporter": "python",
   "pygments_lexer": "ipython3",
   "version": "3.7.9"
  },
  "latex_envs": {
   "LaTeX_envs_menu_present": true,
   "autoclose": false,
   "autocomplete": true,
   "bibliofile": "biblio.bib",
   "cite_by": "apalike",
   "current_citInitial": 1,
   "eqLabelWithNumbers": true,
   "eqNumInitial": 1,
   "hotkeys": {
    "equation": "Ctrl-E",
    "itemize": "Ctrl-I"
   },
   "labels_anchors": false,
   "latex_user_defs": false,
   "report_style_numbering": false,
   "user_envs_cfg": false
  },
  "toc": {
   "base_numbering": 1,
   "nav_menu": {},
   "number_sections": true,
   "sideBar": true,
   "skip_h1_title": false,
   "title_cell": "Table of Contents",
   "title_sidebar": "Contents",
   "toc_cell": false,
   "toc_position": {
    "height": "calc(100% - 180px)",
    "left": "10px",
    "top": "150px",
    "width": "165px"
   },
   "toc_section_display": true,
   "toc_window_display": true
  }
 },
 "nbformat": 4,
 "nbformat_minor": 1
}
