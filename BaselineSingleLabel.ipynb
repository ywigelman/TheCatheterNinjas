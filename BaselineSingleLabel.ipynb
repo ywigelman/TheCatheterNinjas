{
 "cells": [
  {
   "cell_type": "markdown",
   "metadata": {},
   "source": [
    "# Info\n",
    "\n",
    "- building a baseline model using the cats vs. dogs architecture.\n",
    "- this baseline model includes a preprocessing steps of rescaling of all images to 80x80 size with a single channel (gray scale)\n",
    "- this baseline model is built for binary classification:\n",
    "    - output layer has a Sigmoid activation function \n",
    "    - loss function is binary_crossentropy\n",
    "    - chosen metrics is AUC with and accuracy"
   ]
  },
  {
   "cell_type": "markdown",
   "metadata": {},
   "source": [
    "# Setup\n",
    "\n",
    "## import libraries and modules"
   ]
  },
  {
   "cell_type": "code",
   "execution_count": 48,
   "metadata": {
    "ExecuteTime": {
     "end_time": "2021-01-24T16:01:36.390387Z",
     "start_time": "2021-01-24T16:01:36.358706Z"
    },
    "scrolled": true
   },
   "outputs": [],
   "source": [
    "import matplotlib.pyplot as plt\n",
    "import warnings\n",
    "import seaborn as sns\n",
    "warnings.filterwarnings(\"ignore\")\n",
    "warnings.filterwarnings(\"ignore\", category=DeprecationWarning) \n",
    "import os\n",
    "import cv2\n",
    "import numpy as np\n",
    "from pathlib import Path\n",
    "from multiprocessing import Pool\n",
    "import pandas as pd\n",
    "from tensorflow.keras.models import Sequential\n",
    "from tensorflow.keras.layers import Dense, Flatten,Conv2D, MaxPooling2D\n",
    "from tensorflow.keras.callbacks import EarlyStopping, ModelCheckpoint\n",
    "from tensorflow.keras.layers.experimental.preprocessing import Rescaling\n",
    "from tensorflow.keras.metrics import AUC\n",
    "from sklearn.metrics import confusion_matrix, classification_report\n",
    "%matplotlib inline"
   ]
  },
  {
   "cell_type": "markdown",
   "metadata": {},
   "source": [
    "## set constants"
   ]
  },
  {
   "cell_type": "code",
   "execution_count": 15,
   "metadata": {
    "ExecuteTime": {
     "end_time": "2021-01-24T15:31:59.150799Z",
     "start_time": "2021-01-24T15:31:59.142117Z"
    }
   },
   "outputs": [],
   "source": [
    "TRAIN_META = 'train.csv'\n",
    "\n",
    "TRAIN_IMG_DIR = Path('train') \n",
    "TRAIN_RESIZE_DIR = Path('BaselineSingleLabel/train_resize') \n",
    "\n",
    "TEST_IMG_DIR = Path('test') \n",
    "TEST_RESIZE_DIR = Path('BaselineSingleLabel/test_resize') \n",
    "\n",
    "CASE = 'StudyInstanceUID'\n",
    "NEW_SIZE = (80,80)\n",
    "IMG_SIZE = (80, 80, 1)\n",
    "\n",
    "VALIDATION_SIZE = 0.2\n",
    "RANDOM_STATE = 42\n",
    "\n",
    "RSCL = 1/255\n",
    "ACTIVATION = 'relu'\n",
    "N_FILTERS = 64\n",
    "FILTER2D_size = 1\n",
    "METRICS = [AUC(), 'accuracy']\n",
    "DENSE_DIM = 64\n",
    "OUT_DIM = 1\n",
    "OUT_ACTIVATION = 'sigmoid'\n",
    "OPTIMIZER = 'adam'\n",
    "LOSS = 'binary_crossentropy'\n",
    "EPOCHS = 100\n",
    "BATCH_SIZE = 32\n",
    "AVAIL_CPU = None\n",
    "\n",
    "os.makedirs(TRAIN_RESIZE_DIR, exist_ok=True)\n",
    "os.makedirs(TEST_RESIZE_DIR, exist_ok=True)\n",
    "np.random.seed(RANDOM_STATE)"
   ]
  },
  {
   "cell_type": "markdown",
   "metadata": {},
   "source": [
    "## load meta file"
   ]
  },
  {
   "cell_type": "code",
   "execution_count": 3,
   "metadata": {
    "ExecuteTime": {
     "end_time": "2021-01-24T15:26:02.812728Z",
     "start_time": "2021-01-24T15:26:02.772037Z"
    }
   },
   "outputs": [],
   "source": [
    "df = pd.read_csv(TRAIN_META)"
   ]
  },
  {
   "cell_type": "markdown",
   "metadata": {},
   "source": [
    "## get labels"
   ]
  },
  {
   "cell_type": "code",
   "execution_count": 4,
   "metadata": {
    "ExecuteTime": {
     "end_time": "2021-01-24T15:26:02.818510Z",
     "start_time": "2021-01-24T15:26:02.813871Z"
    }
   },
   "outputs": [],
   "source": [
    "labels = df.select_dtypes(int).columns"
   ]
  },
  {
   "cell_type": "markdown",
   "metadata": {},
   "source": [
    "## functions"
   ]
  },
  {
   "cell_type": "code",
   "execution_count": 5,
   "metadata": {
    "ExecuteTime": {
     "end_time": "2021-01-24T15:26:02.826343Z",
     "start_time": "2021-01-24T15:26:02.819569Z"
    }
   },
   "outputs": [],
   "source": [
    "def show_img(img: np.array, ax=None, title: str='', cmap: str = 'gray'):\n",
    "    if not ax:\n",
    "        _, ax = plt.subplots()\n",
    "    ax.imshow(img, cmap=cmap, ax=ax)\n",
    "    ax.set_title(title)\n",
    "    \n",
    "def preprocess(img_path: Path, processed_path: Path):\n",
    "    new_img = cv2.resize(cv2.imread(str(img_path), cv2.IMREAD_GRAYSCALE), NEW_SIZE)\n",
    "    cv2.imwrite(str(processed_path), new_img)\n",
    "    \n",
    "\n",
    "def validate_file(record: Path):\n",
    "    if record.is_file() & record.exists():\n",
    "        return True\n",
    "    return False\n",
    "\n",
    "\n",
    "def numipy_train(meta: pd.DataFrame, img_dir: Path, suffix: str = '.jpg', \n",
    "                 case_col: str = CASE, labels_col = labels, \n",
    "                 scale=cv2.IMREAD_GRAYSCALE, image_dir_temp_col = 'images', \n",
    "                 cpu: int=None, binary_label: str = None):\n",
    "    \n",
    "    meta[image_dir_temp_col] = img_dir / (meta[case_col] + suffix)\n",
    "    msk = meta[image_dir_temp_col].apply(validate_file)\n",
    "    meta = meta[msk]\n",
    "    if binary_label:\n",
    "        binary_label = [label for label in labels_col if binary_label in label]\n",
    "        label_values = np.any(meta[binary_label], axis=1).values\n",
    "    else:\n",
    "        label_values = meta[labels_col].values\n",
    "    images = meta[image_dir_temp_col].to_list() \n",
    "    images = [(str(image), scale) for image in images]\n",
    "    with Pool(cpu) as p: images = p.starmap(cv2.imread, images)\n",
    "    return np.array(images), label_values\n",
    "\n",
    "\n",
    "def multi_preprocess(input_dir: Path, output_dir: Path, glob: str='*.jpg',\n",
    "                      size: tuple=NEW_SIZE, scale=cv2.IMREAD_GRAYSCALE, \n",
    "                      clip_limit=None, title_grid_size=None, \n",
    "                      cpu: int=None):\n",
    "    pool_lst = []\n",
    "    os.makedirs(output_dir, exist_ok=True)\n",
    "    for input_img in input_dir.glob(glob):\n",
    "        pool_lst.append((input_img, output_dir/input_img.name, size, scale, clip_limit, title_grid_size))\n",
    "    with Pool(cpu) as p: p.starmap(preprocess, pool_lst)\n"
   ]
  },
  {
   "cell_type": "markdown",
   "metadata": {},
   "source": [
    "# Preprocess\n",
    "\n",
    "## preprocess train"
   ]
  },
  {
   "cell_type": "code",
   "execution_count": 6,
   "metadata": {
    "ExecuteTime": {
     "end_time": "2021-01-24T15:27:02.598843Z",
     "start_time": "2021-01-24T15:26:02.827250Z"
    }
   },
   "outputs": [],
   "source": [
    "multi_preprocess(TRAIN_IMG_DIR, TRAIN_RESIZE_DIR)"
   ]
  },
  {
   "cell_type": "markdown",
   "metadata": {},
   "source": [
    "## preprocess test"
   ]
  },
  {
   "cell_type": "code",
   "execution_count": 7,
   "metadata": {
    "ExecuteTime": {
     "end_time": "2021-01-24T15:27:10.298848Z",
     "start_time": "2021-01-24T15:27:02.600032Z"
    }
   },
   "outputs": [],
   "source": [
    "multi_preprocess(TEST_IMG_DIR, TEST_RESIZE_DIR)"
   ]
  },
  {
   "cell_type": "markdown",
   "metadata": {},
   "source": [
    "## convert train into numpy array"
   ]
  },
  {
   "cell_type": "code",
   "execution_count": 8,
   "metadata": {
    "ExecuteTime": {
     "end_time": "2021-01-24T15:27:11.199786Z",
     "start_time": "2021-01-24T15:27:10.300317Z"
    }
   },
   "outputs": [],
   "source": [
    "X_train, y_train = numipy_train(df, TRAIN_RESIZE_DIR, binary_label='CVC')"
   ]
  },
  {
   "cell_type": "markdown",
   "metadata": {
    "ExecuteTime": {
     "end_time": "2021-01-23T15:49:34.854458Z",
     "start_time": "2021-01-23T15:49:34.851131Z"
    }
   },
   "source": [
    "# basic CNN\n",
    "\n",
    "## make sequential model architecture"
   ]
  },
  {
   "cell_type": "code",
   "execution_count": 9,
   "metadata": {
    "ExecuteTime": {
     "end_time": "2021-01-24T15:27:11.289582Z",
     "start_time": "2021-01-24T15:27:11.201478Z"
    }
   },
   "outputs": [],
   "source": [
    "model = Sequential([Rescaling(RSCL, input_shape=IMG_SIZE, name='rescaling'),\n",
    "                    Conv2D(N_FILTERS, FILTER2D_size, activation=ACTIVATION, name='conv_1'), \n",
    "                    MaxPooling2D(name='max_pool1'),  \n",
    "                    Conv2D(N_FILTERS, FILTER2D_size, activation=ACTIVATION, name='conv_2'), \n",
    "                    MaxPooling2D(name='max_pool2'), \n",
    "                    Conv2D(N_FILTERS, FILTER2D_size, activation=ACTIVATION, name='conv_3'),\n",
    "                    MaxPooling2D(name='max_pool3'), \n",
    "                    Flatten(name='flat'), \n",
    "                    Dense(DENSE_DIM, activation=ACTIVATION, name='dense_1'), \n",
    "                    Dense(1, activation=OUT_ACTIVATION, name='out')])"
   ]
  },
  {
   "cell_type": "markdown",
   "metadata": {},
   "source": [
    "## model summary"
   ]
  },
  {
   "cell_type": "code",
   "execution_count": 10,
   "metadata": {
    "ExecuteTime": {
     "end_time": "2021-01-24T15:27:11.295567Z",
     "start_time": "2021-01-24T15:27:11.290621Z"
    }
   },
   "outputs": [
    {
     "name": "stdout",
     "output_type": "stream",
     "text": [
      "Model: \"sequential\"\n",
      "_________________________________________________________________\n",
      "Layer (type)                 Output Shape              Param #   \n",
      "=================================================================\n",
      "rescaling (Rescaling)        (None, 80, 80, 1)         0         \n",
      "_________________________________________________________________\n",
      "conv_1 (Conv2D)              (None, 80, 80, 64)        128       \n",
      "_________________________________________________________________\n",
      "max_pool1 (MaxPooling2D)     (None, 40, 40, 64)        0         \n",
      "_________________________________________________________________\n",
      "conv_2 (Conv2D)              (None, 40, 40, 64)        4160      \n",
      "_________________________________________________________________\n",
      "max_pool2 (MaxPooling2D)     (None, 20, 20, 64)        0         \n",
      "_________________________________________________________________\n",
      "conv_3 (Conv2D)              (None, 20, 20, 64)        4160      \n",
      "_________________________________________________________________\n",
      "max_pool3 (MaxPooling2D)     (None, 10, 10, 64)        0         \n",
      "_________________________________________________________________\n",
      "flat (Flatten)               (None, 6400)              0         \n",
      "_________________________________________________________________\n",
      "dense_1 (Dense)              (None, 64)                409664    \n",
      "_________________________________________________________________\n",
      "out (Dense)                  (None, 1)                 65        \n",
      "=================================================================\n",
      "Total params: 418,177\n",
      "Trainable params: 418,177\n",
      "Non-trainable params: 0\n",
      "_________________________________________________________________\n"
     ]
    }
   ],
   "source": [
    "model.summary()"
   ]
  },
  {
   "cell_type": "markdown",
   "metadata": {},
   "source": [
    "## Callbacks"
   ]
  },
  {
   "cell_type": "code",
   "execution_count": 11,
   "metadata": {
    "ExecuteTime": {
     "end_time": "2021-01-24T15:27:11.299432Z",
     "start_time": "2021-01-24T15:27:11.296568Z"
    }
   },
   "outputs": [],
   "source": [
    "checkpoint = ModelCheckpoint(\"Checkpoint/weights.{epoch:02d}-{val_loss:.2f}.hdf5\", monitor='val_loss', verbose=1, \n",
    "save_best_only=False, save_weights_only=False, mode='auto')\n",
    "callback = EarlyStopping(monitor='val_loss', patience=5)"
   ]
  },
  {
   "cell_type": "markdown",
   "metadata": {},
   "source": [
    "## compile model"
   ]
  },
  {
   "cell_type": "code",
   "execution_count": 16,
   "metadata": {
    "ExecuteTime": {
     "end_time": "2021-01-24T15:32:08.417471Z",
     "start_time": "2021-01-24T15:32:08.406279Z"
    }
   },
   "outputs": [],
   "source": [
    "model.compile(optimizer=OPTIMIZER, loss=LOSS, metrics=METRICS)"
   ]
  },
  {
   "cell_type": "markdown",
   "metadata": {},
   "source": [
    "# train"
   ]
  },
  {
   "cell_type": "code",
   "execution_count": 17,
   "metadata": {
    "ExecuteTime": {
     "end_time": "2021-01-24T15:48:59.706856Z",
     "start_time": "2021-01-24T15:32:09.206598Z"
    },
    "scrolled": true
   },
   "outputs": [
    {
     "name": "stdout",
     "output_type": "stream",
     "text": [
      "Epoch 1/100\n",
      "753/753 [==============================] - 50s 66ms/step - loss: 0.1311 - auc: 0.6050 - accuracy: 0.9643 - val_loss: 0.1005 - val_auc: 0.7431 - val_accuracy: 0.9776\n",
      "\n",
      "Epoch 00001: saving model to Checkpoint/weights.01-0.10.hdf5\n",
      "Epoch 2/100\n",
      "753/753 [==============================] - 47s 63ms/step - loss: 0.1152 - auc: 0.6653 - accuracy: 0.9743 - val_loss: 0.0982 - val_auc: 0.7587 - val_accuracy: 0.9776\n",
      "\n",
      "Epoch 00002: saving model to Checkpoint/weights.02-0.10.hdf5\n",
      "Epoch 3/100\n",
      "753/753 [==============================] - 47s 63ms/step - loss: 0.1155 - auc: 0.7041 - accuracy: 0.9734 - val_loss: 0.1024 - val_auc: 0.7657 - val_accuracy: 0.9776\n",
      "\n",
      "Epoch 00003: saving model to Checkpoint/weights.03-0.10.hdf5\n",
      "Epoch 4/100\n",
      "753/753 [==============================] - 47s 62ms/step - loss: 0.1107 - auc: 0.7059 - accuracy: 0.9748 - val_loss: 0.0983 - val_auc: 0.7574 - val_accuracy: 0.9776\n",
      "\n",
      "Epoch 00004: saving model to Checkpoint/weights.04-0.10.hdf5\n",
      "Epoch 5/100\n",
      "753/753 [==============================] - 48s 64ms/step - loss: 0.1129 - auc: 0.7083 - accuracy: 0.9741 - val_loss: 0.0975 - val_auc: 0.7665 - val_accuracy: 0.9776\n",
      "\n",
      "Epoch 00005: saving model to Checkpoint/weights.05-0.10.hdf5\n",
      "Epoch 6/100\n",
      "753/753 [==============================] - 49s 66ms/step - loss: 0.1137 - auc: 0.7014 - accuracy: 0.9739 - val_loss: 0.1018 - val_auc: 0.7701 - val_accuracy: 0.9776\n",
      "\n",
      "Epoch 00006: saving model to Checkpoint/weights.06-0.10.hdf5\n",
      "Epoch 7/100\n",
      "753/753 [==============================] - 48s 64ms/step - loss: 0.1080 - auc: 0.7199 - accuracy: 0.9754 - val_loss: 0.0994 - val_auc: 0.7608 - val_accuracy: 0.9776\n",
      "\n",
      "Epoch 00007: saving model to Checkpoint/weights.07-0.10.hdf5\n",
      "Epoch 8/100\n",
      "753/753 [==============================] - 49s 65ms/step - loss: 0.1086 - auc: 0.7270 - accuracy: 0.9750 - val_loss: 0.1000 - val_auc: 0.7715 - val_accuracy: 0.9776\n",
      "\n",
      "Epoch 00008: saving model to Checkpoint/weights.08-0.10.hdf5\n",
      "Epoch 9/100\n",
      "753/753 [==============================] - 48s 64ms/step - loss: 0.1087 - auc: 0.7474 - accuracy: 0.9743 - val_loss: 0.0962 - val_auc: 0.7712 - val_accuracy: 0.9776\n",
      "\n",
      "Epoch 00009: saving model to Checkpoint/weights.09-0.10.hdf5\n",
      "Epoch 10/100\n",
      "753/753 [==============================] - 49s 65ms/step - loss: 0.1059 - auc: 0.7323 - accuracy: 0.9755 - val_loss: 0.0970 - val_auc: 0.7725 - val_accuracy: 0.9776\n",
      "\n",
      "Epoch 00010: saving model to Checkpoint/weights.10-0.10.hdf5\n",
      "Epoch 11/100\n",
      "753/753 [==============================] - 48s 63ms/step - loss: 0.1055 - auc: 0.7696 - accuracy: 0.9746 - val_loss: 0.0984 - val_auc: 0.7692 - val_accuracy: 0.9776\n",
      "\n",
      "Epoch 00011: saving model to Checkpoint/weights.11-0.10.hdf5\n",
      "Epoch 12/100\n",
      "753/753 [==============================] - 47s 62ms/step - loss: 0.1094 - auc: 0.7393 - accuracy: 0.9745 - val_loss: 0.0985 - val_auc: 0.7695 - val_accuracy: 0.9776\n",
      "\n",
      "Epoch 00012: saving model to Checkpoint/weights.12-0.10.hdf5\n",
      "Epoch 13/100\n",
      "753/753 [==============================] - 47s 63ms/step - loss: 0.1059 - auc: 0.7483 - accuracy: 0.9749 - val_loss: 0.0957 - val_auc: 0.7751 - val_accuracy: 0.9776\n",
      "\n",
      "Epoch 00013: saving model to Checkpoint/weights.13-0.10.hdf5\n",
      "Epoch 14/100\n",
      "753/753 [==============================] - 48s 63ms/step - loss: 0.0978 - auc: 0.7962 - accuracy: 0.9760 - val_loss: 0.0958 - val_auc: 0.7700 - val_accuracy: 0.9776\n",
      "\n",
      "Epoch 00014: saving model to Checkpoint/weights.14-0.10.hdf5\n",
      "Epoch 15/100\n",
      "753/753 [==============================] - 48s 63ms/step - loss: 0.0993 - auc: 0.7900 - accuracy: 0.9755 - val_loss: 0.0969 - val_auc: 0.7644 - val_accuracy: 0.9776\n",
      "\n",
      "Epoch 00015: saving model to Checkpoint/weights.15-0.10.hdf5\n",
      "Epoch 16/100\n",
      "753/753 [==============================] - 49s 65ms/step - loss: 0.1010 - auc: 0.8097 - accuracy: 0.9743 - val_loss: 0.0957 - val_auc: 0.7718 - val_accuracy: 0.9776\n",
      "\n",
      "Epoch 00016: saving model to Checkpoint/weights.16-0.10.hdf5\n",
      "Epoch 17/100\n",
      "753/753 [==============================] - 48s 63ms/step - loss: 0.0987 - auc: 0.8216 - accuracy: 0.9745 - val_loss: 0.1003 - val_auc: 0.7340 - val_accuracy: 0.9776\n",
      "\n",
      "Epoch 00017: saving model to Checkpoint/weights.17-0.10.hdf5\n",
      "Epoch 18/100\n",
      "753/753 [==============================] - 49s 65ms/step - loss: 0.0972 - auc: 0.8366 - accuracy: 0.9744 - val_loss: 0.0966 - val_auc: 0.7566 - val_accuracy: 0.9776\n",
      "\n",
      "Epoch 00018: saving model to Checkpoint/weights.18-0.10.hdf5\n",
      "Epoch 19/100\n",
      "753/753 [==============================] - 48s 64ms/step - loss: 0.0987 - auc: 0.8317 - accuracy: 0.9741 - val_loss: 0.0988 - val_auc: 0.7468 - val_accuracy: 0.9777\n",
      "\n",
      "Epoch 00019: saving model to Checkpoint/weights.19-0.10.hdf5\n",
      "Epoch 20/100\n",
      "753/753 [==============================] - 48s 64ms/step - loss: 0.0984 - auc: 0.8518 - accuracy: 0.9727 - val_loss: 0.0980 - val_auc: 0.7457 - val_accuracy: 0.9776\n",
      "\n",
      "Epoch 00020: saving model to Checkpoint/weights.20-0.10.hdf5\n",
      "Epoch 21/100\n",
      "753/753 [==============================] - 47s 63ms/step - loss: 0.0940 - auc: 0.8465 - accuracy: 0.9747 - val_loss: 0.1031 - val_auc: 0.7469 - val_accuracy: 0.9776\n",
      "\n",
      "Epoch 00021: saving model to Checkpoint/weights.21-0.10.hdf5\n"
     ]
    },
    {
     "data": {
      "text/plain": [
       "<tensorflow.python.keras.callbacks.History at 0x7f6d9a1320a0>"
      ]
     },
     "execution_count": 17,
     "metadata": {},
     "output_type": "execute_result"
    }
   ],
   "source": [
    "model.fit(X_train, y_train, validation_split=VALIDATION_SIZE, batch_size=BATCH_SIZE, epochs=EPOCHS, callbacks=[checkpoint, callback])"
   ]
  },
  {
   "cell_type": "markdown",
   "metadata": {},
   "source": [
    "# evaluation"
   ]
  },
  {
   "cell_type": "code",
   "execution_count": 49,
   "metadata": {
    "ExecuteTime": {
     "end_time": "2021-01-24T16:01:57.484536Z",
     "start_time": "2021-01-24T16:01:40.838154Z"
    }
   },
   "outputs": [],
   "source": [
    "pred = np.where(model.predict(X_train)<0.5, 0, 1) "
   ]
  },
  {
   "cell_type": "code",
   "execution_count": 45,
   "metadata": {
    "ExecuteTime": {
     "end_time": "2021-01-24T16:00:01.866233Z",
     "start_time": "2021-01-24T15:59:45.829641Z"
    }
   },
   "outputs": [],
   "source": [
    "cm = confusion_matrix(y_train, np.where(model.predict(X_train)<0.5, 0, 1))"
   ]
  },
  {
   "cell_type": "code",
   "execution_count": 52,
   "metadata": {
    "ExecuteTime": {
     "end_time": "2021-01-24T16:04:00.496542Z",
     "start_time": "2021-01-24T16:04:00.471464Z"
    }
   },
   "outputs": [
    {
     "name": "stdout",
     "output_type": "stream",
     "text": [
      "              precision    recall  f1-score   support\n",
      "\n",
      "       False       1.00      0.01      0.02       750\n",
      "        True       0.98      1.00      0.99     29333\n",
      "\n",
      "    accuracy                           0.98     30083\n",
      "   macro avg       0.99      0.50      0.50     30083\n",
      "weighted avg       0.98      0.98      0.96     30083\n",
      "\n"
     ]
    }
   ],
   "source": [
    "print(classification_report(y_train, pred))"
   ]
  },
  {
   "cell_type": "code",
   "execution_count": 55,
   "metadata": {
    "ExecuteTime": {
     "end_time": "2021-01-24T16:06:41.730882Z",
     "start_time": "2021-01-24T16:06:41.623995Z"
    }
   },
   "outputs": [
    {
     "data": {
      "image/png": "[encoded data removed]",
      "text/plain": [
       "<Figure size 432x288 with 2 Axes>"
      ]
     },
     "metadata": {
      "needs_background": "light"
     },
     "output_type": "display_data"
    }
   ],
   "source": [
    "sns.heatmap(pd.DataFrame(cm, index = ['False', 'True'], columns = ['False', 'True']), annot=True)\n",
    "plt.show()"
   ]
  }
 ],
 "metadata": {
  "kernelspec": {
   "display_name": "Python [conda env:ITC] *",
   "language": "python",
   "name": "conda-env-ITC-py"
  },
  "language_info": {
   "codemirror_mode": {
    "name": "ipython",
    "version": 3
   },
   "file_extension": ".py",
   "mimetype": "text/x-python",
   "name": "python",
   "nbconvert_exporter": "python",
   "pygments_lexer": "ipython3",
   "version": "3.8.2"
  },
  "latex_envs": {
   "LaTeX_envs_menu_present": true,
   "autoclose": false,
   "autocomplete": true,
   "bibliofile": "biblio.bib",
   "cite_by": "apalike",
   "current_citInitial": 1,
   "eqLabelWithNumbers": true,
   "eqNumInitial": 1,
   "hotkeys": {
    "equation": "Ctrl-E",
    "itemize": "Ctrl-I"
   },
   "labels_anchors": false,
   "latex_user_defs": false,
   "report_style_numbering": false,
   "user_envs_cfg": false
  },
  "toc": {
   "base_numbering": 1,
   "nav_menu": {},
   "number_sections": true,
   "sideBar": true,
   "skip_h1_title": false,
   "title_cell": "Table of Contents",
   "title_sidebar": "Contents",
   "toc_cell": false,
   "toc_position": {},
   "toc_section_display": true,
   "toc_window_display": true
  }
 },
 "nbformat": 4,
 "nbformat_minor": 4
}