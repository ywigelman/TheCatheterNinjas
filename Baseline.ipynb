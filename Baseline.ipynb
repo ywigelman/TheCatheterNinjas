{
 "cells": [
  {
   "cell_type": "markdown",
   "metadata": {},
   "source": [
    "# Setup\n",
    "\n",
    "## import libraries and modules"
   ]
  },
  {
   "cell_type": "code",
   "execution_count": 15,
   "metadata": {
    "ExecuteTime": {
     "end_time": "2021-01-24T04:52:25.267797Z",
     "start_time": "2021-01-24T04:52:25.255285Z"
    },
    "scrolled": true
   },
   "outputs": [],
   "source": [
    "import pandas as pd\n",
    "import matplotlib.pyplot as plt\n",
    "from itertools import permutations\n",
    "import warnings\n",
    "import numpy as np\n",
    "from pathlib import Path\n",
    "import cv2\n",
    "from collections import Counter\n",
    "import seaborn as sns\n",
    "warnings.filterwarnings(\"ignore\")\n",
    "import warnings\n",
    "import os\n",
    "import cv2\n",
    "import numpy as np\n",
    "from random import shuffle\n",
    "from pathlib import Path\n",
    "from typing import Union\n",
    "from multiprocessing import Pool\n",
    "\n",
    "import pandas as pd\n",
    "import tensorflow \n",
    "from tensorflow.keras.models import Sequential\n",
    "from tensorflow.keras.layers import Dense, Activation, Dropout, Flatten,Conv2D, MaxPooling2D\n",
    "from tensorflow.keras.layers import BatchNormalization\n",
    "from tensorflow.keras.callbacks import EarlyStopping, ModelCheckpoint\n",
    "from tensorflow.keras.preprocessing.image import ImageDataGenerator \n",
    "from tensorflow.keras.layers.experimental.preprocessing import Rescaling\n",
    "from tensorflow.keras.metrics import AUC\n",
    "\n",
    "\n",
    "from sklearn.model_selection import train_test_split\n",
    "\n",
    "\n",
    "%matplotlib inline"
   ]
  },
  {
   "cell_type": "markdown",
   "metadata": {},
   "source": [
    "## set constants"
   ]
  },
  {
   "cell_type": "code",
   "execution_count": 13,
   "metadata": {
    "ExecuteTime": {
     "end_time": "2021-01-24T04:50:30.402540Z",
     "start_time": "2021-01-24T04:50:30.385126Z"
    }
   },
   "outputs": [],
   "source": [
    "TRAIN_META = 'train.csv'\n",
    "\n",
    "TRAIN_IMG_DIR = Path('train') \n",
    "TRAIN_RESIZE_DIR = Path('train_resize') \n",
    "\n",
    "TEST_IMG_DIR = Path('test') \n",
    "TEST_RESIZE_DIR = Path('test_resize') \n",
    "\n",
    "\n",
    "CASE = 'StudyInstanceUID'\n",
    "NEW_SIZE = (448,448)\n",
    "IMG_SIZE = (448, 448, 1)\n",
    "RANDOM_STATE = 42\n",
    "VALIDATION_SIZE = 0.2\n",
    "\n",
    "EXPECTED_X_SHAPE = (23262, 80, 80, 3)\n",
    "TEST_VALIDATION_SIZE = 0.1\n",
    "RANDOM_STATE = 42\n",
    "CATS_LABEL = 0\n",
    "DOGS_LABEL = 1\n",
    "IMG_RESIZE = (80, 80)\n",
    "RSCL = 1/255\n",
    "ACTIVATION = 'relu'\n",
    "N_FILTERS = 64\n",
    "FILTER2D_size = 1\n",
    "METRICS = 'auc'\n",
    "DENSE_DIM = 64\n",
    "OUT_DIM = 1\n",
    "OUT_ACTIVATION = 'sigmoid'\n",
    "OPTIMIZER = 'adam'\n",
    "LOSS = 'binary_crossentropy'\n",
    "EPOCHS = 10\n",
    "BATCH_SIZE = 32\n",
    "AVAIL_CPU = None\n",
    "\n",
    "np.random.seed(RANDOM_STATE)"
   ]
  },
  {
   "cell_type": "markdown",
   "metadata": {},
   "source": [
    "## load meta file"
   ]
  },
  {
   "cell_type": "code",
   "execution_count": 3,
   "metadata": {
    "ExecuteTime": {
     "end_time": "2021-01-24T04:46:38.316179Z",
     "start_time": "2021-01-24T04:46:38.279294Z"
    }
   },
   "outputs": [],
   "source": [
    "df = pd.read_csv(TRAIN_META)"
   ]
  },
  {
   "cell_type": "markdown",
   "metadata": {},
   "source": [
    "## get labels"
   ]
  },
  {
   "cell_type": "code",
   "execution_count": 4,
   "metadata": {
    "ExecuteTime": {
     "end_time": "2021-01-24T04:46:38.320800Z",
     "start_time": "2021-01-24T04:46:38.317148Z"
    }
   },
   "outputs": [],
   "source": [
    "labels = df.select_dtypes(int).columns"
   ]
  },
  {
   "cell_type": "markdown",
   "metadata": {},
   "source": [
    "## functions"
   ]
  },
  {
   "cell_type": "code",
   "execution_count": 5,
   "metadata": {
    "ExecuteTime": {
     "end_time": "2021-01-24T04:46:38.327712Z",
     "start_time": "2021-01-24T04:46:38.321883Z"
    }
   },
   "outputs": [],
   "source": [
    "def show_img(img: np.array, ax=None, title: str='', cmap: str = 'gray'):\n",
    "    _, ax = plt.subplots() \n",
    "    ax.imshow(img, cmap=cmap)\n",
    "    ax.set_title(title)\n",
    "    \n",
    "def preprocess(img_path: Path, processed_path: Path, size: tuple=NEW_SIZE, \n",
    "               scale=cv2.IMREAD_GRAYSCALE, clip_limit=None, \n",
    "               title_grid_size=None):\n",
    "    new_img = cv2.createCLAHE(clipLimit=clip_limit, \n",
    "                              tileGridSize=title_grid_size).apply(\n",
    "        cv2.resize(cv2.imread(str(img_path), cv2.IMREAD_GRAYSCALE), NEW_SIZE))\n",
    "    cv2.imwrite(str(processed_path), new_img)\n",
    "    \n",
    "\n",
    "def validate_file(record: Path):\n",
    "    if record.is_file() & record.exists():\n",
    "        return True\n",
    "    return False\n",
    "\n",
    "\n",
    "def numipy_train(meta: pd.DataFrame, img_dir: Path,\n",
    "                 suffix: str = '.jpg', case_col: str = CASE, \n",
    "                 labels_col = labels, \n",
    "                 scale=cv2.IMREAD_GRAYSCALE, \n",
    "                 image_dir_temp_col = 'images', cpu: int=None):\n",
    "    \n",
    "    meta[image_dir_temp_col] = img_dir / (meta[case_col] + suffix)\n",
    "    msk = meta[image_dir_temp_col].apply(validate_file)\n",
    "    meta = meta[msk]\n",
    "    images, label_values = meta[image_dir_temp_col].to_list(), meta[labels_col].values\n",
    "    images = [(str(image), scale) for image in images]\n",
    "    with Pool(cpu) as p: images = p.starmap(cv2.imread, images)\n",
    "    return np.array(images), label_values\n",
    "\n",
    "\n",
    "def multi_preproccess(input_dir: Path, output_dir: Path, glob: str='*.jpg', \n",
    "                      size: tuple=NEW_SIZE, scale=cv2.IMREAD_GRAYSCALE, \n",
    "                      clip_limit=None, title_grid_size=None, \n",
    "                      cpu: int=None):\n",
    "    pool_lst = []\n",
    "    os.makedirs(output_dir, exist_ok=True)\n",
    "    for input_img in input_dir.glob(glob):\n",
    "        pool_lst.append((input_img, output_dir/input_img.name, size, scale, clip_limit, title_grid_size))\n",
    "    with Pool(cpu) as p: p.starmap(preprocess, pool_lst)\n"
   ]
  },
  {
   "cell_type": "markdown",
   "metadata": {},
   "source": [
    "# Preprocess\n",
    "\n",
    "## preprocess train"
   ]
  },
  {
   "cell_type": "code",
   "execution_count": 6,
   "metadata": {
    "ExecuteTime": {
     "end_time": "2021-01-24T04:48:53.884218Z",
     "start_time": "2021-01-24T04:46:38.328809Z"
    }
   },
   "outputs": [],
   "source": [
    "multi_preproccess(TRAIN_IMG_DIR, TRAIN_RESIZE_DIR)"
   ]
  },
  {
   "cell_type": "markdown",
   "metadata": {},
   "source": [
    "## preprocess test"
   ]
  },
  {
   "cell_type": "code",
   "execution_count": 7,
   "metadata": {
    "ExecuteTime": {
     "end_time": "2021-01-24T04:49:11.281745Z",
     "start_time": "2021-01-24T04:48:53.885446Z"
    }
   },
   "outputs": [],
   "source": [
    "multi_preproccess(TEST_IMG_DIR, TEST_RESIZE_DIR)"
   ]
  },
  {
   "cell_type": "markdown",
   "metadata": {},
   "source": [
    "## convert train into numpy array"
   ]
  },
  {
   "cell_type": "code",
   "execution_count": 8,
   "metadata": {
    "ExecuteTime": {
     "end_time": "2021-01-24T04:49:24.028280Z",
     "start_time": "2021-01-24T04:49:11.283444Z"
    }
   },
   "outputs": [],
   "source": [
    "X_train, y_train = numipy_train(df, TRAIN_RESIZE_DIR)"
   ]
  },
  {
   "cell_type": "markdown",
   "metadata": {
    "ExecuteTime": {
     "end_time": "2021-01-23T15:49:34.854458Z",
     "start_time": "2021-01-23T15:49:34.851131Z"
    }
   },
   "source": [
    "# basic CNN\n",
    "\n",
    "## make sequential model architecture"
   ]
  },
  {
   "cell_type": "code",
   "execution_count": 9,
   "metadata": {
    "ExecuteTime": {
     "end_time": "2021-01-24T04:49:25.955858Z",
     "start_time": "2021-01-24T04:49:24.030331Z"
    }
   },
   "outputs": [],
   "source": [
    "model = Sequential([Rescaling(RSCL, input_shape=IMG_SIZE, name='rescaling'),\n",
    "                    Conv2D(N_FILTERS, FILTER2D_size, activation=ACTIVATION, name='conv_1'), \n",
    "                    MaxPooling2D(name='max_pool1'),  \n",
    "                    Conv2D(N_FILTERS, FILTER2D_size, activation=ACTIVATION, name='conv_2'), \n",
    "                    MaxPooling2D(name='max_pool2'), \n",
    "                    Conv2D(N_FILTERS, FILTER2D_size, activation=ACTIVATION, name='conv_3'),\n",
    "                    MaxPooling2D(name='max_pool3'), \n",
    "                    Flatten(name='flat'), \n",
    "                    Dense(DENSE_DIM, activation=ACTIVATION, name='dense_1'), \n",
    "                    Dense(len(labels), activation=OUT_ACTIVATION, name='out')])"
   ]
  },
  {
   "cell_type": "markdown",
   "metadata": {},
   "source": [
    "## model summary"
   ]
  },
  {
   "cell_type": "code",
   "execution_count": 10,
   "metadata": {
    "ExecuteTime": {
     "end_time": "2021-01-24T04:49:25.962062Z",
     "start_time": "2021-01-24T04:49:25.956902Z"
    }
   },
   "outputs": [
    {
     "name": "stdout",
     "output_type": "stream",
     "text": [
      "Model: \"sequential\"\n",
      "_________________________________________________________________\n",
      "Layer (type)                 Output Shape              Param #   \n",
      "=================================================================\n",
      "rescaling (Rescaling)        (None, 448, 448, 1)       0         \n",
      "_________________________________________________________________\n",
      "conv_1 (Conv2D)              (None, 448, 448, 64)      128       \n",
      "_________________________________________________________________\n",
      "max_pool1 (MaxPooling2D)     (None, 224, 224, 64)      0         \n",
      "_________________________________________________________________\n",
      "conv_2 (Conv2D)              (None, 224, 224, 64)      4160      \n",
      "_________________________________________________________________\n",
      "max_pool2 (MaxPooling2D)     (None, 112, 112, 64)      0         \n",
      "_________________________________________________________________\n",
      "conv_3 (Conv2D)              (None, 112, 112, 64)      4160      \n",
      "_________________________________________________________________\n",
      "max_pool3 (MaxPooling2D)     (None, 56, 56, 64)        0         \n",
      "_________________________________________________________________\n",
      "flat (Flatten)               (None, 200704)            0         \n",
      "_________________________________________________________________\n",
      "dense_1 (Dense)              (None, 64)                12845120  \n",
      "_________________________________________________________________\n",
      "out (Dense)                  (None, 11)                715       \n",
      "=================================================================\n",
      "Total params: 12,854,283\n",
      "Trainable params: 12,854,283\n",
      "Non-trainable params: 0\n",
      "_________________________________________________________________\n"
     ]
    }
   ],
   "source": [
    "model.summary()"
   ]
  },
  {
   "cell_type": "markdown",
   "metadata": {},
   "source": [
    "## Callbacks"
   ]
  },
  {
   "cell_type": "code",
   "execution_count": 11,
   "metadata": {
    "ExecuteTime": {
     "end_time": "2021-01-24T04:49:25.972548Z",
     "start_time": "2021-01-24T04:49:25.963082Z"
    }
   },
   "outputs": [],
   "source": [
    "checkpoint = ModelCheckpoint(\"Checkpoint/weights.{epoch:02d}-{val_loss:.2f}.hdf5\", monitor='val_loss', verbose=1, \n",
    "save_best_only=False, save_weights_only=False, mode='auto')\n",
    "callback = EarlyStopping(monitor='val_loss', patience=2)"
   ]
  },
  {
   "cell_type": "markdown",
   "metadata": {},
   "source": [
    "## compile model"
   ]
  },
  {
   "cell_type": "code",
   "execution_count": 17,
   "metadata": {
    "ExecuteTime": {
     "end_time": "2021-01-24T04:55:34.554578Z",
     "start_time": "2021-01-24T04:55:34.514901Z"
    }
   },
   "outputs": [],
   "source": [
    "model.compile(optimizer=OPTIMIZER, loss=LOSS, metrics=AUC())"
   ]
  },
  {
   "cell_type": "markdown",
   "metadata": {},
   "source": [
    "# train"
   ]
  },
  {
   "cell_type": "code",
   "execution_count": null,
   "metadata": {
    "ExecuteTime": {
     "start_time": "2021-01-24T04:55:37.422Z"
    },
    "scrolled": false
   },
   "outputs": [
    {
     "name": "stdout",
     "output_type": "stream",
     "text": [
      "Epoch 1/10\n",
      "184/847 [=====>........................] - ETA: 20:40 - loss: 0.3093 - auc: 0.8580"
     ]
    }
   ],
   "source": [
    "model.fit(X_train, y_train, validation_split=TEST_VALIDATION_SIZE, batch_size=BATCH_SIZE, epochs=EPOCHS)"
   ]
  },
  {
   "cell_type": "code",
   "execution_count": 40,
   "metadata": {
    "ExecuteTime": {
     "end_time": "2021-01-23T22:41:59.627361Z",
     "start_time": "2021-01-23T22:41:43.009160Z"
    }
   },
   "outputs": [
    {
     "data": {
      "text/plain": [
       "array([0.997, 0.969, 0.867, 0.992, 0.975, 0.921, 0.895, 0.883, 0.745,\n",
       "       0.749, 0.978])"
      ]
     },
     "execution_count": 40,
     "metadata": {},
     "output_type": "execute_result"
    }
   ],
   "source": [
    "np.mean(np.where(model.predict(X_train[:1000]) > 0.5, 1, 0) == y_train[:1000], axis=0)"
   ]
  },
  {
   "cell_type": "code",
   "execution_count": 1,
   "metadata": {
    "ExecuteTime": {
     "end_time": "2021-01-23T20:03:34.579355Z",
     "start_time": "2021-01-23T20:03:31.634761Z"
    }
   },
   "outputs": [
    {
     "name": "stdout",
     "output_type": "stream",
     "text": [
      "Please install GPU version of TF\n"
     ]
    }
   ],
   "source": [
    "import tensorflow as tf \n",
    "\n",
    "if tf.test.gpu_device_name():\n",
    "    print('Default GPU Device:{}'.format(tf.test.gpu_device_name()))\n",
    "else:\n",
    "          print(\"Please install GPU version of TF\")"
   ]
  },
  {
   "cell_type": "code",
   "execution_count": null,
   "metadata": {},
   "outputs": [],
   "source": [
    "pip install tens"
   ]
  },
  {
   "cell_type": "code",
   "execution_count": 2,
   "metadata": {
    "ExecuteTime": {
     "end_time": "2021-01-23T20:03:36.421464Z",
     "start_time": "2021-01-23T20:03:36.386898Z"
    }
   },
   "outputs": [
    {
     "data": {
      "text/plain": [
       "''"
      ]
     },
     "execution_count": 2,
     "metadata": {},
     "output_type": "execute_result"
    }
   ],
   "source": [
    "tf.test.gpu_device_name()"
   ]
  },
  {
   "cell_type": "code",
   "execution_count": 3,
   "metadata": {
    "ExecuteTime": {
     "end_time": "2021-01-23T20:03:38.806025Z",
     "start_time": "2021-01-23T20:03:38.802510Z"
    }
   },
   "outputs": [
    {
     "data": {
      "text/plain": [
       "[PhysicalDevice(name='/physical_device:CPU:0', device_type='CPU'),\n",
       " PhysicalDevice(name='/physical_device:XLA_CPU:0', device_type='XLA_CPU')]"
      ]
     },
     "execution_count": 3,
     "metadata": {},
     "output_type": "execute_result"
    }
   ],
   "source": [
    "tf.config.list_physical_devices()"
   ]
  },
  {
   "cell_type": "code",
   "execution_count": 4,
   "metadata": {
    "ExecuteTime": {
     "end_time": "2021-01-23T20:03:40.246145Z",
     "start_time": "2021-01-23T20:03:40.242810Z"
    }
   },
   "outputs": [
    {
     "data": {
      "text/plain": [
       "[PhysicalDevice(name='/physical_device:CPU:0', device_type='CPU'),\n",
       " PhysicalDevice(name='/physical_device:XLA_CPU:0', device_type='XLA_CPU')]"
      ]
     },
     "execution_count": 4,
     "metadata": {},
     "output_type": "execute_result"
    }
   ],
   "source": [
    "import tensorflow as tf\n",
    "tf.config.list_physical_devices()\n"
   ]
  },
  {
   "cell_type": "code",
   "execution_count": 5,
   "metadata": {
    "ExecuteTime": {
     "end_time": "2021-01-23T20:03:41.246017Z",
     "start_time": "2021-01-23T20:03:41.242759Z"
    }
   },
   "outputs": [
    {
     "data": {
      "text/plain": [
       "[PhysicalDevice(name='/physical_device:CPU:0', device_type='CPU'),\n",
       " PhysicalDevice(name='/physical_device:XLA_CPU:0', device_type='XLA_CPU')]"
      ]
     },
     "execution_count": 5,
     "metadata": {},
     "output_type": "execute_result"
    }
   ],
   "source": [
    "tf.config.list_physical_devices()"
   ]
  },
  {
   "cell_type": "code",
   "execution_count": 6,
   "metadata": {
    "ExecuteTime": {
     "end_time": "2021-01-23T20:03:42.655607Z",
     "start_time": "2021-01-23T20:03:42.651954Z"
    }
   },
   "outputs": [
    {
     "name": "stdout",
     "output_type": "stream",
     "text": [
      "[name: \"/device:CPU:0\"\n",
      "device_type: \"CPU\"\n",
      "memory_limit: 268435456\n",
      "locality {\n",
      "}\n",
      "incarnation: 2381222212827099578\n",
      ", name: \"/device:XLA_CPU:0\"\n",
      "device_type: \"XLA_CPU\"\n",
      "memory_limit: 17179869184\n",
      "locality {\n",
      "}\n",
      "incarnation: 14406834617830753902\n",
      "physical_device_desc: \"device: XLA_CPU device\"\n",
      "]\n"
     ]
    }
   ],
   "source": [
    "from tensorflow.python.client import device_lib \n",
    "print(device_lib.list_local_devices())\n",
    "\n"
   ]
  },
  {
   "cell_type": "code",
   "execution_count": null,
   "metadata": {},
   "outputs": [],
   "source": []
  }
 ],
 "metadata": {
  "kernelspec": {
   "display_name": "Python [conda env:ITC] *",
   "language": "python",
   "name": "conda-env-ITC-py"
  },
  "language_info": {
   "codemirror_mode": {
    "name": "ipython",
    "version": 3
   },
   "file_extension": ".py",
   "mimetype": "text/x-python",
   "name": "python",
   "nbconvert_exporter": "python",
   "pygments_lexer": "ipython3",
   "version": "3.8.2"
  },
  "latex_envs": {
   "LaTeX_envs_menu_present": true,
   "autoclose": false,
   "autocomplete": true,
   "bibliofile": "biblio.bib",
   "cite_by": "apalike",
   "current_citInitial": 1,
   "eqLabelWithNumbers": true,
   "eqNumInitial": 1,
   "hotkeys": {
    "equation": "Ctrl-E",
    "itemize": "Ctrl-I"
   },
   "labels_anchors": false,
   "latex_user_defs": false,
   "report_style_numbering": false,
   "user_envs_cfg": false
  },
  "toc": {
   "base_numbering": 1,
   "nav_menu": {},
   "number_sections": true,
   "sideBar": true,
   "skip_h1_title": false,
   "title_cell": "Table of Contents",
   "title_sidebar": "Contents",
   "toc_cell": false,
   "toc_position": {},
   "toc_section_display": true,
   "toc_window_display": false
  }
 },
 "nbformat": 4,
 "nbformat_minor": 4
}
